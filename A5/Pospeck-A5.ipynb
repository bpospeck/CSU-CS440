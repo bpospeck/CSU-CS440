{
 "cells": [
  {
   "cell_type": "markdown",
   "metadata": {},
   "source": [
    "# A5- Reinforcement Learning Solution to the Towers of Hanoi Puzzle\n",
    "Bradley Pospeck"
   ]
  },
  {
   "cell_type": "markdown",
   "metadata": {},
   "source": [
    "## Introduction"
   ]
  },
  {
   "cell_type": "markdown",
   "metadata": {},
   "source": [
    "For this assignment, reinforcement learning will be used to solve the [Towers of Hanoi](https://en.wikipedia.org/wiki/Tower_of_Hanoi).  \n",
    "\n",
    "To keep things simpler, I will be writing code to handle just a 3 peg, 3 disc tower of hanoi. I can always come back in the future and generalize it to any amount of discs and pegs. The machine learning algorithm will allow the program to teach itself how to solve the Towers of Hanoi optimally.\n",
    "\n",
    "The reinforcement learning technique used will be based on state-action value, or Q, functions. The Q function will keep track of learned outcomes of each individual state-action pair and update itself constantly as it learns what is best. The updates to the Q function will be done with temporal difference (TD). TD uses $\\text{value}(s_{t+1},a_{t+1})$ as an estimate of return from the next state to update the current state-action value: $\\;\\;\\; \\text{value}(s_t,a_t) \\approx r_{t+1} + \\text{value}(s_{t+1},a_{t+1})$\n",
    "\n",
    "States and actions can be various things, depending on the problem. In the case of the Towers of Hanoi, the state represents which discs are on which pegs and in what order. The actions represent the valid set of discs that can be moved to a different peg legally. For example: the image below, from http://www.texample.net/media/tikz/examples/PNG/towers-of-hanoi.png, represents the starting state of a typical 3 disc, 3 peg Tower of Hanoi. In this case, there are 2 valid moves (or actions) that can be taken. Disc 1 can be moved from the 1st peg to either the 2nd or 3rd peg."
   ]
  },
  {
   "cell_type": "code",
   "execution_count": 1,
   "metadata": {},
   "outputs": [
    {
     "data": {
      "text/html": [
       "<img src=\"http://www.texample.net/media/tikz/examples/PNG/towers-of-hanoi.png\"/>"
      ],
      "text/plain": [
       "<IPython.core.display.Image object>"
      ]
     },
     "execution_count": 1,
     "metadata": {},
     "output_type": "execute_result"
    }
   ],
   "source": [
    "from IPython.display import Image\n",
    "from IPython.core.display import HTML \n",
    "Image(url= \"http://www.texample.net/media/tikz/examples/PNG/towers-of-hanoi.png\")"
   ]
  },
  {
   "cell_type": "markdown",
   "metadata": {},
   "source": [
    "## Imports"
   ]
  },
  {
   "cell_type": "code",
   "execution_count": 2,
   "metadata": {
    "collapsed": true
   },
   "outputs": [],
   "source": [
    "import copy\n",
    "import numpy as np\n",
    "import random\n",
    "import matplotlib.pyplot as plt\n",
    "%matplotlib inline"
   ]
  },
  {
   "cell_type": "markdown",
   "metadata": {},
   "source": [
    "## Towers of Hanoi Setup Functions"
   ]
  },
  {
   "cell_type": "markdown",
   "metadata": {},
   "source": [
    "For purposes of debugging, and being able to see the path the program takes, it makes sense to start with a function that can print the state of the Tower of Hanoi."
   ]
  },
  {
   "cell_type": "code",
   "execution_count": 3,
   "metadata": {
    "collapsed": true
   },
   "outputs": [],
   "source": [
    "def printState(copyState):\n",
    "    \"\"\"state is a list of lists. Each inner list represents a peg and contains the discs. Smaller discs are smaller numbers\"\"\"\n",
    "    discCount = [0]*3    # will store the number of discs on each peg\n",
    "    index = 0\n",
    "    state = copy.deepcopy(copyState)\n",
    "    for peg in state:\n",
    "        if not peg: \n",
    "            index += 1\n",
    "            continue\n",
    "        discCount[index] = len(peg)\n",
    "        index += 1\n",
    "    maxDisc = max(discCount)\n",
    "    while maxDisc > 0:\n",
    "        if not state[0] or len(state[0]) != maxDisc:\n",
    "            print(\" \",end='')\n",
    "        else:\n",
    "            print(state[0][0],end='')\n",
    "            state[0].pop(0)\n",
    "        if not state[1] or len(state[1]) != maxDisc:\n",
    "            print(\" \",end='')\n",
    "        else:\n",
    "            print(state[1][0],end='')\n",
    "            state[1].pop(0)\n",
    "        if not state[2] or len(state[2]) != maxDisc:\n",
    "            print(\" \")\n",
    "        else:\n",
    "            print(state[2][0])\n",
    "            state[2].pop(0)\n",
    "        maxDisc -= 1\n",
    "    print(\"---\")"
   ]
  },
  {
   "cell_type": "markdown",
   "metadata": {},
   "source": [
    "We will also need to be able to tell the program which moves are valid at any given state so that it understands the action rules."
   ]
  },
  {
   "cell_type": "code",
   "execution_count": 4,
   "metadata": {
    "collapsed": true
   },
   "outputs": [],
   "source": [
    "def validMoves(state):\n",
    "    \"\"\"Returns a list of valid moves from state\"\"\"\n",
    "    topDisc = [4]*3; # 4 means no disc is on that peg, makes logic simpler in 2d for loop below\n",
    "    for i in range(3):\n",
    "        if not state[i]:\n",
    "            continue\n",
    "        else:\n",
    "            topDisc[i] = state[i][0]\n",
    "    moves = []\n",
    "    for i in range(3): # always 3 pegs\n",
    "        for j in range(i+1,3):\n",
    "            if topDisc[i] < topDisc[j]:\n",
    "                moves.append([i+1,j+1])\n",
    "            elif topDisc[i] > topDisc[j]:\n",
    "                moves.append([j+1,i+1])\n",
    "    return moves"
   ]
  },
  {
   "cell_type": "markdown",
   "metadata": {},
   "source": [
    "Next it is important to be able to take an action, or move, from a given state and know what that resultant state is."
   ]
  },
  {
   "cell_type": "code",
   "execution_count": 5,
   "metadata": {
    "collapsed": true
   },
   "outputs": [],
   "source": [
    "def makeMove(state, move):\n",
    "    \"Returns a new copy of the state after applying the move\"\n",
    "    newState = copy.deepcopy(state)\n",
    "    fromPeg, toPeg = move # move is 1-based indexing, need to convert to 0 based indexing\n",
    "    fromPeg -= 1\n",
    "    toPeg   -= 1\n",
    "    disc = newState[fromPeg].pop(0)\n",
    "    newState[toPeg].insert(0, disc)\n",
    "    return newState"
   ]
  },
  {
   "cell_type": "markdown",
   "metadata": {},
   "source": [
    "Below is a simple function that converts a state-move pair into one large tuple. Since Q in the next section is defined as a dictionary, we need to use immutable objects as the keys. Without this function, states and moves are just represented as lists. This function allows easy repeated conversion for the Q dictionary."
   ]
  },
  {
   "cell_type": "code",
   "execution_count": 6,
   "metadata": {
    "collapsed": true
   },
   "outputs": [],
   "source": [
    "def stateMoveTuple(state, move):\n",
    "    \"\"\"Returns a tuple of state and move\"\"\"\n",
    "    return ((tuple(state[0]),tuple(state[1]),tuple(state[2])), (tuple(move)))"
   ]
  },
  {
   "cell_type": "markdown",
   "metadata": {},
   "source": [
    "## Reinforcement Learning Functions"
   ]
  },
  {
   "cell_type": "markdown",
   "metadata": {},
   "source": [
    "The move policy employed will be an epsilon greedy policy. Typically `epsilon` starts at 1.0 and slowly degrades to 0.0 over many iterations. The larger `epsilon` is, the more likely it is that the policy will choose a random, valid move to take. The smaller `epsilon` is, the more likely it is that the policy will choose the best greedy, valid move that it knows. Initially, it will be taking many random moves in order to explore as much of the state space as it can. As it learns more, it will slowly start to take what it believes to be the best actions."
   ]
  },
  {
   "cell_type": "code",
   "execution_count": 7,
   "metadata": {
    "collapsed": true
   },
   "outputs": [],
   "source": [
    "def epsilonGreedy(epsilon, Q, state, validMovesF):\n",
    "    validMoves = validMovesF(state)\n",
    "    if np.random.uniform() < epsilon:\n",
    "        # Random Move\n",
    "        return random.choice(validMoves)\n",
    "    else:\n",
    "        # Greedy Move\n",
    "        Qs = np.array([Q.get(stateMoveTuple(state,m), 0) for m in validMoves]) \n",
    "        return validMoves[ np.argmax(Qs) ]"
   ]
  },
  {
   "cell_type": "markdown",
   "metadata": {},
   "source": [
    "When training $Q$, several key parameters are involved: `learningRate`, `epsilon`, and `epsilonDecayFactor`. As discussed above, `epsilon` starts at 1 and slowly decays to 0 and controls the random factor of making a valid move. The `epsilonDecayFactor` is as it sounds: It's the number that decays epsilon from 1 to 0. The faster `epsilon` decays, the less it will learn about the entire state space. This means it may not learn enough to solve the Towers of Hanoi in the smallest number of moves. Therefore, it is important to have `epsilon` decay at a slow enough rate to produce a reliable $Q$.\n",
    "\n",
    "The `learningRate` ,$\\rho$, controls how much $Q$ is updated by when using TD update. When this parameter is high, updates to $Q$ are more aggressive and it quickly changes the state-move pair values. This can run faster, but also has the potential to overshoot the \"correct\" state-move pair values. So even though a smaller `learningRate` means slower learning, it generally means more accurate approximations than with a larger `learningRate`.\n",
    "\n",
    "The reinforcement value, $r$, being used is -1. This represents moving one disc to another peg. Since we want to minimize the number of moves, and the reinforcement is negative, we will actually want to maximize our reinforcements. The reinforcement to update $Q$ will be that initial value of -1 added to the difference between the current state-move value and the previous state-move value. That's what this Temporal Difference error is: \n",
    "\n",
    "$\\;\\;\\; \\text{value}(s_t,a_t) \\approx r_{t+1} + \\text{value}(s_{t+1},a_{t+1})$\n",
    "\n",
    "This value will be multiplied to the `learningRate` mentioned above and finally added to the current $Q$ estimation of that previous state-move value. This yields our final $Q$ update to be the following:\n",
    "\n",
    "$$\n",
    "    \\begin{align*}\n",
    "      Q(s_t,a_t) = Q(s_t,a_t) + \\rho (r_{t+1} + Q(s_{t+1},a_{t+1}) - Q(s_t,a_t))\n",
    "    \\end{align*}\n",
    "$$\n",
    "\n",
    "where s/t subscripts represent the old state/move and s+1/t+1 subscripts represent the current state/move. When the goal is reached, $r = -1$, since that is the true length of the path from the previous state to the current goal state.\n",
    "\n",
    "The function `trainQ` below handles all of that, using `epsilonGreedy` above to choose a move. It also keeps track of the number of steps it took to solve the tower of hanoi in each repetition."
   ]
  },
  {
   "cell_type": "code",
   "execution_count": 8,
   "metadata": {
    "collapsed": true
   },
   "outputs": [],
   "source": [
    "def trainQ(nRepetitions, learningRate, epsilonDecayFactor, validMovesF, makeMoveF):\n",
    "    \"\"\"Train Q fcn for number of repetitions, decaying epsilon at start of each repetition. \n",
    "        Returns Q and list of number of steps to reach goal for each repetition\"\"\"\n",
    "    epsilon = 1.0\n",
    "    stepsToGoal = np.zeros(nRepetitions)\n",
    "    Q = {}\n",
    "    for rep in range(nRepetitions):\n",
    "        epsilon *= epsilonDecayFactor\n",
    "        step = 0\n",
    "        state = [[1,2,3],[],[]]  # Start state for 3-dic, 3-peg Towers of Hanoi hardcoded\n",
    "        done = False\n",
    "        while not done:        \n",
    "            step += 1\n",
    "            move = epsilonGreedy(epsilon, Q, state, validMovesF)\n",
    "            stateNew = copy.deepcopy(state)\n",
    "            stateNew = makeMoveF(stateNew,move)\n",
    "            if (stateMoveTuple(state,move)) not in Q:\n",
    "                Q[stateMoveTuple(state,move)] = -1  # initial Q value for new state,move pair         \n",
    "            if stateNew == [[],[],[1,2,3]]:\n",
    "                # Towers of Hanoi completed\n",
    "                Q[stateMoveTuple(state,move)] = -1\n",
    "                done = True\n",
    "                stepsToGoal[rep] = step              \n",
    "            if step > 1:\n",
    "                # Update Q\n",
    "                Q[stateMoveTuple(stateOld,moveOld)] += learningRate * (-1 + Q[stateMoveTuple(state,move)] - Q[stateMoveTuple(stateOld,moveOld)])           \n",
    "            stateOld, moveOld = state, move # remember state and move to Q(state,move)\n",
    "            state = stateNew\n",
    "    return Q, stepsToGoal"
   ]
  },
  {
   "cell_type": "markdown",
   "metadata": {},
   "source": [
    "Below is the final function, `testQ`. It will use the trained $Q$ function from `trainQ` and see how well it solves one instance of the 3-disc, 3-peg Tower of Hanoi puzzle. `epsilonGreedy` is also used here, but to ensure it does not pick a random move, it is given $\\epsilon = 0$. If the solution is found within `maxSteps`, the path to get there will be returned in a list. If the solution was not found within those steps, it will return a list containing a string saying it did not find a solution."
   ]
  },
  {
   "cell_type": "code",
   "execution_count": 9,
   "metadata": {
    "collapsed": true
   },
   "outputs": [],
   "source": [
    "def testQ(Q, maxSteps, validMovesF, makeMoveF):\n",
    "    \"\"\"Without updating Q, use Q to find greedy action each step until goal is found. Returns path of states\"\"\"\n",
    "    state = [[1,2,3],[],[]]\n",
    "    path = [state]\n",
    "    for step in range(maxSteps):\n",
    "        move = epsilonGreedy(0, Q, state, validMovesF)\n",
    "        state = makeMove(state,move)\n",
    "        path.append(state)\n",
    "        if state == [[],[],[1,2,3]]:\n",
    "            # Towers of Hanoi finished return path\n",
    "            return path\n",
    "    # Didn't finish towers of hanoi\n",
    "    return ['Did not find solution in {} steps'.format(maxSteps)]"
   ]
  },
  {
   "cell_type": "markdown",
   "metadata": {},
   "source": [
    "## Testing"
   ]
  },
  {
   "cell_type": "markdown",
   "metadata": {},
   "source": [
    "First, just some basic testing of the Towers of Hanoi functions."
   ]
  },
  {
   "cell_type": "code",
   "execution_count": 10,
   "metadata": {},
   "outputs": [
    {
     "name": "stdout",
     "output_type": "stream",
     "text": [
      "1  \n",
      "2  \n",
      "3  \n",
      "---\n"
     ]
    }
   ],
   "source": [
    "state = [[1, 2, 3], [], []]\n",
    "printState(state)"
   ]
  },
  {
   "cell_type": "markdown",
   "metadata": {},
   "source": [
    "Initially, I found that my `printState` was destroying the state passed into it. I was performing a shallow copy of state inside the function, but because it's a list of lists that was not sufficient. After changing the copy to a deepcopy, it did not destroy the original state that was passed in."
   ]
  },
  {
   "cell_type": "code",
   "execution_count": 11,
   "metadata": {},
   "outputs": [
    {
     "data": {
      "text/plain": [
       "(((1, 2, 3), (), ()), (1, 2))"
      ]
     },
     "execution_count": 11,
     "metadata": {},
     "output_type": "execute_result"
    }
   ],
   "source": [
    "move =[1, 2]\n",
    "stateMoveTuple(state, move)"
   ]
  },
  {
   "cell_type": "code",
   "execution_count": 12,
   "metadata": {},
   "outputs": [
    {
     "data": {
      "text/plain": [
       "[[2, 3], [1], []]"
      ]
     },
     "execution_count": 12,
     "metadata": {},
     "output_type": "execute_result"
    }
   ],
   "source": [
    "newstate = makeMove(state, move)\n",
    "newstate"
   ]
  },
  {
   "cell_type": "code",
   "execution_count": 13,
   "metadata": {},
   "outputs": [
    {
     "name": "stdout",
     "output_type": "stream",
     "text": [
      "2  \n",
      "31 \n",
      "---\n"
     ]
    }
   ],
   "source": [
    "printState(newstate)"
   ]
  },
  {
   "cell_type": "markdown",
   "metadata": {},
   "source": [
    "Now for the fun testing!"
   ]
  },
  {
   "cell_type": "code",
   "execution_count": 14,
   "metadata": {
    "collapsed": true
   },
   "outputs": [],
   "source": [
    "Q, stepsToGoal = trainQ(50, 0.5, 0.7, validMoves, makeMove)"
   ]
  },
  {
   "cell_type": "markdown",
   "metadata": {},
   "source": [
    "It could be interesting to see what the estimates are of each state-move pair. The max size of the $Q$ dictionary is 76. Might as well take a peek to see if it explored every possible state-move pair at least once."
   ]
  },
  {
   "cell_type": "code",
   "execution_count": 15,
   "metadata": {},
   "outputs": [
    {
     "data": {
      "text/plain": [
       "({(((), (1,), (2, 3)), (2, 1)): -1.5,\n",
       "  (((), (1,), (2, 3)), (2, 3)): -1,\n",
       "  (((), (1,), (2, 3)), (3, 1)): -1.75,\n",
       "  (((), (1, 2), (3,)), (2, 1)): -3.000000000031534,\n",
       "  (((), (1, 2), (3,)), (2, 3)): -3.7783203125,\n",
       "  (((), (1, 2), (3,)), (3, 1)): -3.66796875,\n",
       "  (((), (1, 2, 3), ()), (2, 1)): -5.1181640625,\n",
       "  (((), (1, 2, 3), ()), (2, 3)): -4.5703125,\n",
       "  (((), (1, 3), (2,)), (2, 1)): -5.064453125,\n",
       "  (((), (1, 3), (2,)), (2, 3)): -5.2044677734375,\n",
       "  (((), (1, 3), (2,)), (3, 1)): -4.716796875,\n",
       "  (((), (2,), (1, 3)), (2, 1)): -3.3125,\n",
       "  (((), (2,), (1, 3)), (3, 1)): -3.05078125,\n",
       "  (((), (2,), (1, 3)), (3, 2)): -3.078125,\n",
       "  (((), (2, 3), (1,)), (2, 1)): -4.41796875,\n",
       "  (((), (2, 3), (1,)), (3, 1)): -5.033203125,\n",
       "  (((), (2, 3), (1,)), (3, 2)): -4.46875,\n",
       "  (((), (3,), (1, 2)), (2, 1)): -5.497283935546875,\n",
       "  (((), (3,), (1, 2)), (3, 1)): -5.2435302734375,\n",
       "  (((), (3,), (1, 2)), (3, 2)): -5.0966796875,\n",
       "  (((1,), (), (2, 3)), (1, 2)): -1.75,\n",
       "  (((1,), (), (2, 3)), (1, 3)): -1,\n",
       "  (((1,), (), (2, 3)), (3, 2)): -2.375,\n",
       "  (((1,), (2,), (3,)), (1, 2)): -3.626953125,\n",
       "  (((1,), (2,), (3,)), (1, 3)): -2.59375,\n",
       "  (((1,), (2,), (3,)), (2, 3)): -2.000000000000739,\n",
       "  (((1,), (2, 3), ()), (1, 2)): -5.1025390625,\n",
       "  (((1,), (2, 3), ()), (1, 3)): -4.935546875,\n",
       "  (((1,), (2, 3), ()), (2, 3)): -5.3134765625,\n",
       "  (((1,), (3,), (2,)), (1, 2)): -5.1962890625,\n",
       "  (((1,), (3,), (2,)), (1, 3)): -5.02294921875,\n",
       "  (((1,), (3,), (2,)), (3, 2)): -5.0849609375,\n",
       "  (((1, 2), (), (3,)), (1, 2)): -2.9638671875,\n",
       "  (((1, 2), (), (3,)), (1, 3)): -3.0859375,\n",
       "  (((1, 2), (), (3,)), (3, 2)): -3.34375,\n",
       "  (((1, 2), (3,), ()), (1, 2)): -4.083984375,\n",
       "  (((1, 2), (3,), ()), (1, 3)): -3.734375,\n",
       "  (((1, 2), (3,), ()), (2, 3)): -3.8203125,\n",
       "  (((1, 2, 3), (), ()), (1, 2)): -7.219295501708984,\n",
       "  (((1, 2, 3), (), ()), (1, 3)): -7.000000611315893,\n",
       "  (((1, 3), (), (2,)), (1, 2)): -6.173255920410156,\n",
       "  (((1, 3), (), (2,)), (1, 3)): -5.59564208984375,\n",
       "  (((1, 3), (), (2,)), (3, 2)): -5.65032958984375,\n",
       "  (((1, 3), (2,), ()), (1, 2)): -5.1092987060546875,\n",
       "  (((1, 3), (2,), ()), (1, 3)): -5.68109130859375,\n",
       "  (((1, 3), (2,), ()), (2, 3)): -5.52532958984375,\n",
       "  (((2,), (), (1, 3)), (1, 2)): -2.921875,\n",
       "  (((2,), (), (1, 3)), (3, 1)): -3.0625,\n",
       "  (((2,), (), (1, 3)), (3, 2)): -2.796875,\n",
       "  (((2,), (1,), (3,)), (1, 3)): -1.9990234375,\n",
       "  (((2,), (1,), (3,)), (2, 1)): -2.125,\n",
       "  (((2,), (1,), (3,)), (2, 3)): -2.125,\n",
       "  (((2,), (1, 3), ()), (1, 3)): -4.234375,\n",
       "  (((2,), (1, 3), ()), (2, 1)): -4.4228515625,\n",
       "  (((2,), (1, 3), ()), (2, 3)): -4.435546875,\n",
       "  (((2,), (3,), (1,)), (1, 2)): -4.16796875,\n",
       "  (((2,), (3,), (1,)), (3, 1)): -4.189453125,\n",
       "  (((2,), (3,), (1,)), (3, 2)): -4.5107421875,\n",
       "  (((2, 3), (), (1,)), (1, 2)): -6.000000082525461,\n",
       "  (((2, 3), (), (1,)), (3, 1)): -6.20098876953125,\n",
       "  (((2, 3), (), (1,)), (3, 2)): -6.524391174316406,\n",
       "  (((2, 3), (1,), ()), (1, 3)): -6.494441986083984,\n",
       "  (((2, 3), (1,), ()), (2, 1)): -7.2500797510147095,\n",
       "  (((2, 3), (1,), ()), (2, 3)): -6.4593048095703125,\n",
       "  (((3,), (), (1, 2)), (1, 2)): -5.59698486328125,\n",
       "  (((3,), (), (1, 2)), (3, 1)): -5.866729736328125,\n",
       "  (((3,), (), (1, 2)), (3, 2)): -5.411651611328125,\n",
       "  (((3,), (1,), (2,)), (2, 1)): -6.09814453125,\n",
       "  (((3,), (1,), (2,)), (2, 3)): -6.115760803222656,\n",
       "  (((3,), (1,), (2,)), (3, 1)): -5.9240875244140625,\n",
       "  (((3,), (1, 2), ()), (1, 3)): -4.000000000649129,\n",
       "  (((3,), (1, 2), ()), (2, 1)): -4.796875,\n",
       "  (((3,), (1, 2), ()), (2, 3)): -4.699951171875,\n",
       "  (((3,), (2,), (1,)), (2, 1)): -5.608917236328125,\n",
       "  (((3,), (2,), (1,)), (3, 1)): -5.6507568359375,\n",
       "  (((3,), (2,), (1,)), (3, 2)): -5.000000008600969},\n",
       " 76)"
      ]
     },
     "execution_count": 15,
     "metadata": {},
     "output_type": "execute_result"
    }
   ],
   "source": [
    "Q, len(Q)"
   ]
  },
  {
   "cell_type": "markdown",
   "metadata": {},
   "source": [
    "After multiple tests, the results are fairly consistent. The majority of the time, it has explored every possible state space at least once.\n",
    "\n",
    "Let's plot the number of moves it took to solve the Tower of Hanoi in each of its attempts. The number of iterations had to be kept fairly low in order to see the graph well."
   ]
  },
  {
   "cell_type": "code",
   "execution_count": 16,
   "metadata": {},
   "outputs": [
    {
     "data": {
      "text/plain": [
       "<matplotlib.text.Text at 0x1b92ec7be10>"
      ]
     },
     "execution_count": 16,
     "metadata": {},
     "output_type": "execute_result"
    },
    {
     "data": {
      "image/png": "[encoded data removed]",
      "text/plain": [
       "<matplotlib.figure.Figure at 0x1b92ec544a8>"
      ]
     },
     "metadata": {},
     "output_type": "display_data"
    }
   ],
   "source": [
    "plt.plot(stepsToGoal);\n",
    "plt.xlabel('Towers of Hanoi Iteration #')\n",
    "plt.ylabel('Number of steps')"
   ]
  },
  {
   "cell_type": "markdown",
   "metadata": {},
   "source": [
    "Once again, after several tries of running `trainQ`, the results are fairly consistent. There's always up and down spikes in roughly the 1st half of the 50 iterations. After that, $Q$ reliably solves the Tower of Hanoi in a perfect 7 steps every time.\n",
    "\n",
    "Below is the last test: `testQ`. Given that the graph above seems to have the solution down perfectly, it's reasonable to expect `testQ` will return the perfect path to the 3-disc, 3-peg version of Towers of Hanoi."
   ]
  },
  {
   "cell_type": "code",
   "execution_count": 17,
   "metadata": {
    "collapsed": true
   },
   "outputs": [],
   "source": [
    "path = testQ(Q, 20, validMoves, makeMove)"
   ]
  },
  {
   "cell_type": "code",
   "execution_count": 18,
   "metadata": {},
   "outputs": [
    {
     "name": "stdout",
     "output_type": "stream",
     "text": [
      "1  \n",
      "2  \n",
      "3  \n",
      "---\n",
      "\n",
      "2  \n",
      "3 1\n",
      "---\n",
      "\n",
      "321\n",
      "---\n",
      "\n",
      " 1 \n",
      "32 \n",
      "---\n",
      "\n",
      " 1 \n",
      " 23\n",
      "---\n",
      "\n",
      "123\n",
      "---\n",
      "\n",
      "  2\n",
      "1 3\n",
      "---\n",
      "\n",
      "  1\n",
      "  2\n",
      "  3\n",
      "---\n",
      "\n"
     ]
    }
   ],
   "source": [
    "for s in path:\n",
    "    printState(s)\n",
    "    print()"
   ]
  },
  {
   "cell_type": "markdown",
   "metadata": {},
   "source": [
    "## Grading"
   ]
  },
  {
   "cell_type": "code",
   "execution_count": 19,
   "metadata": {},
   "outputs": [
    {
     "name": "stdout",
     "output_type": "stream",
     "text": [
      "\n",
      "Testing validMoves([[1], [2], [3]])\n",
      "\n",
      "--- 10/10 points. Correctly returned [[1, 2], [1, 3], [2, 3]]\n",
      "\n",
      "Testing validMoves([[], [], [1, 2, 3]])\n",
      "\n",
      "--- 10/10 points. Correctly returned [[3, 1], [3, 2]]\n",
      "\n",
      "Testing makeMove([[], [], [1, 2, 3]], [3, 2])\n",
      "\n",
      "--- 10/10 points. Correctly returned [[], [1], [2, 3]]\n",
      "\n",
      "Testing makeMove([[2], [3], [1]], [1, 2])\n",
      "\n",
      "--- 10/10 points. Correctly returned [[], [2, 3], [1]]\n",
      "\n",
      "Testing   Q, steps = trainQ(1000, 0.5, 0.7, validMoves, makeMove).\n",
      "\n",
      "--- 10/10 points. Q dictionary has correct number of entries.\n",
      "\n",
      "--- 10/10 points. The mean of the number of steps is 7.433 which is correct.\n",
      "\n",
      "Testing   path = testQ(Q, 20, validMoves, makeMove).\n",
      "\n",
      "--- 20/20 points. Correctly returns path of length 8, less than 10.\n",
      "\n",
      "C:\\Users\\Bradley\\Desktop\\Classes\\cs440\\A5 Execution Grade is 80/80\n",
      "\n",
      " Remaining 20 points will be based on your text describing the trainQ and test! functions.\n",
      "\n",
      "C:\\Users\\Bradley\\Desktop\\Classes\\cs440\\A5 FINAL GRADE is __/100\n"
     ]
    },
    {
     "data": {
      "text/plain": [
       "<matplotlib.figure.Figure at 0x1b92ec13160>"
      ]
     },
     "metadata": {},
     "output_type": "display_data"
    }
   ],
   "source": [
    "%run -i A5grader.py"
   ]
  },
  {
   "cell_type": "code",
   "execution_count": null,
   "metadata": {
    "collapsed": true
   },
   "outputs": [],
   "source": []
  }
 ],
 "metadata": {
  "kernelspec": {
   "display_name": "Python 3",
   "language": "python",
   "name": "python3"
  },
  "language_info": {
   "codemirror_mode": {
    "name": "ipython",
    "version": 3
   },
   "file_extension": ".py",
   "mimetype": "text/x-python",
   "name": "python",
   "nbconvert_exporter": "python",
   "pygments_lexer": "ipython3",
   "version": "3.6.2"
  }
 },
 "nbformat": 4,
 "nbformat_minor": 2
}
