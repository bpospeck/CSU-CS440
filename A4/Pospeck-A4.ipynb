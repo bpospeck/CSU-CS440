{
 "cells": [
  {
   "cell_type": "markdown",
   "metadata": {},
   "source": [
    "# Assignment 4: Negamax with Alpha-Beta Pruning and Iterative Deepening"
   ]
  },
  {
   "cell_type": "markdown",
   "metadata": {},
   "source": [
    "Bradley Pospeck"
   ]
  },
  {
   "cell_type": "markdown",
   "metadata": {},
   "source": [
    "# Table of Contents\n",
    "* [Assignment 4: Negamax with Alpha-Beta Pruning and Iterative Deepening](#Assignment-4:-Negamax-with-Alpha-Beta-Pruning-and-Iterative-Deepening)\n",
    "\t* [Negamax](#Negamax)\n",
    "    * [Game Setup](#Game-Setup)\n",
    "\t* [NegamaxIDS](#NegamaxIDS)\n",
    "\t* [NegamaxIDSab](#NegamaxIDSab)\n",
    "\t* [Grading](#Grading)\n",
    "\t* [Extra Credit](#Extra-Credit)\n"
   ]
  },
  {
   "cell_type": "markdown",
   "metadata": {},
   "source": [
    "For this assignment, an alpha-beta pruning will be compared with, and applied to, negamax and negamax iterative deepening search. The `negamax` algorithm maximizes a player's score as best it can by exploring possible paths of a game tree to a specified depth. It only works with zero sum games. For example, in this assignment tic-tac-toe is the game of choice. The winner of the game gets a value of 1, while the loser gets a value of -1. Any draws result in both players receiving a 0. The sum of the scores that both players receive is zero, thus making it a zero sum game. The algorithm assumes it is playing an optimum opponent. Both `negamaxIDS` and `negamaxIDSab` will be explained briefly below."
   ]
  },
  {
   "cell_type": "markdown",
   "metadata": {},
   "source": [
    "## Negamax"
   ]
  },
  {
   "cell_type": "markdown",
   "metadata": {},
   "source": [
    "Below is the implementation of `negamax`. This base function was also provided with the assignment because the main goal of the assignment is to compare the base `negamax` with `negamaxIDS` and `negamaxIDSab`."
   ]
  },
  {
   "cell_type": "code",
   "execution_count": 1,
   "metadata": {
    "collapsed": true
   },
   "outputs": [],
   "source": [
    "def negamax(game, depthLeft):\n",
    "    # If at terminal state or depth limit, return utility value and move None\n",
    "    if game.isOver() or depthLeft == 0:\n",
    "        return game.getUtility(), None # call to negamax knows the move\n",
    "    # Find best move and its value from current state\n",
    "    bestValue, bestMove = None, None\n",
    "    for move in game.getMoves():\n",
    "        # Apply a move to current state\n",
    "        game.makeMove(move)\n",
    "        # Use depth-first search to find eventual utility value and back it up.\n",
    "        #  Negate it because it will come back in context of next player\n",
    "        value, _ = negamax(game, depthLeft-1)\n",
    "        # Remove the move from current state, to prepare for trying a different move\n",
    "        game.unmakeMove(move)\n",
    "        if value is None:\n",
    "            continue\n",
    "        value = - value\n",
    "        if bestValue is None or value > bestValue:\n",
    "            # Value for this move is better than moves tried so far from this state.\n",
    "            bestValue, bestMove = value, move\n",
    "    return bestValue, bestMove"
   ]
  },
  {
   "cell_type": "markdown",
   "metadata": {},
   "source": [
    "## Game Setup"
   ]
  },
  {
   "cell_type": "markdown",
   "metadata": {},
   "source": [
    "Below is a class that implements tic-tac-toe. Most of the code was provided by Dr. Anderson, but a couple of minor methods needed to be provided by me to complete it. This includes `getNumberMovesExplored(), getWinningValue(), getFilledSquares(), and getNumX().`"
   ]
  },
  {
   "cell_type": "code",
   "execution_count": 2,
   "metadata": {
    "collapsed": true
   },
   "outputs": [],
   "source": [
    "class TTT(object):\n",
    "\n",
    "    def __init__(self):\n",
    "        self.board = [' ']*9\n",
    "        self.player = 'X'\n",
    "        if False:\n",
    "            self.board = ['X', 'X', ' ', 'X', 'O', 'O', ' ', ' ', ' ']\n",
    "            self.player = 'O'\n",
    "        self.playerLookAHead = self.player\n",
    "        self.movesExplored = 0\n",
    "\n",
    "    def locations(self, c):\n",
    "        return [i for i, mark in enumerate(self.board) if mark == c]\n",
    "\n",
    "    def getMoves(self):\n",
    "        moves = self.locations(' ')\n",
    "        return moves\n",
    "\n",
    "    def getNumberMovesExplored(self):\n",
    "        return self.movesExplored\n",
    "    \n",
    "    def getUtility(self):\n",
    "        whereX = self.locations('X')\n",
    "        whereO = self.locations('O')\n",
    "        wins = [[0, 1, 2], [3, 4, 5], [6, 7, 8],\n",
    "                [0, 3, 6], [1, 4, 7], [2, 5, 8],\n",
    "                [0, 4, 8], [2, 4, 6]]\n",
    "        isXWon = any([all([wi in whereX for wi in w]) for w in wins])\n",
    "        isOWon = any([all([wi in whereO for wi in w]) for w in wins])\n",
    "        if isXWon:\n",
    "            return 1 if self.playerLookAHead is 'X' else -1\n",
    "        elif isOWon:\n",
    "            return 1 if self.playerLookAHead is 'O' else -1\n",
    "        elif ' ' not in self.board:\n",
    "            return 0\n",
    "        else:\n",
    "            return None \n",
    "\n",
    "    def isOver(self):\n",
    "        return self.getUtility() is not None\n",
    "\n",
    "    def makeMove(self, move):\n",
    "        self.board[move] = self.playerLookAHead\n",
    "        self.playerLookAHead = 'X' if self.playerLookAHead == 'O' else 'O'\n",
    "        self.movesExplored +=1\n",
    "\n",
    "    def changePlayer(self):\n",
    "        self.player = 'X' if self.player == 'O' else 'O'\n",
    "        self.playerLookAHead = self.player\n",
    "\n",
    "    def unmakeMove(self, move):\n",
    "        self.board[move] = ' '\n",
    "        self.playerLookAHead = 'X' if self.playerLookAHead == 'O' else 'O'\n",
    "        \n",
    "    def getWinningValue(self):\n",
    "        return 1\n",
    "\n",
    "    def getFilledSquares(self):\n",
    "        return 9-self.board.count(' ')\n",
    "    \n",
    "    def getNumX(self):\n",
    "        return self.board.count('X')\n",
    "    \n",
    "    def __str__(self):\n",
    "        s = '{}|{}|{}\\n-----\\n{}|{}|{}\\n-----\\n{}|{}|{}'.format(*self.board)\n",
    "        return s"
   ]
  },
  {
   "cell_type": "markdown",
   "metadata": {},
   "source": [
    "The next 2 functions define an opponent and a general function to play games and call the `negamax` functions. The opponent is specific to tic-tac-toe and simply moves to the next available space. Again, besides a couple of minor changes to `playGame`, both of these functions were provided with the assignment."
   ]
  },
  {
   "cell_type": "code",
   "execution_count": 3,
   "metadata": {
    "collapsed": true
   },
   "outputs": [],
   "source": [
    "def opponent(board):\n",
    "    return board.index(' ')\n",
    "\n",
    "def playGame(game,opponent,depthLimit, negamaxF = negamax):\n",
    "    print(game)\n",
    "    while not game.isOver():\n",
    "        score,move = negamaxF(game,depthLimit)\n",
    "        if move == None :\n",
    "            print('move is None. Stopping.')\n",
    "            break\n",
    "        game.makeMove(move)\n",
    "        print('Player', game.player, 'to', move, 'for score' ,score)\n",
    "        print(game)\n",
    "        if not game.isOver():\n",
    "            game.changePlayer()\n",
    "            opponentMove = opponent(game.board)\n",
    "            game.makeMove(opponentMove)\n",
    "            print('Player', game.player, 'to', opponentMove)   ### FIXED ERROR IN THIS LINE!\n",
    "            print(game)\n",
    "            game.changePlayer()"
   ]
  },
  {
   "cell_type": "markdown",
   "metadata": {},
   "source": [
    "A quick test run to make sure everything is implemented and works correctly. `negamax` is not actually being used for both players: it is being used for player X, while player O is using the simple `opponent` function defined above."
   ]
  },
  {
   "cell_type": "code",
   "execution_count": 4,
   "metadata": {},
   "outputs": [
    {
     "name": "stdout",
     "output_type": "stream",
     "text": [
      " | | \n",
      "-----\n",
      " | | \n",
      "-----\n",
      " | | \n",
      "Player X to 0 for score 0\n",
      "X| | \n",
      "-----\n",
      " | | \n",
      "-----\n",
      " | | \n",
      "Player O to 1\n",
      "X|O| \n",
      "-----\n",
      " | | \n",
      "-----\n",
      " | | \n",
      "Player X to 3 for score 1\n",
      "X|O| \n",
      "-----\n",
      "X| | \n",
      "-----\n",
      " | | \n",
      "Player O to 2\n",
      "X|O|O\n",
      "-----\n",
      "X| | \n",
      "-----\n",
      " | | \n",
      "Player X to 4 for score 1\n",
      "X|O|O\n",
      "-----\n",
      "X|X| \n",
      "-----\n",
      " | | \n",
      "Player O to 5\n",
      "X|O|O\n",
      "-----\n",
      "X|X|O\n",
      "-----\n",
      " | | \n",
      "Player X to 6 for score 1\n",
      "X|O|O\n",
      "-----\n",
      "X|X|O\n",
      "-----\n",
      "X| | \n",
      "Number of moves explored: 558334\n",
      "Number of squares filled: 7\n",
      "Number of X on the board: 4\n"
     ]
    }
   ],
   "source": [
    "g1 = TTT()\n",
    "playGame(g1,opponent,20)\n",
    "print('Number of moves explored:',g1.getNumberMovesExplored())\n",
    "print('Number of squares filled:',g1.getFilledSquares())\n",
    "print('Number of X on the board:',g1.getNumX())"
   ]
  },
  {
   "cell_type": "markdown",
   "metadata": {},
   "source": [
    "## NegamaxIDS "
   ]
  },
  {
   "cell_type": "markdown",
   "metadata": {},
   "source": [
    "Iterative deepening search applied to `negamax` results in `negamaxIDS`. It's essentially the same algorithm, except that it searches the depth of the game tree in increments. This means that it starts with a search of 0 depth, then a depth 1, 2, etc., until it either reaches a terminal game state or maximum depth. Because the search starts shallow and goes steadily deeper, it should find the solution with fewer explored moves than `negamax` alone.\n",
    "\n",
    "Obviously, there needs to be a point to stop. Tic-tac-toe can only go to a depth of 9, but what will we do if the provided depth limit is greater than 9?\n",
    "\n",
    "In Tic-tic-toe, `negamax` can be stopped once a winning move is returned. For Tic-tac-toe, this will be a value of 1. If the maximum depth is reached and no winning move has been found, the best move that was found across all depth limits will be returned. Generally this means that if there was no win to be found, a draw will be the next best thing."
   ]
  },
  {
   "cell_type": "code",
   "execution_count": 5,
   "metadata": {
    "collapsed": true
   },
   "outputs": [],
   "source": [
    "def negamaxIDS(game, depthLimit):\n",
    "    bestValue = -100 #Just a large negative value so there's something for comparison later\n",
    "    for depth in range(depthLimit+1):\n",
    "        gameValue, move = negamax(game, depth)\n",
    "        if gameValue == game.getWinningValue():\n",
    "            return gameValue, move\n",
    "        if gameValue != None and bestValue < gameValue:\n",
    "            bestValue=gameValue\n",
    "            bestMove=move\n",
    "    return bestValue, bestMove"
   ]
  },
  {
   "cell_type": "markdown",
   "metadata": {},
   "source": [
    "Another test run, but with `negamaxIDS` this time. "
   ]
  },
  {
   "cell_type": "code",
   "execution_count": 6,
   "metadata": {},
   "outputs": [
    {
     "name": "stdout",
     "output_type": "stream",
     "text": [
      " | | \n",
      "-----\n",
      " | | \n",
      "-----\n",
      " | | \n",
      "Player X to 0 for score 1\n",
      "X| | \n",
      "-----\n",
      " | | \n",
      "-----\n",
      " | | \n",
      "Player O to 1\n",
      "X|O| \n",
      "-----\n",
      " | | \n",
      "-----\n",
      " | | \n",
      "Player X to 3 for score 1\n",
      "X|O| \n",
      "-----\n",
      "X| | \n",
      "-----\n",
      " | | \n",
      "Player O to 2\n",
      "X|O|O\n",
      "-----\n",
      "X| | \n",
      "-----\n",
      " | | \n",
      "Player X to 6 for score 1\n",
      "X|O|O\n",
      "-----\n",
      "X| | \n",
      "-----\n",
      "X| | \n",
      "Number of moves explored: 23338\n",
      "Number of squares filled: 5\n",
      "Number of X on the board: 3\n"
     ]
    }
   ],
   "source": [
    "g2 = TTT()\n",
    "playGame(g2,opponent,20,negamaxIDS)\n",
    "print('Number of moves explored:',g2.getNumberMovesExplored())\n",
    "print('Number of squares filled:',g2.getFilledSquares())\n",
    "print('Number of X on the board:',g2.getNumX())"
   ]
  },
  {
   "cell_type": "markdown",
   "metadata": {},
   "source": [
    "## NegamaxIDSab"
   ]
  },
  {
   "cell_type": "markdown",
   "metadata": {},
   "source": [
    "Alpha-beta pruning has potential to further reduce the number of explored moves in `negamaxIDSab`. This is because of the 2 new parameters, alpha and beta. Alpha is the best so far for the current player. Beta is the best so far for the other player. As a move is made, alpha is constantly updated to the maximum between the current best move and the current alpha value. When searching a branch in the game tree, if the best score is ever larger than or equal to beta, you can immediately stop searching the tree, because you know that that the current player can no longer do any better. When making a recursive call on `negamaxIDSab`, you need to swap and negate the beta and alpha values since they're the opposite for the opponent."
   ]
  },
  {
   "cell_type": "code",
   "execution_count": 7,
   "metadata": {
    "collapsed": true
   },
   "outputs": [],
   "source": [
    "import math\n",
    "\n",
    "def negamaxab(game, depthLeft, alpha=-math.inf, beta=math.inf):\n",
    "    # If at terminal state or depth limit, return utility value and move None\n",
    "    if game.isOver() or depthLeft == 0:\n",
    "        return game.getUtility(), None # call to negamax knows the move\n",
    "    # Find best move and its value from current state\n",
    "    bestValue, bestMove = None, None\n",
    "    for move in game.getMoves():\n",
    "        # Apply a move to current state\n",
    "        game.makeMove(move)\n",
    "        # Use depth-first search to find eventual utility value and back it up.\n",
    "        #  Negate it because it will come back in context of next player\n",
    "        value, _ = negamaxab(game, depthLeft-1,-beta,-alpha)\n",
    "        # Remove the move from current state, to prepare for trying a different move\n",
    "        game.unmakeMove(move)\n",
    "        if value is None:\n",
    "            continue\n",
    "        value = - value\n",
    "        if bestValue is None or value > bestValue:\n",
    "            # Value for this move is better than moves tried so far from this state.\n",
    "            bestValue, bestMove = value, move\n",
    "            alpha = max(bestValue,alpha)\n",
    "            if bestValue >= beta: break\n",
    "    return bestValue, bestMove"
   ]
  },
  {
   "cell_type": "markdown",
   "metadata": {},
   "source": [
    "`negamaxIDSab` is identical to `negamaxIDS` above except that it instead calls `negamaxab`."
   ]
  },
  {
   "cell_type": "code",
   "execution_count": 8,
   "metadata": {
    "collapsed": true
   },
   "outputs": [],
   "source": [
    "def negamaxIDSab(game, depthLimit):\n",
    "    bestValue = -100 #Just a large negative value so there's something for comparison later\n",
    "    for depth in range(depthLimit+1):\n",
    "        gameValue, move = negamaxab(game, depth)\n",
    "        if gameValue == game.getWinningValue():\n",
    "            return gameValue, move\n",
    "        if gameValue != None and bestValue < gameValue:\n",
    "            bestValue=gameValue\n",
    "            bestMove=move\n",
    "    return bestValue, bestMove"
   ]
  },
  {
   "cell_type": "markdown",
   "metadata": {},
   "source": [
    "One final individual game using `negamaxIDSab`."
   ]
  },
  {
   "cell_type": "code",
   "execution_count": 9,
   "metadata": {},
   "outputs": [
    {
     "name": "stdout",
     "output_type": "stream",
     "text": [
      " | | \n",
      "-----\n",
      " | | \n",
      "-----\n",
      " | | \n",
      "Player X to 0 for score 1\n",
      "X| | \n",
      "-----\n",
      " | | \n",
      "-----\n",
      " | | \n",
      "Player O to 1\n",
      "X|O| \n",
      "-----\n",
      " | | \n",
      "-----\n",
      " | | \n",
      "Player X to 3 for score 1\n",
      "X|O| \n",
      "-----\n",
      "X| | \n",
      "-----\n",
      " | | \n",
      "Player O to 2\n",
      "X|O|O\n",
      "-----\n",
      "X| | \n",
      "-----\n",
      " | | \n",
      "Player X to 6 for score 1\n",
      "X|O|O\n",
      "-----\n",
      "X| | \n",
      "-----\n",
      "X| | \n",
      "Number of moves explored: 6053\n",
      "Number of squares filled: 5\n",
      "Number of X on the board: 3\n"
     ]
    }
   ],
   "source": [
    "g3 = TTT()\n",
    "playGame(g3,opponent,10,negamaxIDSab)\n",
    "print('Number of moves explored:',g3.getNumberMovesExplored())\n",
    "print('Number of squares filled:',g3.getFilledSquares())\n",
    "print('Number of X on the board:',g3.getNumX())"
   ]
  },
  {
   "cell_type": "markdown",
   "metadata": {},
   "source": [
    "## playGames"
   ]
  },
  {
   "cell_type": "markdown",
   "metadata": {},
   "source": [
    "Now it's time to run all 3 algorithms at once and compare the results. It would also be useful to compare the effective branching factor, as in assignment 3, so that should be defined first. My `ebf` function worked just fine in assignment 3, but I felt the professor's provided `ebf` for this assignment looked much more elegant, so I decided to use his."
   ]
  },
  {
   "cell_type": "code",
   "execution_count": 10,
   "metadata": {
    "collapsed": true
   },
   "outputs": [],
   "source": [
    "def ebf(nNodes, depth, precision=0.01):\n",
    "    if nNodes == 0:\n",
    "        return 0\n",
    "\n",
    "    def ebfRec(low, high):\n",
    "        mid = (low + high) * 0.5\n",
    "        if mid == 1:\n",
    "            estimate = 1 + depth\n",
    "        else:\n",
    "            estimate = (1 - mid**(depth + 1)) / (1 - mid)\n",
    "        if abs(estimate - nNodes) < precision:\n",
    "            return mid\n",
    "        if estimate > nNodes:\n",
    "            return ebfRec(low, mid)\n",
    "        else:\n",
    "            return ebfRec(mid, high)\n",
    "\n",
    "    return ebfRec(1, nNodes)"
   ]
  },
  {
   "cell_type": "markdown",
   "metadata": {},
   "source": [
    "Below is the `playGames` function. It takes an opponent and depth input and uses those to run `playGame` from above on all 3 negamax algorithms."
   ]
  },
  {
   "cell_type": "code",
   "execution_count": 11,
   "metadata": {
    "collapsed": true
   },
   "outputs": [],
   "source": [
    "def playGames(opponent, depth):\n",
    "    # negamax on Tic Tac Toe\n",
    "    print('negamax:')\n",
    "    nm = TTT()\n",
    "    playGame(nm,opponent,depth,negamax)\n",
    "    xMove1 = nm.getNumX()\n",
    "    explored1 = nm.getNumberMovesExplored()\n",
    "    xo1 = nm.getFilledSquares()\n",
    "    branch1 = ebf(explored1,xo1)\n",
    "    # negamaxIDS on Tic Tac Toe\n",
    "    print('\\nnegamaxIDS:')\n",
    "    nmIDS = TTT()\n",
    "    playGame(nmIDS,opponent,depth,negamaxIDS)\n",
    "    xMove2 = nmIDS.getNumX()\n",
    "    explored2 = nmIDS.getNumberMovesExplored()\n",
    "    xo2 = nmIDS.getFilledSquares()\n",
    "    branch2 = ebf(explored2,xo2)\n",
    "    # negamaxIDSab on Tic Tac Toe\n",
    "    print('\\nnegamaxIDSab:')\n",
    "    nmIDSab = TTT()\n",
    "    playGame(nmIDSab,opponent,depth,negamaxIDSab)\n",
    "    xMove3 = nmIDSab.getNumX()\n",
    "    explored3 = nmIDSab.getNumberMovesExplored()\n",
    "    xo3 = nmIDSab.getFilledSquares()\n",
    "    branch3 = ebf(explored3,xo3)\n",
    "    \n",
    "    print('negamax made {0} moves. {1} moves explored for ebf({1}, {2}) of {3}'.format(xMove1,explored1,xo1,branch1))\n",
    "    print('negamaxIDS made {0} moves. {1} moves explored for ebf({1}, {2}) of {3}'.format(xMove2,explored2,xo2,branch2))\n",
    "    print('negamaxIDSab made {0} moves. {1} moves explored for ebf({1}, {2}) of {3}'.format(xMove3,explored3,xo3,branch3))   "
   ]
  },
  {
   "cell_type": "code",
   "execution_count": 12,
   "metadata": {},
   "outputs": [
    {
     "name": "stdout",
     "output_type": "stream",
     "text": [
      "negamax:\n",
      " | | \n",
      "-----\n",
      " | | \n",
      "-----\n",
      " | | \n",
      "Player X to 0 for score 0\n",
      "X| | \n",
      "-----\n",
      " | | \n",
      "-----\n",
      " | | \n",
      "Player O to 1\n",
      "X|O| \n",
      "-----\n",
      " | | \n",
      "-----\n",
      " | | \n",
      "Player X to 3 for score 1\n",
      "X|O| \n",
      "-----\n",
      "X| | \n",
      "-----\n",
      " | | \n",
      "Player O to 2\n",
      "X|O|O\n",
      "-----\n",
      "X| | \n",
      "-----\n",
      " | | \n",
      "Player X to 4 for score 1\n",
      "X|O|O\n",
      "-----\n",
      "X|X| \n",
      "-----\n",
      " | | \n",
      "Player O to 5\n",
      "X|O|O\n",
      "-----\n",
      "X|X|O\n",
      "-----\n",
      " | | \n",
      "Player X to 6 for score 1\n",
      "X|O|O\n",
      "-----\n",
      "X|X|O\n",
      "-----\n",
      "X| | \n",
      "\n",
      "negamaxIDS:\n",
      " | | \n",
      "-----\n",
      " | | \n",
      "-----\n",
      " | | \n",
      "Player X to 0 for score 1\n",
      "X| | \n",
      "-----\n",
      " | | \n",
      "-----\n",
      " | | \n",
      "Player O to 1\n",
      "X|O| \n",
      "-----\n",
      " | | \n",
      "-----\n",
      " | | \n",
      "Player X to 3 for score 1\n",
      "X|O| \n",
      "-----\n",
      "X| | \n",
      "-----\n",
      " | | \n",
      "Player O to 2\n",
      "X|O|O\n",
      "-----\n",
      "X| | \n",
      "-----\n",
      " | | \n",
      "Player X to 6 for score 1\n",
      "X|O|O\n",
      "-----\n",
      "X| | \n",
      "-----\n",
      "X| | \n",
      "\n",
      "negamaxIDSab:\n",
      " | | \n",
      "-----\n",
      " | | \n",
      "-----\n",
      " | | \n",
      "Player X to 0 for score 1\n",
      "X| | \n",
      "-----\n",
      " | | \n",
      "-----\n",
      " | | \n",
      "Player O to 1\n",
      "X|O| \n",
      "-----\n",
      " | | \n",
      "-----\n",
      " | | \n",
      "Player X to 3 for score 1\n",
      "X|O| \n",
      "-----\n",
      "X| | \n",
      "-----\n",
      " | | \n",
      "Player O to 2\n",
      "X|O|O\n",
      "-----\n",
      "X| | \n",
      "-----\n",
      " | | \n",
      "Player X to 6 for score 1\n",
      "X|O|O\n",
      "-----\n",
      "X| | \n",
      "-----\n",
      "X| | \n",
      "negamax made 4 moves. 558334 moves explored for ebf(558334, 7) of 6.46486057422959\n",
      "negamaxIDS made 3 moves. 23338 moves explored for ebf(23338, 5) of 7.256619912863243\n",
      "negamaxIDSab made 3 moves. 6053 moves explored for ebf(6053, 5) of 5.481535192579031\n"
     ]
    }
   ],
   "source": [
    "playGames(opponent, 10)"
   ]
  },
  {
   "cell_type": "markdown",
   "metadata": {},
   "source": [
    "With these results, it's interesting to see that although `negamaxIDS` explored far less moves than `negamax`, it has a larger effective branching factor. This can potentially imply that `negamaxIDS` may actually be less efficient and require larger search spaces if the game trees it is searching are large enough and deep enough.\n",
    "\n",
    "Not surprisingly, alpha beta pruning yielded the best results. It found the quickest path to victory and explored far less moves than either of the other 2 algorithms. It's effective branching factor is also the smallest by an amount of 1 or more when compared to the other 2 algorithms. All this evidence points towards alpha beta pruning being a particularly effective method for reducing search time and space."
   ]
  },
  {
   "cell_type": "markdown",
   "metadata": {},
   "source": [
    "## Grading"
   ]
  },
  {
   "cell_type": "code",
   "execution_count": 13,
   "metadata": {},
   "outputs": [
    {
     "name": "stdout",
     "output_type": "stream",
     "text": [
      "\n",
      "Testing negamax starting from ['O', 'X', ' ', 'O', ' ', ' ', ' ', 'X', ' ']\n",
      "\n",
      "--- 10/10 points. negamax correctly returns value of 1\n",
      "\n",
      "--- 10/10 points. negamax correctly explored 124 states.\n",
      "\n",
      "Testing negamax starting from ['O', 'X', 'X', 'O', 'O', ' ', ' ', 'X', ' ']\n",
      "\n",
      "--- 10/10 points. negamax correctly returns value of -1 and move of 5\n",
      "\n",
      "Testing negamaxIDS with max depth of 5, starting from ['O', 'X', 'X', 'O', 'O', ' ', ' ', 'X', ' ']\n",
      "\n",
      "--- 10/10 points. negamaxIDS correctly returns value of -1 and move of 5\n",
      "\n",
      "Testing negamaxIDSab starting from ['O', 'X', 'X', 'O', 'O', ' ', ' ', 'X', ' ']\n",
      "\n",
      "--- 20/20 points. negamaxIDSab correctly returns value of -1 and move of 5\n",
      "\n",
      "Testing playGame with opponent that always plays in highest numbered position.\n",
      " | | \n",
      "-----\n",
      " | | \n",
      "-----\n",
      " | | \n",
      "Player X to 0 for score 0\n",
      "X| | \n",
      "-----\n",
      " | | \n",
      "-----\n",
      " | | \n",
      "Player O to 8\n",
      "X| | \n",
      "-----\n",
      " | | \n",
      "-----\n",
      " | |O\n",
      "Player X to 2 for score 1\n",
      "X| |X\n",
      "-----\n",
      " | | \n",
      "-----\n",
      " | |O\n",
      "Player O to 7\n",
      "X| |X\n",
      "-----\n",
      " | | \n",
      "-----\n",
      " |O|O\n",
      "Player X to 1 for score 1\n",
      "X|X|X\n",
      "-----\n",
      " | | \n",
      "-----\n",
      " |O|O\n",
      "\n",
      "--- 10/10 points. playGame correctly wins by filling top row with Xs.\n",
      "\n",
      "C:\\Users\\Brad Pospeck\\Desktop\\Classes\\Senior III\\cs\\cs440\\A4 Execution Grade is 70/70\n",
      "\n",
      " Remaining 30 points will be based on the output of your playGames function.\n",
      "\n",
      "C:\\Users\\Brad Pospeck\\Desktop\\Classes\\Senior III\\cs\\cs440\\A4 FINAL GRADE is __/100\n"
     ]
    }
   ],
   "source": [
    "%run -i A4grader.py"
   ]
  },
  {
   "cell_type": "markdown",
   "metadata": {},
   "source": [
    "## Extra Credit "
   ]
  },
  {
   "cell_type": "markdown",
   "metadata": {},
   "source": [
    "I really want to implement at least one of the assignment's extra credits. This class is cool and I like playing around with different things, particularly games. Unfortunately it seems I've bitten off a little more than I maybe should've this semester and I only seem to have time to do the base assignment."
   ]
  },
  {
   "cell_type": "code",
   "execution_count": null,
   "metadata": {
    "collapsed": true
   },
   "outputs": [],
   "source": []
  }
 ],
 "metadata": {
  "kernelspec": {
   "display_name": "Python 3",
   "language": "python",
   "name": "python3"
  },
  "language_info": {
   "codemirror_mode": {
    "name": "ipython",
    "version": 3
   },
   "file_extension": ".py",
   "mimetype": "text/x-python",
   "name": "python",
   "nbconvert_exporter": "python",
   "pygments_lexer": "ipython3",
   "version": "3.6.2"
  }
 },
 "nbformat": 4,
 "nbformat_minor": 2
}
