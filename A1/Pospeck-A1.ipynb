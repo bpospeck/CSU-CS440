{
 "cells": [
  {
   "cell_type": "markdown",
   "metadata": {},
   "source": [
    "# Assignment 1: Uninformed Search"
   ]
  },
  {
   "cell_type": "markdown",
   "metadata": {},
   "source": [
    "Bradley Pospeck"
   ]
  },
  {
   "cell_type": "markdown",
   "metadata": {},
   "source": [
    "## Overview"
   ]
  },
  {
   "cell_type": "markdown",
   "metadata": {},
   "source": [
    "Breadth-first and depth-first are two algorithms for performing\n",
    "uninformed search---a search that does not use\n",
    "knowledge about the goal of the search. Both algorithms will be implemented in this assignment. \n",
    "\n",
    "Breadth first search achieves an uninformed search by exploring every level of the search space completely before moving on to the next level.\n",
    "\n",
    "Depth first search achieves an uninformed search by exploring down one path until it ends. Then it retreats back up another level and tries the next path all the way down."
   ]
  },
  {
   "cell_type": "markdown",
   "metadata": {},
   "source": [
    "## Imports"
   ]
  },
  {
   "cell_type": "code",
   "execution_count": 1,
   "metadata": {
    "collapsed": true
   },
   "outputs": [],
   "source": [
    "import copy"
   ]
  },
  {
   "cell_type": "markdown",
   "metadata": {},
   "source": [
    "## Functions"
   ]
  },
  {
   "cell_type": "markdown",
   "metadata": {},
   "source": [
    "Below are the 4 main functions that will be used for this assignment: `successorsf`, `breadthFirstSearch`, `depthFirstSearch`, and `uninformedSearch`. The function `successorsf` will be passed in to either `breadthFirstSearch` or `depthFirstSearch`, which will in turn pass on that function as well as start, goal, and search information to `uninformedSearch`."
   ]
  },
  {
   "cell_type": "code",
   "execution_count": 2,
   "metadata": {
    "collapsed": true
   },
   "outputs": [],
   "source": [
    "def breadthFirstSearch(startState, goalState, successorsf):\n",
    "    \"\"\"Calls the generic function 'uninformedSearch' to operate as bfs with startState, goalState, and a successorsf function.\n",
    "    Returns the same solution path received from uninformedSearch\"\"\"\n",
    "    return uninformedSearch(startState, goalState, successorsf, True)"
   ]
  },
  {
   "cell_type": "code",
   "execution_count": 3,
   "metadata": {
    "collapsed": true
   },
   "outputs": [],
   "source": [
    "def depthFirstSearch(startState, goalState, successorsf):\n",
    "    \"\"\"Calls the generic function 'uninformedSearch' to operate as dfs with startState, goalState, and a successorsf function.\n",
    "    Returns the same solution path received from uninformedSearch\"\"\"\n",
    "    return uninformedSearch(startState, goalState, successorsf, False)"
   ]
  },
  {
   "cell_type": "code",
   "execution_count": 4,
   "metadata": {
    "collapsed": true
   },
   "outputs": [],
   "source": [
    "def uninformedSearch(startState, goalState, successorsf, breadthFirst):\n",
    "    \"\"\"Used to perform either dfs or bfs on a graph given startState, goalState, a successorsf function, \n",
    "    and a boolean (breadthFirst). Returns a list containing the solution path between startState and goalState.\"\"\"\n",
    "    expanded = {}                                # expanded is a dict\n",
    "    unExpanded = [(startState, None)]            # unexpanded is a list of tuples\n",
    "    if (startState == goalState):\n",
    "        return [startState]\n",
    "    while (unExpanded):                          # while unExpanded is not an empty list\n",
    "        state = unExpanded.pop()                 # state is a (state, parent) pair\n",
    "        children = successorsf(state[0])         # children is a list\n",
    "        expanded[state[0]] = state[1]      \n",
    "        removeList = []\n",
    "        for child in children:\n",
    "            if child in expanded:\n",
    "                removeList.append(child)\n",
    "                continue\n",
    "            for tup in unExpanded:\n",
    "                if child == tup[0] and child in children:\n",
    "                    removeList.append(child)\n",
    "        for double in removeList:\n",
    "            if(double in children):\n",
    "                children.remove(double)\n",
    "        if goalState in children:\n",
    "            solution = [state[0] , goalState]\n",
    "            parent = state[1]\n",
    "            while parent != None:                 # while a parent exists\n",
    "                solution.insert(0,parent)\n",
    "                if parent in expanded:\n",
    "                    parent = expanded[parent]\n",
    "            return solution\n",
    "        children.sort()\n",
    "        children = list(reversed(children))\n",
    "        for i in range(len(children)):\n",
    "            children[i] = (children[i],state[0])  # making each entry go from just the child to the (child, parent) pair\n",
    "        if breadthFirst:\n",
    "            temp = children\n",
    "            temp.extend(unExpanded)\n",
    "            unExpanded = list(temp)\n",
    "        else:\n",
    "            unExpanded.extend(children)"
   ]
  },
  {
   "cell_type": "markdown",
   "metadata": {},
   "source": [
    "## Testing"
   ]
  },
  {
   "cell_type": "markdown",
   "metadata": {},
   "source": [
    "The first two examples are the ones initially given in the assignment to check my algorithms. The last is just another example for some of my own testing."
   ]
  },
  {
   "cell_type": "markdown",
   "metadata": {},
   "source": [
    "Here is a simple example.  States are defined by lower case letters.  A dictionary stores a list of successor states for each state in the graph that has successors."
   ]
  },
  {
   "cell_type": "code",
   "execution_count": 5,
   "metadata": {},
   "outputs": [
    {
     "data": {
      "text/plain": [
       "{'a': ['b', 'c', 'd'],\n",
       " 'b': ['e', 'f', 'g'],\n",
       " 'c': ['a', 'h', 'i'],\n",
       " 'd': ['j', 'z'],\n",
       " 'e': ['k', 'l'],\n",
       " 'g': ['m'],\n",
       " 'k': ['z']}"
      ]
     },
     "execution_count": 5,
     "metadata": {},
     "output_type": "execute_result"
    }
   ],
   "source": [
    "successors = {'a':  ['b', 'c', 'd'],\n",
    "              'b':  ['e', 'f', 'g'],\n",
    "              'c':  ['a', 'h', 'i'],\n",
    "              'd':  ['j', 'z'],\n",
    "              'e':  ['k', 'l'],\n",
    "              'g':  ['m'],\n",
    "              'k':  ['z']}\n",
    "successors"
   ]
  },
  {
   "cell_type": "code",
   "execution_count": 6,
   "metadata": {
    "collapsed": true
   },
   "outputs": [],
   "source": [
    "def successorsf(state):\n",
    "    \"\"\"Takes the current state from a graph and returns a list of all of its children\"\"\"\n",
    "    return copy.copy(successors.get(state, []))"
   ]
  },
  {
   "cell_type": "code",
   "execution_count": 7,
   "metadata": {
    "scrolled": true
   },
   "outputs": [
    {
     "name": "stdout",
     "output_type": "stream",
     "text": [
      "Breadth-first\n",
      "path from a to a is ['a']\n",
      "path from a to m is ['a', 'b', 'g', 'm']\n",
      "path from a to z is ['a', 'd', 'z']\n",
      "\n",
      "Depth-first\n",
      "path from a to a is ['a']\n",
      "path from a to m is ['a', 'b', 'g', 'm']\n",
      "path from a to z is ['a', 'b', 'e', 'k', 'z']\n"
     ]
    }
   ],
   "source": [
    "print('Breadth-first')\n",
    "print('path from a to a is', breadthFirstSearch('a', 'a', successorsf))\n",
    "print('path from a to m is', breadthFirstSearch('a', 'm', successorsf))\n",
    "print('path from a to z is', breadthFirstSearch('a', 'z', successorsf))\n",
    "print()\n",
    "print('Depth-first')\n",
    "print('path from a to a is', depthFirstSearch('a', 'a', successorsf))\n",
    "print('path from a to m is', depthFirstSearch('a', 'm', successorsf))\n",
    "print('path from a to z is', depthFirstSearch('a', 'z', successorsf))"
   ]
  },
  {
   "cell_type": "markdown",
   "metadata": {},
   "source": [
    "What if the goal doesn't exist?"
   ]
  },
  {
   "cell_type": "code",
   "execution_count": 8,
   "metadata": {},
   "outputs": [
    {
     "name": "stdout",
     "output_type": "stream",
     "text": [
      "Breadth-first\n",
      "path from a to p is None\n",
      "\n",
      "Depth-first\n",
      "path from a to p is None\n"
     ]
    }
   ],
   "source": [
    "print('Breadth-first')\n",
    "print('path from a to p is', breadthFirstSearch('a','p', successorsf))\n",
    "print()\n",
    "print('Depth-first')\n",
    "print('path from a to p is', depthFirstSearch('a','p', successorsf))"
   ]
  },
  {
   "cell_type": "markdown",
   "metadata": {},
   "source": [
    "Great! No errors thrown, just returns an empty solution path."
   ]
  },
  {
   "cell_type": "markdown",
   "metadata": {},
   "source": [
    "Let's try a navigation problem around a grid of size 10 x 10."
   ]
  },
  {
   "cell_type": "code",
   "execution_count": 9,
   "metadata": {
    "collapsed": true
   },
   "outputs": [],
   "source": [
    "def gridSuccessors(state):\n",
    "    row, col = state\n",
    "    # succs will be list of tuples () rather than list of lists [] because state must\n",
    "    # be an immutable type to serve as a key in dictionary of expanded nodes\n",
    "    succs = []\n",
    "    for r in [-1, 0, 1]:\n",
    "        for c in [-1, 0, 1]:\n",
    "            newr = row + r\n",
    "            newc = col + c\n",
    "            if 0 <= newr <= 9 and 0 <= newc <= 9:  # cool, huh?\n",
    "                succs.append( (newr, newc) )\n",
    "    return succs"
   ]
  },
  {
   "cell_type": "code",
   "execution_count": 10,
   "metadata": {},
   "outputs": [
    {
     "name": "stdout",
     "output_type": "stream",
     "text": [
      "Breadth-first\n",
      "path from (0, 0) to (9, 9) is [(0, 0), (1, 1), (2, 2), (3, 3), (4, 4), (5, 5), (6, 6), (7, 7), (8, 8), (9, 9)]\n"
     ]
    }
   ],
   "source": [
    "print('Breadth-first')\n",
    "print('path from (0, 0) to (9, 9) is', breadthFirstSearch((0, 0), (9, 9), gridSuccessors))"
   ]
  },
  {
   "cell_type": "code",
   "execution_count": 11,
   "metadata": {
    "scrolled": true
   },
   "outputs": [
    {
     "name": "stdout",
     "output_type": "stream",
     "text": [
      "Depth-first\n",
      "path from (0, 0) to (9, 9) is [(0, 0), (0, 1), (0, 2), (0, 3), (0, 4), (0, 5), (0, 6), (0, 7), (0, 8), (1, 9), (2, 8), (2, 7), (2, 6), (2, 5), (2, 4), (2, 3), (2, 2), (2, 1), (3, 0), (4, 0), (5, 0), (6, 0), (7, 0), (8, 0), (9, 1), (8, 2), (7, 2), (6, 2), (5, 2), (4, 3), (4, 4), (4, 5), (4, 6), (4, 7), (4, 8), (5, 9), (6, 8), (6, 7), (6, 6), (6, 5), (7, 4), (8, 4), (9, 5), (8, 6), (8, 7), (8, 8), (9, 9)]\n"
     ]
    }
   ],
   "source": [
    "print('Depth-first')\n",
    "print('path from (0, 0) to (9, 9) is', depthFirstSearch((0, 0), (9, 9), gridSuccessors))"
   ]
  },
  {
   "cell_type": "markdown",
   "metadata": {},
   "source": [
    "Another double check that a non-existent path won't break the algorithm."
   ]
  },
  {
   "cell_type": "code",
   "execution_count": 12,
   "metadata": {},
   "outputs": [
    {
     "name": "stdout",
     "output_type": "stream",
     "text": [
      "Breadth-first\n",
      "path from (0, 13) to (9, 9) is None\n"
     ]
    }
   ],
   "source": [
    "print('Breadth-first')\n",
    "print('path from (0, 13) to (9, 9) is', breadthFirstSearch((0, 13), (9, 9), gridSuccessors))"
   ]
  },
  {
   "cell_type": "code",
   "execution_count": 13,
   "metadata": {
    "scrolled": true
   },
   "outputs": [
    {
     "name": "stdout",
     "output_type": "stream",
     "text": [
      "Depth-first\n",
      "path from (0, 0) to (10, 9) is None\n"
     ]
    }
   ],
   "source": [
    "print('Depth-first')\n",
    "print('path from (0, 0) to (10, 9) is', depthFirstSearch((0, 0), (10, 9), gridSuccessors))"
   ]
  },
  {
   "cell_type": "markdown",
   "metadata": {},
   "source": [
    "Another couple of empty solution paths returned without errors, good."
   ]
  },
  {
   "cell_type": "markdown",
   "metadata": {},
   "source": [
    "Just for fun, I'd like to see if the algorithm still holds up (like it should) in 3D. The breadth first search should still yield a simple path from (0,0,0), (1,1,1), ... , (9,9,9). I'd mostly like to see how messy the depth first search solution path is."
   ]
  },
  {
   "cell_type": "code",
   "execution_count": 14,
   "metadata": {
    "collapsed": true
   },
   "outputs": [],
   "source": [
    "def gridSuccessors3d(state):\n",
    "    \"\"\"Same as gridSuccessors, just with 3 dimensions instead of 2\"\"\"\n",
    "    row, col, depth = state\n",
    "    # succs will be list of tuples () rather than list of lists [] because state must\n",
    "    # be an immutable type to serve as a key in dictionary of expanded nodes\n",
    "    succs = []\n",
    "    for r in [-1, 0, 1]:\n",
    "        for c in [-1, 0, 1]:\n",
    "            for d in [-1, 0, 1]:\n",
    "                newr = row + r\n",
    "                newc = col + c\n",
    "                newd = depth + d\n",
    "                if 0 <= newr <= 9 and 0 <= newc <= 9 and 0 <= newd <= 9:  # cool, huh?\n",
    "                    succs.append( (newr, newc, newd) )\n",
    "    return succs"
   ]
  },
  {
   "cell_type": "code",
   "execution_count": 15,
   "metadata": {
    "scrolled": true
   },
   "outputs": [
    {
     "name": "stdout",
     "output_type": "stream",
     "text": [
      "Breadth-first\n",
      "path from (0, 0, 0) to (9, 9, 9) is [(0, 0, 0), (1, 1, 1), (2, 2, 2), (3, 3, 3), (4, 4, 4), (5, 5, 5), (6, 6, 6), (7, 7, 7), (8, 8, 8), (9, 9, 9)]\n",
      "\n",
      "Depth-first\n",
      "path from (0, 0, 0) to (9, 9, 9) is [(0, 0, 0), (0, 0, 1), (0, 0, 2), (0, 0, 3), (0, 0, 4), (0, 0, 5), (0, 0, 6), (0, 0, 7), (0, 0, 8), (0, 1, 9), (0, 2, 8), (0, 2, 7), (0, 2, 6), (0, 2, 5), (0, 2, 4), (0, 2, 3), (0, 2, 2), (0, 2, 1), (0, 3, 0), (0, 4, 0), (0, 5, 0), (0, 6, 0), (0, 7, 0), (0, 8, 0), (0, 9, 1), (0, 8, 2), (0, 7, 2), (0, 6, 2), (0, 5, 2), (0, 4, 3), (0, 4, 4), (0, 4, 5), (0, 4, 6), (0, 4, 7), (0, 4, 8), (0, 5, 9), (0, 6, 8), (0, 6, 7), (0, 6, 6), (0, 6, 5), (0, 7, 4), (0, 8, 4), (0, 9, 5), (0, 8, 6), (0, 8, 7), (0, 8, 8), (1, 8, 9), (2, 7, 8), (2, 6, 7), (2, 5, 6), (2, 4, 5), (2, 3, 4), (2, 2, 3), (2, 1, 2), (2, 0, 1), (2, 1, 0), (2, 2, 0), (2, 3, 0), (2, 4, 0), (2, 5, 0), (2, 6, 0), (2, 7, 0), (2, 8, 0), (2, 9, 1), (2, 8, 2), (2, 7, 2), (2, 6, 2), (2, 5, 2), (3, 4, 2), (4, 3, 1), (4, 2, 0), (4, 1, 0), (4, 0, 1), (4, 0, 2), (4, 0, 3), (3, 0, 4), (2, 0, 5), (2, 0, 6), (2, 0, 7), (2, 0, 8), (2, 1, 9), (2, 2, 8), (2, 2, 7), (3, 2, 6), (4, 1, 6), (4, 0, 7), (4, 0, 8), (4, 1, 9), (4, 2, 8), (4, 3, 8), (3, 4, 8), (3, 5, 9), (4, 6, 8), (4, 6, 7), (4, 5, 6), (4, 4, 5), (4, 3, 4), (5, 2, 3), (6, 1, 2), (6, 0, 1), (6, 1, 0), (6, 2, 0), (6, 3, 0), (6, 4, 0), (5, 5, 0), (4, 6, 0), (4, 7, 0), (4, 8, 0), (4, 9, 1), (4, 8, 2), (4, 7, 2), (4, 6, 2), (5, 5, 2), (6, 4, 2), (7, 3, 2), (8, 2, 1), (8, 1, 0), (8, 0, 1), (8, 0, 2), (8, 0, 3), (7, 0, 4), (6, 0, 5), (6, 0, 6), (6, 0, 7), (6, 0, 8), (6, 1, 9), (6, 2, 8), (6, 2, 7), (6, 2, 6), (6, 2, 5), (7, 2, 4), (8, 2, 4), (9, 1, 5), (8, 0, 6), (8, 0, 7), (8, 0, 8), (8, 1, 9), (8, 2, 8), (8, 2, 7), (8, 3, 6), (7, 4, 5), (6, 4, 6), (6, 4, 7), (6, 4, 8), (6, 5, 9), (6, 6, 8), (6, 6, 7), (6, 6, 6), (5, 7, 5), (4, 6, 4), (3, 6, 4), (2, 7, 4), (2, 8, 4), (2, 9, 5), (2, 8, 6), (2, 9, 7), (3, 9, 8), (4, 8, 7), (4, 9, 6), (4, 9, 5), (5, 9, 4), (6, 8, 3), (6, 7, 2), (6, 7, 1), (6, 8, 0), (7, 9, 0), (8, 8, 0), (8, 7, 0), (8, 6, 0), (8, 5, 0), (9, 4, 1), (8, 5, 2), (8, 5, 3), (7, 6, 4), (8, 6, 5), (8, 6, 6), (8, 5, 7), (8, 4, 8), (8, 5, 9), (8, 6, 9), (8, 7, 8), (7, 8, 7), (6, 8, 8), (7, 9, 9), (8, 9, 9), (9, 9, 9)]\n"
     ]
    }
   ],
   "source": [
    "print('Breadth-first')\n",
    "print('path from (0, 0, 0) to (9, 9, 9) is', breadthFirstSearch((0, 0, 0), (9, 9, 9), gridSuccessors3d))\n",
    "print()\n",
    "print('Depth-first')\n",
    "print('path from (0, 0, 0) to (9, 9, 9) is', depthFirstSearch((0, 0, 0), (9, 9, 9), gridSuccessors3d))"
   ]
  },
  {
   "cell_type": "markdown",
   "metadata": {},
   "source": [
    "Depth first search's solution path was, in fact, a beautiful mess. Just as I hoped."
   ]
  },
  {
   "cell_type": "markdown",
   "metadata": {},
   "source": [
    "## Grading"
   ]
  },
  {
   "cell_type": "code",
   "execution_count": 16,
   "metadata": {},
   "outputs": [
    {
     "name": "stdout",
     "output_type": "stream",
     "text": [
      "Searching this graph:\n",
      " {'d': ['f', 'i'], 'a': ['b'], 'e': ['g', 'h', 'i'], 'b': ['c', 'd'], 'c': ['e']}\n",
      "Looking for path from a to b.\n",
      "20/20 points. Your breadthFirstSearch found correct solution path of ['a', 'b']\n",
      "20/20 points. Your depthFirstSearch found correct solution path of ['a', 'b']\n",
      "Looking for path from a to i.\n",
      "20/20 points. Your breadthFirstSearch found correct solution path of ['a', 'b', 'd', 'i']\n",
      "20/20 points. Your depthFirstSearch found correct solution path of ['a', 'b', 'c', 'e', 'i']\n",
      "\n",
      "C:\\Users\\Brad Pospeck\\Desktop\\Classes\\Senior III\\cs\\cs440\\A1 Grade is 80/100\n",
      "Up to 20 more points will be given based on the qualty of your descriptions of the method and the results.\n"
     ]
    }
   ],
   "source": [
    "%run -i A1grader.py"
   ]
  },
  {
   "cell_type": "code",
   "execution_count": null,
   "metadata": {
    "collapsed": true
   },
   "outputs": [],
   "source": []
  }
 ],
 "metadata": {
  "anaconda-cloud": {},
  "kernelspec": {
   "display_name": "Python [default]",
   "language": "python",
   "name": "python3"
  },
  "language_info": {
   "codemirror_mode": {
    "name": "ipython",
    "version": 3
   },
   "file_extension": ".py",
   "mimetype": "text/x-python",
   "name": "python",
   "nbconvert_exporter": "python",
   "pygments_lexer": "ipython3",
   "version": "3.5.3"
  }
 },
 "nbformat": 4,
 "nbformat_minor": 1
}
