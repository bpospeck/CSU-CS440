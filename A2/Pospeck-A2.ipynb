{
 "cells": [
  {
   "cell_type": "markdown",
   "metadata": {},
   "source": [
    "# Assignment 2: Iterative-Deepening Search"
   ]
  },
  {
   "cell_type": "markdown",
   "metadata": {},
   "source": [
    "Bradley Pospeck"
   ]
  },
  {
   "cell_type": "markdown",
   "metadata": {},
   "source": [
    "## Overview"
   ]
  },
  {
   "cell_type": "markdown",
   "metadata": {},
   "source": [
    "The goal of this assignment is to implement iterative deepening search. Two primary functions will be implemented in order to accomplish a depth limited search. \n",
    "\n",
    "The algorithm will be tested primarily on 2 puzzles. First, will be the 8 puzzle. The 8 puzzle is a simple 3x3 grid. One space on the grid is a blank, while the rest are filled with tiles numbered from 1-8. Generally, the goal would be to organize the tiles such that they're ordered from left to right, top to bottom. For this assignment, the goal can be any formation and the algorithm will attempt to find a way to that goal state from an arbitrary starting state.\n",
    "\n",
    "The second puzzle is personal choice. I implement a maze. Initially, I implemented a specific size maze for simplicity, but then go on to generalize it to any nxn maze. In both cases, the maze is randomly generated. The depth limited search will try to find a way from the starting position to the end position."
   ]
  },
  {
   "cell_type": "markdown",
   "metadata": {},
   "source": [
    "## Imports"
   ]
  },
  {
   "cell_type": "code",
   "execution_count": 1,
   "metadata": {
    "collapsed": true
   },
   "outputs": [],
   "source": [
    "import copy\n",
    "import random\n",
    "import math"
   ]
  },
  {
   "cell_type": "markdown",
   "metadata": {},
   "source": [
    "## Iterative Deepening Functions"
   ]
  },
  {
   "cell_type": "markdown",
   "metadata": {},
   "source": [
    "The following functions are implemented for this assignment:\n",
    "\n",
    "  * `iterativeDeepeningSearch(startState, goalState, actionsF, takeActionF, maxDepth)`\n",
    "  * `depthLimitedSearch(state, goalState, actionsF, takeActionF, depthLimit)`\n",
    "  \n",
    "`depthLimitedSearch` is called by `iterativeDeepeningSearch` with `depthLimit`s of $0, 1, \\ldots, $ `maxDepth`. Both must return either the solution path as a list of states, or the strings `cutoff` or `failure`.  `failure` signifies that all states were searched and the goal was not found. `cutoff` indicates that the maxDepth given to `iterativeDeepeningSearch` was not enough to fully explore all possible states and actions. This means that there may or may not be a solution path if it was `cutoff`.\n",
    "\n",
    "Both functions receive the arguments\n",
    "\n",
    "  * the starting state, \n",
    "  * a function `actionsF` that is given a state and returns a list of valid actions from that state,\n",
    "  * a function `takeActionF` that is given a state and an action and returns the new state that results from applying the action to the state,\n",
    "  * the goal state,\n",
    "  * either a `depthLimit` for `depthLimitedSearch`, or `maxDepth` for `iterativeDeepeningSearch`."
   ]
  },
  {
   "cell_type": "code",
   "execution_count": 2,
   "metadata": {
    "collapsed": true
   },
   "outputs": [],
   "source": [
    "def depthLimitedSearch(state, goalState, actionsF, takeActionF, depthLimit):\n",
    "    \"\"\"Recursive definition of a depth limited search. Attempts to find the 'goalState' from the 'state'. Uses passed in \n",
    "    functions 'actionsF' and 'takeActionF' to determine which actions are viable before iterating through those actions.\"\"\"\n",
    "    if state == goalState:\n",
    "        return []\n",
    "    if depthLimit == 0:\n",
    "        return 'cutoff'\n",
    "    cutoffOccurred = False\n",
    "    for action in actionsF(state):\n",
    "        childState = takeActionF(state, action)\n",
    "        result = depthLimitedSearch(childState, goalState, actionsF, takeActionF, depthLimit-1)\n",
    "        if result == 'cutoff':\n",
    "            cutoffOccurred = True\n",
    "        elif result != 'failure':\n",
    "            result.insert(0,childState)\n",
    "            return result\n",
    "    if cutoffOccurred:\n",
    "        return 'cutoff'\n",
    "    else:\n",
    "        return 'failure'"
   ]
  },
  {
   "cell_type": "code",
   "execution_count": 3,
   "metadata": {
    "collapsed": true
   },
   "outputs": [],
   "source": [
    "def iterativeDeepeningSearch(startState, goalState, actionsF, takeActionF, maxDepth):\n",
    "    \"\"\"Calls 'depthLimitedSearch' at a range of depths up to 'maxDepth' in order to try and find the 'goalState' from\n",
    "    'startState'\"\"\"\n",
    "    for depth in range(maxDepth):\n",
    "        result = depthLimitedSearch(startState, goalState, actionsF, takeActionF, depth)\n",
    "        if result == 'failure':\n",
    "            return 'failure'\n",
    "        if result != 'cutoff':\n",
    "            result.insert(0,startState)       \n",
    "            return result\n",
    "    return 'cutoff'"
   ]
  },
  {
   "cell_type": "markdown",
   "metadata": {},
   "source": [
    "In order to test out the functions, 2 different puzzles will be used. The first will be the 8 puzzle. The second will be a puzzle of my choice. I decided to use a maze."
   ]
  },
  {
   "cell_type": "markdown",
   "metadata": {},
   "source": [
    "## 8 Puzzle Implementation"
   ]
  },
  {
   "cell_type": "markdown",
   "metadata": {},
   "source": [
    "#### 8 Puzzle Functions"
   ]
  },
  {
   "cell_type": "markdown",
   "metadata": {},
   "source": [
    "The state of the 8 puzzle will simply be a list of integers. The blank space is represented by a 0.\n",
    "\n",
    "Required functions, as per the assignment, for the 8-puzzle are the following.\n",
    "\n",
    "  * `findBlank_8p(state)`: return the row and column index for the location of the blank (the 0 value).\n",
    "  * `actionsF_8p(state)`: returns a list of up to four valid actions that can be applied in `state`. Return them in the order `left`, `right`, `up`, `down`, though only if each one is a valid action.\n",
    "  * `takeActionF_8p(state, action)`: return the state that results from applying `action` in `state`.\n",
    "  * `goalTestF_8p(state, goalState)`: return `True` if state is a goal state.\n",
    "  * `printPath_8p(startState, goalState, path)`: print a solution path in a readable form.  You choose the format."
   ]
  },
  {
   "cell_type": "code",
   "execution_count": 4,
   "metadata": {
    "collapsed": true
   },
   "outputs": [],
   "source": [
    "def findBlank_8p(state):\n",
    "    \"\"\"Finds and returns the (row,column) index for the current state's blank/0 location\"\"\"\n",
    "    index = state.index(0)\n",
    "    row = int(index/3)\n",
    "    col = index % 3\n",
    "    return (row, col)"
   ]
  },
  {
   "cell_type": "code",
   "execution_count": 5,
   "metadata": {
    "collapsed": true
   },
   "outputs": [],
   "source": [
    "def actionsF_8p(state):\n",
    "    \"\"\"Takes the current state and returns a list of the valid actions. Four possible actions: left, right, up, down.\"\"\"\n",
    "    actions = ['left','right','up','down']\n",
    "    blank = findBlank_8p(state)\n",
    "    if(blank[0] == 0):\n",
    "        if 'up' in actions: actions.remove('up')#actions should never be removed before here, but it's good housekeeping to check\n",
    "    if(blank[0] == 2):\n",
    "        if 'down' in actions: actions.remove('down')\n",
    "    if(blank[1] == 0):\n",
    "        if 'left' in actions: actions.remove('left')\n",
    "    if(blank[1] == 2):\n",
    "        if 'right' in actions: actions.remove('right')\n",
    "    return actions"
   ]
  },
  {
   "cell_type": "code",
   "execution_count": 6,
   "metadata": {
    "collapsed": true
   },
   "outputs": [],
   "source": [
    "def takeActionF_8p(state, action):\n",
    "    \"\"\"Apply the given action to state and return the resulting state\"\"\"\n",
    "    cp = copy.copy(state) # If a copy isn't taken, the action will permanently change the original state passed in, which is bad\n",
    "    index = cp.index(0)\n",
    "    if(action == 'left'):\n",
    "        temp = cp[index-1]\n",
    "        cp[index-1] = 0\n",
    "        cp[index] = temp\n",
    "    elif(action == 'right'):\n",
    "        temp = cp[index+1]\n",
    "        cp[index+1] = 0\n",
    "        cp[index] = temp\n",
    "    elif(action == 'up'):\n",
    "        temp = cp[index-3]\n",
    "        cp[index-3] = 0\n",
    "        cp[index] = temp\n",
    "    else: #action is down\n",
    "        temp = cp[index+3]\n",
    "        cp[index+3] = 0\n",
    "        cp[index] = temp\n",
    "    return cp"
   ]
  },
  {
   "cell_type": "code",
   "execution_count": 7,
   "metadata": {
    "collapsed": true
   },
   "outputs": [],
   "source": [
    "def printPath_8p(startState, goalState, path):\n",
    "    \"\"\"Prints out the startState and goalState of the 8 puzzle. Prints out the path between both states, if it exists.\"\"\"\n",
    "    if path != 'failure' and path != 'cutoff':\n",
    "        print('Solution path to the goal is {} steps long\\n'.format(len(path)-1))\n",
    "    print('Starting state:')\n",
    "    printState_8p(startState)\n",
    "    print('Goal state:')\n",
    "    printState_8p(goalState)\n",
    "    print('Solution path:')\n",
    "    if path == 'failure':\n",
    "        print('Failed: No solution found')\n",
    "    elif path == 'cutoff':\n",
    "        print('Path was cutoff')\n",
    "    else:\n",
    "        for i in path:\n",
    "            printState_8p(i)"
   ]
  },
  {
   "cell_type": "code",
   "execution_count": 8,
   "metadata": {
    "collapsed": true
   },
   "outputs": [],
   "source": [
    "def printState_8p(state):\n",
    "    \"\"\"Prints out the 3x3 state of the 8 puzzle\"\"\"\n",
    "    index = state.index(0)\n",
    "    state[index] = ' '\n",
    "    print('{} {} {}'.format(state[0],state[1],state[2]))\n",
    "    print('{} {} {}'.format(state[3],state[4],state[5]))\n",
    "    print('{} {} {}'.format(state[6],state[7],state[8]))\n",
    "    print()\n",
    "    state[index] = 0"
   ]
  },
  {
   "cell_type": "markdown",
   "metadata": {},
   "source": [
    "#### 8 Puzzle Testing"
   ]
  },
  {
   "cell_type": "markdown",
   "metadata": {},
   "source": [
    "To make testing easier/faster, I'll use random state generators. One was provided with the assignment, `randomStartState`, but I wrote my own `randomState` function for completely random states. For the sake of notebook brevity, I'll only show one successful example of each case: finding a path, cutoff, and failure."
   ]
  },
  {
   "cell_type": "code",
   "execution_count": 9,
   "metadata": {
    "collapsed": true
   },
   "outputs": [],
   "source": [
    "def randomState():\n",
    "    \"\"\"Generates a completely random state for 8 puzzle\"\"\"\n",
    "    state = []\n",
    "    rand = [0,1,2,3,4,5,6,7,8]\n",
    "    for i in range(9):\n",
    "        select = random.choice(rand)\n",
    "        state.insert(i, select)\n",
    "        rand.remove(select)\n",
    "    return state"
   ]
  },
  {
   "cell_type": "code",
   "execution_count": 10,
   "metadata": {
    "collapsed": true
   },
   "outputs": [],
   "source": [
    "def randomStartState(goalState, actionsF, takeActionF, nSteps):\n",
    "    \"\"\"Generates a startState given a random set of actions from a desired goalState\"\"\"\n",
    "    state = goalState\n",
    "    for i in range(nSteps):\n",
    "        state = takeActionF(state, random.choice(actionsF(state)))\n",
    "    return state"
   ]
  },
  {
   "cell_type": "markdown",
   "metadata": {},
   "source": [
    "I'll start with start/goal pairings that are guaranteed to have a goal to make sure it works properly when there is a path. **Note:** When printing out the 8 puzzle, the 0's were removed in favor of actual blank spaces in order see where the blank is quicker."
   ]
  },
  {
   "cell_type": "code",
   "execution_count": 11,
   "metadata": {},
   "outputs": [
    {
     "name": "stdout",
     "output_type": "stream",
     "text": [
      "Solution path to the goal is 8 steps long\n",
      "\n",
      "Starting state:\n",
      "7 4  \n",
      "6 8 2\n",
      "5 1 3\n",
      "\n",
      "Goal state:\n",
      "7 2 8\n",
      "6 4 3\n",
      "  5 1\n",
      "\n",
      "Solution path:\n",
      "7 4  \n",
      "6 8 2\n",
      "5 1 3\n",
      "\n",
      "7 4 2\n",
      "6 8  \n",
      "5 1 3\n",
      "\n",
      "7 4 2\n",
      "6   8\n",
      "5 1 3\n",
      "\n",
      "7   2\n",
      "6 4 8\n",
      "5 1 3\n",
      "\n",
      "7 2  \n",
      "6 4 8\n",
      "5 1 3\n",
      "\n",
      "7 2 8\n",
      "6 4  \n",
      "5 1 3\n",
      "\n",
      "7 2 8\n",
      "6 4 3\n",
      "5 1  \n",
      "\n",
      "7 2 8\n",
      "6 4 3\n",
      "5   1\n",
      "\n",
      "7 2 8\n",
      "6 4 3\n",
      "  5 1\n",
      "\n"
     ]
    }
   ],
   "source": [
    "goal = randomState()\n",
    "start = randomStartState(goal, actionsF_8p, takeActionF_8p, 20)\n",
    "path = iterativeDeepeningSearch(start, goal, actionsF_8p, takeActionF_8p, 10)\n",
    "printPath_8p(start, goal, path)"
   ]
  },
  {
   "cell_type": "markdown",
   "metadata": {},
   "source": [
    "Now I'll make start/goal pairings competely random to see if cutoffs are handled correctly without crashing. **Note:** It's entirely possible that the 2 random states won't end up yielding a cutoff path. So when running the below cell, keep in mind a solution path may still be found."
   ]
  },
  {
   "cell_type": "code",
   "execution_count": 12,
   "metadata": {},
   "outputs": [
    {
     "name": "stdout",
     "output_type": "stream",
     "text": [
      "Starting state:\n",
      "2 7 1\n",
      "3 4 6\n",
      "  5 8\n",
      "\n",
      "Goal state:\n",
      "3 6 7\n",
      "  4 1\n",
      "2 5 8\n",
      "\n",
      "Solution path:\n",
      "Path was cutoff\n"
     ]
    }
   ],
   "source": [
    "goal = randomState()\n",
    "start = randomState()\n",
    "path = iterativeDeepeningSearch(start, goal, actionsF_8p, takeActionF_8p, 5)\n",
    "printPath_8p(start, goal, path)"
   ]
  },
  {
   "cell_type": "markdown",
   "metadata": {},
   "source": [
    "At the very least, testing my `printPath_8p` function with a failure is easy enough to do."
   ]
  },
  {
   "cell_type": "code",
   "execution_count": 13,
   "metadata": {},
   "outputs": [
    {
     "name": "stdout",
     "output_type": "stream",
     "text": [
      "Starting state:\n",
      "2 7 1\n",
      "3 4 6\n",
      "  5 8\n",
      "\n",
      "Goal state:\n",
      "3 6 7\n",
      "  4 1\n",
      "2 5 8\n",
      "\n",
      "Solution path:\n",
      "Failed: No solution found\n"
     ]
    }
   ],
   "source": [
    "printPath_8p(start, goal, 'failure')"
   ]
  },
  {
   "cell_type": "markdown",
   "metadata": {},
   "source": [
    "## 5x5 Maze Implementation"
   ]
  },
  {
   "cell_type": "markdown",
   "metadata": {},
   "source": [
    "I decided it would be fun to try and setup randomly generated mazes for my second puzzle on this assignment. It's a simple maze with only left, right, up, and down actions. As with the 8 puzzle, the state of the maze will be a list, but of symbols this time."
   ]
  },
  {
   "cell_type": "markdown",
   "metadata": {},
   "source": [
    "#### Maze Functions"
   ]
  },
  {
   "cell_type": "markdown",
   "metadata": {},
   "source": [
    "For simplicity, I hardcoded values to work with a randomly generated 7x7 maze. However, the entire perimeter of the maze is always a wall. Everything within that wall will be randomly generated. This effectively makes the maze a 5x5. Traversable paths are denoted by a space, while walls are denoted by a star. A single 'S' will be placed at a random location to start the maze. To generate a goal, the starting maze will be passed in to `goalMaze`. This function will automatically move the 'S' to any traversable spot, not a wall. There is a chance it will simply place the 'S' in the starting location too."
   ]
  },
  {
   "cell_type": "code",
   "execution_count": 14,
   "metadata": {
    "collapsed": true
   },
   "outputs": [],
   "source": [
    "def mazeActionsF(state):\n",
    "    \"\"\"Takes the current maze state and returns a list of the valid actions. Four possible actions: left, right, up, down.\"\"\"\n",
    "    actions = ['left','right','up','down']\n",
    "    s = state.index('S')\n",
    "    if state[s-1] == '*':\n",
    "        if 'left' in actions: actions.remove('left') # simple insurance check, even though actions shouldn't be removed before\n",
    "    if state[s+1] == '*':\n",
    "        if 'right' in actions: actions.remove('right')\n",
    "    if state[s-7] == '*':\n",
    "        if 'up' in actions: actions.remove('up')\n",
    "    if state[s+7] == '*':\n",
    "        if 'down' in actions: actions.remove('down')\n",
    "    return actions"
   ]
  },
  {
   "cell_type": "code",
   "execution_count": 15,
   "metadata": {
    "collapsed": true
   },
   "outputs": [],
   "source": [
    "def takeMazeActionF(state, action):\n",
    "    \"\"\"Apply the given action to the maze state and return the resulting state\"\"\"\n",
    "    cp = copy.copy(state) # If a copy isn't taken, the action will permanently change the original state passed in, which is bad\n",
    "    index = cp.index('S')\n",
    "    if(action == 'left'):\n",
    "        temp = cp[index-1]\n",
    "        cp[index-1] = 'S'\n",
    "        cp[index] = temp\n",
    "    elif(action == 'right'):\n",
    "        temp = cp[index+1]\n",
    "        cp[index+1] = 'S'\n",
    "        cp[index] = temp\n",
    "    elif(action == 'up'):\n",
    "        temp = cp[index-7]\n",
    "        cp[index-7] = 'S'\n",
    "        cp[index] = temp\n",
    "    else: #action is down\n",
    "        temp = cp[index+7]\n",
    "        cp[index+7] = 'S'\n",
    "        cp[index] = temp\n",
    "    return cp"
   ]
  },
  {
   "cell_type": "code",
   "execution_count": 16,
   "metadata": {
    "collapsed": true
   },
   "outputs": [],
   "source": [
    "def randomMaze():\n",
    "    \"\"\"Randomly generates a 5x5 maze with a starting position, 'S'. The full size is a 7x7, but the entire perimeter is a wall\"\"\"\n",
    "    maze = []\n",
    "    space = ['*','*','*',' ',' ',' ',' ',' ',' ',' ','S'] # 3 walls, 7 spaces so walls aren't randomly picked as often. 1 start\n",
    "    for i in range(49): # 7x7 maze, with walls on all edges; effectively a 5x5 randomly generated maze\n",
    "        if i<7 or i>41 or i%7==0 or i%7==6:\n",
    "            maze.append('*')\n",
    "        else:\n",
    "            place = random.choice(space)\n",
    "            if place == 'S':\n",
    "                space.remove(place)\n",
    "            if 'S' not in maze and 'S' in space and i == 40: # Forces a start location if it wasn't randomly picked before here\n",
    "                maze.append('S')\n",
    "                space.remove('S')\n",
    "                continue\n",
    "            maze.append(place)\n",
    "    return maze"
   ]
  },
  {
   "cell_type": "code",
   "execution_count": 17,
   "metadata": {
    "collapsed": true
   },
   "outputs": [],
   "source": [
    "def mazeGoal(maze):\n",
    "    \"\"\"Takes an existing maze as an argument, and shifts the 'S' to an open space to generate and return a goal maze\"\"\"\n",
    "    goalMaze = copy.copy(maze)\n",
    "    start = goalMaze.index('S')\n",
    "    goalMaze[start] = ' '\n",
    "    available = []\n",
    "    for i in range(len(goalMaze)):\n",
    "        if goalMaze[i] == ' ':\n",
    "            available.append(i)\n",
    "    goal = random.choice(available)\n",
    "    goalMaze[goal] = 'S'\n",
    "    return goalMaze"
   ]
  },
  {
   "cell_type": "code",
   "execution_count": 18,
   "metadata": {
    "collapsed": true
   },
   "outputs": [],
   "source": [
    "def printMazePath(startState, goalState, path):\n",
    "    \"\"\"Prints out startState and goalState of the maze and shows the path to get there, if the path exists.\"\"\"\n",
    "    if path != 'failure' and path != 'cutoff':\n",
    "        print('Solution path to the goal is {} steps long\\n'.format(len(path)-1))\n",
    "    print('Starting state:')\n",
    "    printMaze(startState)\n",
    "    print('Goal state:')\n",
    "    printMaze(goalState)\n",
    "    print('Solution path:')\n",
    "    if path == 'failure':\n",
    "        print('Failed: No solution found')\n",
    "    elif path == 'cutoff':\n",
    "        print('Path was cutoff')\n",
    "    else:\n",
    "        for i in path:\n",
    "            printMaze(i)"
   ]
  },
  {
   "cell_type": "code",
   "execution_count": 19,
   "metadata": {
    "collapsed": true
   },
   "outputs": [],
   "source": [
    "def printMaze(maze):\n",
    "    \"\"\"Simply prints out the maze in it's 7x7 form\"\"\"\n",
    "    for row in range(7):\n",
    "        for col in range(7):\n",
    "            print(maze[row*7 + col], end='')\n",
    "        print()\n",
    "    print()"
   ]
  },
  {
   "cell_type": "markdown",
   "metadata": {},
   "source": [
    "#### Maze Testing"
   ]
  },
  {
   "cell_type": "markdown",
   "metadata": {},
   "source": [
    "Again, for brevity, I'll only be showing an example of each case. Given the random generation, when run again, the notebook may not produce both a 'cutoff' and completed solution."
   ]
  },
  {
   "cell_type": "code",
   "execution_count": 20,
   "metadata": {},
   "outputs": [
    {
     "name": "stdout",
     "output_type": "stream",
     "text": [
      "Solution path to the goal is 7 steps long\n",
      "\n",
      "Starting state:\n",
      "*******\n",
      "*S  ***\n",
      "*    **\n",
      "** ** *\n",
      "*     *\n",
      "*     *\n",
      "*******\n",
      "\n",
      "Goal state:\n",
      "*******\n",
      "*   ***\n",
      "*    **\n",
      "** ** *\n",
      "*    S*\n",
      "*     *\n",
      "*******\n",
      "\n",
      "Solution path:\n",
      "*******\n",
      "*S  ***\n",
      "*    **\n",
      "** ** *\n",
      "*     *\n",
      "*     *\n",
      "*******\n",
      "\n",
      "*******\n",
      "* S ***\n",
      "*    **\n",
      "** ** *\n",
      "*     *\n",
      "*     *\n",
      "*******\n",
      "\n",
      "*******\n",
      "*   ***\n",
      "* S  **\n",
      "** ** *\n",
      "*     *\n",
      "*     *\n",
      "*******\n",
      "\n",
      "*******\n",
      "*   ***\n",
      "*    **\n",
      "**S** *\n",
      "*     *\n",
      "*     *\n",
      "*******\n",
      "\n",
      "*******\n",
      "*   ***\n",
      "*    **\n",
      "** ** *\n",
      "* S   *\n",
      "*     *\n",
      "*******\n",
      "\n",
      "*******\n",
      "*   ***\n",
      "*    **\n",
      "** ** *\n",
      "*  S  *\n",
      "*     *\n",
      "*******\n",
      "\n",
      "*******\n",
      "*   ***\n",
      "*    **\n",
      "** ** *\n",
      "*   S *\n",
      "*     *\n",
      "*******\n",
      "\n",
      "*******\n",
      "*   ***\n",
      "*    **\n",
      "** ** *\n",
      "*    S*\n",
      "*     *\n",
      "*******\n",
      "\n"
     ]
    }
   ],
   "source": [
    "start = randomMaze()\n",
    "goal = mazeGoal(start)\n",
    "path = iterativeDeepeningSearch(start, goal, mazeActionsF, takeMazeActionF, 10)\n",
    "printMazePath(start, goal, path)"
   ]
  },
  {
   "cell_type": "code",
   "execution_count": 21,
   "metadata": {},
   "outputs": [
    {
     "name": "stdout",
     "output_type": "stream",
     "text": [
      "Starting state:\n",
      "*******\n",
      "*   * *\n",
      "*  *  *\n",
      "***S **\n",
      "*     *\n",
      "* *   *\n",
      "*******\n",
      "\n",
      "Goal state:\n",
      "*******\n",
      "*   * *\n",
      "*  *  *\n",
      "***  **\n",
      "*S    *\n",
      "* *   *\n",
      "*******\n",
      "\n",
      "Solution path:\n",
      "Path was cutoff\n"
     ]
    }
   ],
   "source": [
    "start = randomMaze()\n",
    "goal = mazeGoal(start)\n",
    "path = iterativeDeepeningSearch(start, goal, mazeActionsF, takeMazeActionF, 2)\n",
    "printMazePath(start, goal, path)"
   ]
  },
  {
   "cell_type": "markdown",
   "metadata": {},
   "source": [
    "Above, I did not run a full check with `iterativeDeepeningSearch` to see if it handles failure correctly. I only tested it with printing out the puzzle's solution path. Now I'll give `iterativeDeepeningSearch` a maze that's impossible to solve to ensure it returns `failure` correctly."
   ]
  },
  {
   "cell_type": "code",
   "execution_count": 22,
   "metadata": {},
   "outputs": [
    {
     "name": "stdout",
     "output_type": "stream",
     "text": [
      "Starting state:\n",
      "*******\n",
      "*******\n",
      "*******\n",
      "***S***\n",
      "*******\n",
      "*******\n",
      "*******\n",
      "\n",
      "Goal state:\n",
      "*******\n",
      "*S*****\n",
      "*******\n",
      "*******\n",
      "*******\n",
      "*******\n",
      "*******\n",
      "\n",
      "Solution path:\n",
      "Failed: No solution found\n"
     ]
    }
   ],
   "source": [
    "start = ['*']*49 \n",
    "goal  = ['*']*49\n",
    "start[24] = 'S'\n",
    "goal[8]   = 'S'\n",
    "path = iterativeDeepeningSearch(start, goal, mazeActionsF, takeMazeActionF, 4)\n",
    "printMazePath(start, goal, path)"
   ]
  },
  {
   "cell_type": "markdown",
   "metadata": {},
   "source": [
    "#### General Size Maze"
   ]
  },
  {
   "cell_type": "markdown",
   "metadata": {},
   "source": [
    "Since I know my maze generator works above, and my algorithm works with it, I'd like to generalize my maze to any `nxn` maze for fun. I'll make it so the user provides an 'n' to make the maze. The `nxn` will include the perimeter, which means the actual size of the random portion of the maze will be `(n-2)x(n-2)`."
   ]
  },
  {
   "cell_type": "code",
   "execution_count": 23,
   "metadata": {
    "collapsed": true
   },
   "outputs": [],
   "source": [
    "def genMazeActionsF(state):\n",
    "    \"\"\"Takes the current nxn maze state and returns a list of the valid actions. Four possible actions: left, right, up, down.\"\"\"\n",
    "    actions = ['left','right','up','down']\n",
    "    s = state.index('S')\n",
    "    size = len(state)\n",
    "    n = int(math.sqrt(size))\n",
    "    if state[s-1] == '*':\n",
    "        if 'left' in actions: actions.remove('left') # simple insurance check, even though actions shouldn't be removed before\n",
    "    if state[s+1] == '*':\n",
    "        if 'right' in actions: actions.remove('right')\n",
    "    if state[s-n] == '*':\n",
    "        if 'up' in actions: actions.remove('up')\n",
    "    if state[s+n] == '*':\n",
    "        if 'down' in actions: actions.remove('down')\n",
    "    return actions"
   ]
  },
  {
   "cell_type": "code",
   "execution_count": 24,
   "metadata": {
    "collapsed": true
   },
   "outputs": [],
   "source": [
    "def takeGenMazeActionF(state, action):\n",
    "    \"\"\"Apply the given action to the nxn maze state and return the resulting state\"\"\"\n",
    "    cp = copy.copy(state) # If a copy isn't taken, the action will permanently change the original state passed in, which is bad\n",
    "    index = cp.index('S')\n",
    "    size = len(state)\n",
    "    n = int(math.sqrt(size))\n",
    "    if(action == 'left'):\n",
    "        temp = cp[index-1]\n",
    "        cp[index-1] = 'S'\n",
    "        cp[index] = temp\n",
    "    elif(action == 'right'):\n",
    "        temp = cp[index+1]\n",
    "        cp[index+1] = 'S'\n",
    "        cp[index] = temp\n",
    "    elif(action == 'up'):\n",
    "        temp = cp[index-n]\n",
    "        cp[index-n] = 'S'\n",
    "        cp[index] = temp\n",
    "    else: #action is down\n",
    "        temp = cp[index+n]\n",
    "        cp[index+n] = 'S'\n",
    "        cp[index] = temp\n",
    "    return cp"
   ]
  },
  {
   "cell_type": "code",
   "execution_count": 25,
   "metadata": {
    "collapsed": true
   },
   "outputs": [],
   "source": [
    "def randomGenMaze(n):\n",
    "    \"\"\"Randomly generates a (n-2)x(n-2) maze with a starting position, 'S'. \n",
    "    The full size is nxn, but the entire perimeter is a wall\"\"\"\n",
    "    if n < 3:\n",
    "        print('n must be 3 or greater. Setting n to 3 for you.')\n",
    "        n = 3\n",
    "    maze = []\n",
    "    space = ['*','*','*',' ',' ',' ',' ',' ',' ',' ','S'] # 3 walls, 7 spaces so walls aren't randomly picked as often. 1 start\n",
    "    for i in range(n**2): # nxn maze, with walls on all edges; effectively a (n-2)x(n-2) randomly generated maze\n",
    "        if i<n or i>(n*(n-1)-1) or i%n==0 or i%n==(n-1):\n",
    "            maze.append('*')\n",
    "        else:\n",
    "            place = random.choice(space)\n",
    "            if place == 'S':\n",
    "                space.remove(place)\n",
    "            if 'S' not in maze and 'S' in space and i == (n*(n-1)-2): # Forces start location if it wasn't randomly picked before\n",
    "                maze.append('S')\n",
    "                space.remove('S')\n",
    "                continue\n",
    "            maze.append(place)\n",
    "    return maze"
   ]
  },
  {
   "cell_type": "code",
   "execution_count": 26,
   "metadata": {
    "collapsed": true
   },
   "outputs": [],
   "source": [
    "def printGenMazePath(startState, goalState, path):\n",
    "    \"\"\"Prints out startState and goalState of the nxn maze and shows the path to get there, if the path exists.\"\"\"\n",
    "    if path != 'failure' and path != 'cutoff':\n",
    "        print('Solution path to the goal is {} steps long\\n'.format(len(path)-1))\n",
    "    print('Starting state:')\n",
    "    printGenMaze(startState)\n",
    "    print('Goal state:')\n",
    "    printGenMaze(goalState)\n",
    "    print('Solution path:')\n",
    "    if path == 'failure':\n",
    "        print('Failed: No solution found')\n",
    "    elif path == 'cutoff':\n",
    "        print('Path was cutoff')\n",
    "    else:\n",
    "        for i in path:\n",
    "            printGenMaze(i)"
   ]
  },
  {
   "cell_type": "code",
   "execution_count": 27,
   "metadata": {
    "collapsed": true
   },
   "outputs": [],
   "source": [
    "def printGenMaze(maze):\n",
    "    \"\"\"Simply prints out the maze in it's nxn form\"\"\"\n",
    "    size = len(maze)\n",
    "    n = int(math.sqrt(size))\n",
    "    for row in range(n):\n",
    "        for col in range(n):\n",
    "            print(maze[row*n + col], end='')\n",
    "        print()\n",
    "    print()"
   ]
  },
  {
   "cell_type": "markdown",
   "metadata": {},
   "source": [
    "Might as well start generating mazes of the same size as the hard-coded generator above to see if it works."
   ]
  },
  {
   "cell_type": "code",
   "execution_count": 28,
   "metadata": {},
   "outputs": [
    {
     "name": "stdout",
     "output_type": "stream",
     "text": [
      "Starting state:\n",
      "*******\n",
      "**S*  *\n",
      "* *****\n",
      "** *  *\n",
      "*   * *\n",
      "***  **\n",
      "*******\n",
      "\n",
      "Goal state:\n",
      "*******\n",
      "** *  *\n",
      "* *****\n",
      "** *  *\n",
      "*   * *\n",
      "*** S**\n",
      "*******\n",
      "\n",
      "Solution path:\n",
      "Failed: No solution found\n"
     ]
    }
   ],
   "source": [
    "start = randomGenMaze(7)\n",
    "goal = mazeGoal(start)\n",
    "path = iterativeDeepeningSearch(start, goal, genMazeActionsF, takeGenMazeActionF, 10)\n",
    "printGenMazePath(start, goal, path)"
   ]
  },
  {
   "cell_type": "markdown",
   "metadata": {},
   "source": [
    "Let's make the maze a little larger this time."
   ]
  },
  {
   "cell_type": "code",
   "execution_count": 29,
   "metadata": {},
   "outputs": [
    {
     "name": "stdout",
     "output_type": "stream",
     "text": [
      "Solution path to the goal is 9 steps long\n",
      "\n",
      "Starting state:\n",
      "********************\n",
      "*  S     ** * * *  *\n",
      "*        * *      **\n",
      "* * *     ** *     *\n",
      "*  ****  *   **    *\n",
      "*  *    *   *  **  *\n",
      "***        * *  *  *\n",
      "*  * *    *      * *\n",
      "** *  **  *  *    **\n",
      "*   *              *\n",
      "*     *   **       *\n",
      "**     *       **  *\n",
      "***    *  *    **  *\n",
      "*  *     *      ** *\n",
      "* *      *   * *   *\n",
      "*      *        ****\n",
      "***    *  * ***  * *\n",
      "*  *     ** *     **\n",
      "*    *  *   *     **\n",
      "********************\n",
      "\n",
      "Goal state:\n",
      "********************\n",
      "*        ** * * *  *\n",
      "*        * *      **\n",
      "* * *     ** *     *\n",
      "*  ****  *   **    *\n",
      "*  *  S *   *  **  *\n",
      "***        * *  *  *\n",
      "*  * *    *      * *\n",
      "** *  **  *  *    **\n",
      "*   *              *\n",
      "*     *   **       *\n",
      "**     *       **  *\n",
      "***    *  *    **  *\n",
      "*  *     *      ** *\n",
      "* *      *   * *   *\n",
      "*      *        ****\n",
      "***    *  * ***  * *\n",
      "*  *     ** *     **\n",
      "*    *  *   *     **\n",
      "********************\n",
      "\n",
      "Solution path:\n",
      "********************\n",
      "*  S     ** * * *  *\n",
      "*        * *      **\n",
      "* * *     ** *     *\n",
      "*  ****  *   **    *\n",
      "*  *    *   *  **  *\n",
      "***        * *  *  *\n",
      "*  * *    *      * *\n",
      "** *  **  *  *    **\n",
      "*   *              *\n",
      "*     *   **       *\n",
      "**     *       **  *\n",
      "***    *  *    **  *\n",
      "*  *     *      ** *\n",
      "* *      *   * *   *\n",
      "*      *        ****\n",
      "***    *  * ***  * *\n",
      "*  *     ** *     **\n",
      "*    *  *   *     **\n",
      "********************\n",
      "\n",
      "********************\n",
      "*   S    ** * * *  *\n",
      "*        * *      **\n",
      "* * *     ** *     *\n",
      "*  ****  *   **    *\n",
      "*  *    *   *  **  *\n",
      "***        * *  *  *\n",
      "*  * *    *      * *\n",
      "** *  **  *  *    **\n",
      "*   *              *\n",
      "*     *   **       *\n",
      "**     *       **  *\n",
      "***    *  *    **  *\n",
      "*  *     *      ** *\n",
      "* *      *   * *   *\n",
      "*      *        ****\n",
      "***    *  * ***  * *\n",
      "*  *     ** *     **\n",
      "*    *  *   *     **\n",
      "********************\n",
      "\n",
      "********************\n",
      "*    S   ** * * *  *\n",
      "*        * *      **\n",
      "* * *     ** *     *\n",
      "*  ****  *   **    *\n",
      "*  *    *   *  **  *\n",
      "***        * *  *  *\n",
      "*  * *    *      * *\n",
      "** *  **  *  *    **\n",
      "*   *              *\n",
      "*     *   **       *\n",
      "**     *       **  *\n",
      "***    *  *    **  *\n",
      "*  *     *      ** *\n",
      "* *      *   * *   *\n",
      "*      *        ****\n",
      "***    *  * ***  * *\n",
      "*  *     ** *     **\n",
      "*    *  *   *     **\n",
      "********************\n",
      "\n",
      "********************\n",
      "*     S  ** * * *  *\n",
      "*        * *      **\n",
      "* * *     ** *     *\n",
      "*  ****  *   **    *\n",
      "*  *    *   *  **  *\n",
      "***        * *  *  *\n",
      "*  * *    *      * *\n",
      "** *  **  *  *    **\n",
      "*   *              *\n",
      "*     *   **       *\n",
      "**     *       **  *\n",
      "***    *  *    **  *\n",
      "*  *     *      ** *\n",
      "* *      *   * *   *\n",
      "*      *        ****\n",
      "***    *  * ***  * *\n",
      "*  *     ** *     **\n",
      "*    *  *   *     **\n",
      "********************\n",
      "\n",
      "********************\n",
      "*      S ** * * *  *\n",
      "*        * *      **\n",
      "* * *     ** *     *\n",
      "*  ****  *   **    *\n",
      "*  *    *   *  **  *\n",
      "***        * *  *  *\n",
      "*  * *    *      * *\n",
      "** *  **  *  *    **\n",
      "*   *              *\n",
      "*     *   **       *\n",
      "**     *       **  *\n",
      "***    *  *    **  *\n",
      "*  *     *      ** *\n",
      "* *      *   * *   *\n",
      "*      *        ****\n",
      "***    *  * ***  * *\n",
      "*  *     ** *     **\n",
      "*    *  *   *     **\n",
      "********************\n",
      "\n",
      "********************\n",
      "*        ** * * *  *\n",
      "*      S * *      **\n",
      "* * *     ** *     *\n",
      "*  ****  *   **    *\n",
      "*  *    *   *  **  *\n",
      "***        * *  *  *\n",
      "*  * *    *      * *\n",
      "** *  **  *  *    **\n",
      "*   *              *\n",
      "*     *   **       *\n",
      "**     *       **  *\n",
      "***    *  *    **  *\n",
      "*  *     *      ** *\n",
      "* *      *   * *   *\n",
      "*      *        ****\n",
      "***    *  * ***  * *\n",
      "*  *     ** *     **\n",
      "*    *  *   *     **\n",
      "********************\n",
      "\n",
      "********************\n",
      "*        ** * * *  *\n",
      "*        * *      **\n",
      "* * *  S  ** *     *\n",
      "*  ****  *   **    *\n",
      "*  *    *   *  **  *\n",
      "***        * *  *  *\n",
      "*  * *    *      * *\n",
      "** *  **  *  *    **\n",
      "*   *              *\n",
      "*     *   **       *\n",
      "**     *       **  *\n",
      "***    *  *    **  *\n",
      "*  *     *      ** *\n",
      "* *      *   * *   *\n",
      "*      *        ****\n",
      "***    *  * ***  * *\n",
      "*  *     ** *     **\n",
      "*    *  *   *     **\n",
      "********************\n",
      "\n",
      "********************\n",
      "*        ** * * *  *\n",
      "*        * *      **\n",
      "* * *     ** *     *\n",
      "*  ****S *   **    *\n",
      "*  *    *   *  **  *\n",
      "***        * *  *  *\n",
      "*  * *    *      * *\n",
      "** *  **  *  *    **\n",
      "*   *              *\n",
      "*     *   **       *\n",
      "**     *       **  *\n",
      "***    *  *    **  *\n",
      "*  *     *      ** *\n",
      "* *      *   * *   *\n",
      "*      *        ****\n",
      "***    *  * ***  * *\n",
      "*  *     ** *     **\n",
      "*    *  *   *     **\n",
      "********************\n",
      "\n",
      "********************\n",
      "*        ** * * *  *\n",
      "*        * *      **\n",
      "* * *     ** *     *\n",
      "*  ****  *   **    *\n",
      "*  *   S*   *  **  *\n",
      "***        * *  *  *\n",
      "*  * *    *      * *\n",
      "** *  **  *  *    **\n",
      "*   *              *\n",
      "*     *   **       *\n",
      "**     *       **  *\n",
      "***    *  *    **  *\n",
      "*  *     *      ** *\n",
      "* *      *   * *   *\n",
      "*      *        ****\n",
      "***    *  * ***  * *\n",
      "*  *     ** *     **\n",
      "*    *  *   *     **\n",
      "********************\n",
      "\n",
      "********************\n",
      "*        ** * * *  *\n",
      "*        * *      **\n",
      "* * *     ** *     *\n",
      "*  ****  *   **    *\n",
      "*  *  S *   *  **  *\n",
      "***        * *  *  *\n",
      "*  * *    *      * *\n",
      "** *  **  *  *    **\n",
      "*   *              *\n",
      "*     *   **       *\n",
      "**     *       **  *\n",
      "***    *  *    **  *\n",
      "*  *     *      ** *\n",
      "* *      *   * *   *\n",
      "*      *        ****\n",
      "***    *  * ***  * *\n",
      "*  *     ** *     **\n",
      "*    *  *   *     **\n",
      "********************\n",
      "\n"
     ]
    }
   ],
   "source": [
    "start = randomGenMaze(20)\n",
    "goal = mazeGoal(start)\n",
    "path = iterativeDeepeningSearch(start, goal, genMazeActionsF, takeGenMazeActionF, 15)\n",
    "printGenMazePath(start, goal, path)"
   ]
  },
  {
   "cell_type": "markdown",
   "metadata": {},
   "source": [
    "Just for fun, I'd like to see what happens with a 100x100 (really 98x98) maze."
   ]
  },
  {
   "cell_type": "code",
   "execution_count": 30,
   "metadata": {},
   "outputs": [
    {
     "name": "stdout",
     "output_type": "stream",
     "text": [
      "Starting state:\n",
      "****************************************************************************************************\n",
      "** S* * *     ** *   *   *       ** * * **** * *   ** **    **   **   * * *     * *    ** ** *    **\n",
      "* * *    **    * *            ** *        *    * *             * *  * * * ** **  *    *            *\n",
      "*  *      *** *  *  *    *        *    *     *        ***    *  *    *   *   *     *   * *      * **\n",
      "*            *    *     *   ***     * **** ***  * *  *    *  *  *    **  ***  *   * * *  *       * *\n",
      "** * *  *    *      * *   *   * *    **   *  *    **     *  *     ****         *    *     * ** *   *\n",
      "* ** **  *     *   **      * *    *        *   *  *  *   *     *   *          *      **    *     * *\n",
      "* *  **  *  *  *  *  *  *  * *     **       *              *      * *  *  *   *    * **  **   *    *\n",
      "*       *    **     *   *    **  **    *   * *      ***    * **     ** **   *  *** * **   **   **  *\n",
      "**        *    *** *    *  *  *   *      *   *   ***    *    *  *      *      *   ***** *  **   ** *\n",
      "*      *     *  *  **        *  * ***    **   * *      *  * *         *  ** **      ***     ** *   *\n",
      "* *   *   * *   * *        * **    * *      *         **    * ** **   * **  ***  **   **           *\n",
      "** **  **      * *   **** **   *   *  * *      *         *   *         *    *   ** ***  * * *     **\n",
      "*         *     *  *         **  **        *   * *      *   *    *   *  * *   ***      *     *   * *\n",
      "**        * *   *   *  *  *    *        **  *** *  **  **    ** ** * ***  *   * *  *** * * *  * * **\n",
      "*   **  ** * **  *         **  **         * *        *** * ***   *  *  * * * *     *    ***      * *\n",
      "** **       *     *  *     ***        *  * **         * **  *****  *   * * *  *      *   **** **   *\n",
      "**  ** *     *         ***   * *  **  *  *  * *  *     *  * *      *    ** *  **    *  *  *   **   *\n",
      "* * **** **  ** ** *      **  *  *    *   *      **       **   *       * *    * *   *      ***     *\n",
      "**      *    * **     *    *         *  * * **  *    *     **  **         **  *     * *     *      *\n",
      "*    *    **  ***  **     **  *     * *    * **      *      ******         **      **         * ** *\n",
      "*   *  *             **  *   *** *     *       **       *    ** * **** *  *    *    *  *  *    **  *\n",
      "*** * * *  *   * *    **        **     *   ** *   *   *  * *    *   **   ***  *  *   * *  ****    **\n",
      "*     *        **  *   *  **     * **          *       * *  *  *    *  **   **   * **   *          *\n",
      "** * *  * *      *   *   *  **       *  *     * **       ** *                  **  * *         *** *\n",
      "*     *    * * *   ***  *       *    ***        **     * ** *   *      *  *   *     * *   *        *\n",
      "*  *     * *       *  **  *  *    *    *   * **  *     *     *    * **  *   *    * *   *** *   *   *\n",
      "**  *     *   *    *   *    *   * *         *   ** ****      * * *    *     *  ** ** *   ** *     **\n",
      "* ***   **  **  * **     **  **          * *  *  **  *  *  ***        *  *      ** **  * **        *\n",
      "*  *        *** *  * *    *   **          *    *          * * *       ***  *   **  *    *     *   **\n",
      "***   *    *  *  *    *    * *          **      **   *    *  *  **   *   * *        * *  ** *     **\n",
      "*  *   * *             * * *  *   * * *  *   * **  *       *             * *** ** **      *  *   * *\n",
      "**         *   *  *    *     *   * *    **  *  *     **  *    * *      **         *       *  * *   *\n",
      "**    *     * **    * *    * * **  *  ** *    *  * *    *      *      *          *  *      * **  * *\n",
      "**       *    * * *** **  ** * *  *  *        *   **  *      * * **     * ** *     **    * *    *  *\n",
      "**      *           *  *   *   *  **  **  *   *         *  * * *  *** *           *  *  *     * *  *\n",
      "***  *   *    **        *         * **    * *  * * * * **  **    ***     *     *  *    ** *      * *\n",
      "* * * *  **   * **  **   * *       **    *   * * *  *   *      *    ****    * *      * *   **   *  *\n",
      "** ** *        *  * ***    *   ***      *  *   * **   **  *               **  **   *  * *     *    *\n",
      "**   **      * *   * *    *       *   * *     ***     *    *   *   *     * *       * * * *   *  * **\n",
      "***  * * *    **     **   *   *      *    **    *  *****  *   * *      *     *    * * **  **    *  *\n",
      "* ** *  *   * * *   *  *     * * *    * * *   ** * **  * **          * ***    *  **    **  * **    *\n",
      "*   **    **  *  ***       *  *  *   *    *     * ** **     **  *  * *    *  *  *        * *       *\n",
      "*  * *    ** *  *              *  *       *  **  * *   * *   **       *** *  *     *    * * ***   **\n",
      "*     * *   ****    *     *        * *    ***       *   *    *    *         *  *  **    **  *** ** *\n",
      "*  *     **    *  *              *     *    *  *  *   ******   *   **         *  *   *  **   * *   *\n",
      "**  *  *  *          *   ***   *   *      * *       * *** **  *  **  *        *    * ** **       ***\n",
      "*  *  ** *     *     * *  *  *     ***   * * ****     **  *  **     *** ** **     *    *   *  ***  *\n",
      "* *   *    *    * *     *    **      ****  *     ** *             **   *  **    *   *   ****   *  **\n",
      "*    **          *    * **    *     **  * ****  **  * * * *  *****  *  *       *    *   *  ***  * **\n",
      "*    ****     *       **           *        **  *  *       ***    *           *           *    * * *\n",
      "*    * *         * *    **    * * *   *   *     *    *   * *    *  *  *  *      * * *     **     * *\n",
      "** * ****     ** *   *  *  *  **        ** **     *  *   * ** *  ** *      *   *****     **  *    **\n",
      "*       **    *  *               *  * *        *  *  ** * *   *    * **        *   *      **** *   *\n",
      "*     *   *  *  * *   *             * ** **  *   *    *      * *   *        *  * *            **  **\n",
      "*   * *** *   * *** *   **      **   *   **   *         * *  ** *    *  *     ** * **   ***      * *\n",
      "*    ** * **  *  * *   * * *   *     * ***     *  **  *  *   **  * *** **  *    *  *  *  * *   * ***\n",
      "*  * **   *           ** ** * *  **   * ***         *    * *   ****    *   *    * *   ** *   *    **\n",
      "*  *       * **  **  *     * **      * *   *           * ** *     **   *  ***   *        *  *   ** *\n",
      "*  * * *  *    *  ** *****   *  ***    * * * *     *  **   **  *    *  ** * **   **     *       *  *\n",
      "**  * *   * **      *  *   *  **  *      * *  *  *  ** *    *  * *           * *     **** *  *  * **\n",
      "*  * ** ** ***     *        **    *    ***   *      *       **    **          ***      *  ***      *\n",
      "* * ** *  *         ** * * ***   *  *  ** ** * *  **      ** ** ****    *        ** *    *    *  * *\n",
      "*   *  ** *  * *       **   *  *  *         ***    *   * * *  *   * *     *      *       * **  *   *\n",
      "*     *  **    *     * *  ** **   * **  *   *   **     *    * *     ** * *  * * * *   ***   *  ** **\n",
      "****   *    **    *        **  *      *   *  *  *        * **   **     ****    * *   *****    **  **\n",
      "*        **    ***     * ** * *   ** *   **     *     * *                       *   * *    ****    *\n",
      "*  *** *     *  **  ** *          **  ****   * ****      *     * *  *  *   *    * *     *     * *  *\n",
      "*        **       *      *      *  * * *    **    * ****   *  *    *       *    * ** *       **    *\n",
      "*  *         *  * *  **  *** * **  **      *   * * ** *  * * *      *        * *  ***      *       *\n",
      "* *  ** * **  *   *           *  *  *    *  *       **          **            ** *  *   *        * *\n",
      "*    **  **  *              **             ***   *      * *   *   * * *** *** * * **     *    *   **\n",
      "* * *  *  **        *  *           *    **  ** * *   *    * *  *  * *  *    ****   * **  *  *   *  *\n",
      "**  *   * **   ** *  *     *   *  * *  * *  *   *        ** **    ** * * *    * * * *     ** **   **\n",
      "*      ***   * *    *         *  *  **     *  *  * * * * ** *     **    *   *    * **  *   *     ***\n",
      "***   **  **  *     *  *  ** *      **     *  *     *   *** ** * ***  ***        ** *    **  ** *  *\n",
      "*    *** * *  *   * *    * *   **     * **   *   *  **  ** *          * ** *  **  ** * * *   *     *\n",
      "* *          * *   *         *  *   ** **   ** * * * **           *     ****  *   **  **   ** *    *\n",
      "*    **    ** * *       * **  **   *  *     *   *      * *   ****         **     *  * * ** * * *  **\n",
      "* *       *  *  * *       **  * *     *  * *  *         *       **   *    *   * *** **  ** *    *  *\n",
      "*  * *        *  *    * ** *    *    *                *   *    *    *    *  ** *    **    **       *\n",
      "**** ***      *   *  * * **  *  *      *   *        * *  * *****   *  *  ***  *  ****         **** *\n",
      "*    **  ***     * * *   *         **       *  ** ***   *   *     *  *** *  *    ***    **  * **   *\n",
      "*  *  *    * * *   *      * * * *               ** ****             ** ** *           ** *    *    *\n",
      "*** *     ** ***    * *           *   *    **    ** ** ***       **  * *       **  ***      *   * **\n",
      "**   *** ***    *  **     * *  ***   *       * **   *                  * *     * **               **\n",
      "*  **  ****   * *    *         *     *        *  *           *    *     * *    *  *** *** *    *  **\n",
      "* **     ***        * *    ** ***     *    *  ***        *      * **    * **  **   ** **     *   ***\n",
      "**       **   *  * ***  *  * *****          ***  *         *     * *      *     *         * *      *\n",
      "*  * *         *    * *   * * *                ** *       * *   * *  **      * *  ***  ***    *    *\n"
     ]
    },
    {
     "name": "stdout",
     "output_type": "stream",
     "text": [
      "*  *   *    * *   *    *       *    * **  *  ****        *  ** * ***    * *    * **   **    * *  * *\n",
      "**  *  ** *    **      **      **   **    *   * *      **  ***   * * ** *    **  *    *     **     *\n",
      "* **  * * * *   *        *    *       *      ***    * *     ** *        **      * *    *   *   **  *\n",
      "* *     *  **   * * **      * *   *   *     *   *           *     ***    ** *  *        *  *   *** *\n",
      "*   *    * *  * *  * *  *****           ***  *  *** * *  * *          **  * * *     ** * **  ***  **\n",
      "*      *   **  *** *  ***  *          *     **        *    *  *   **  * *      **  **    **** ** * *\n",
      "*     ** ** *  * *  ** *   *    ****        **         **     *    * **  *   *   *  *   ** **  ** **\n",
      "*    *   ***  **    * *  *      *      *   *         **    ***  ** *    *          *  * *  * *     *\n",
      "* *        *         * ***     * *  *  *         *****  *     **   *    *     ** *  * * *    **  ***\n",
      "****************************************************************************************************\n",
      "\n",
      "Goal state:\n",
      "****************************************************************************************************\n",
      "**  * * *     ** *   *   *       ** * * **** * *   ** **    **   **   * * *     * *    ** ** *    **\n",
      "* * *    **    * *            ** *        *    * *             * *  * * * ** **  *    *            *\n",
      "*  *      *** *  *  *    *        *    *     *        ***    *  *    *   *   *     *   * *      * **\n",
      "*            *    *     *   ***     * **** ***  * *  *    *  *  *    **  ***  *   * * *  *       * *\n",
      "** * *  *    *      * *   *   * *    **   *  *    **     *  *     ****         *    *     * ** *   *\n",
      "* ** **  *     *   **      * *    *        *   *  *  *   *     *   *          *      **    *     * *\n",
      "* *  **  *  *  *  *  *  *  * *     **       *              *      * *  *  *   *    * **  **   *    *\n",
      "*       *    **     *   *    **  **    *   * *      ***    * **     ** **   *  *** * **   **   **  *\n",
      "**        *    *** *    *  *  *   *      *   *   ***    *    *  *      *      *   ***** *  **   ** *\n",
      "*      *     *  *  **        *  * ***    **   * *      *  * *         *  ** **      ***     ** *   *\n",
      "* *   *   * *   * *        * **    * *      *         **    * ** **   * **  ***  **   **           *\n",
      "** **  **      * *   **** **   *   *  * *      *         *   *         *    *   ** ***  * * *     **\n",
      "*         *     *  *         **  **        *   * *      *   *    *   *  * *   ***      *     *   * *\n",
      "**        * *   *   *  *  *    *        **  *** *  **  **    ** ** * ***  *   * *  *** * * *  * * **\n",
      "*   **  ** * **  *         **  **         * *        *** * ***   *  *  * * * *     *    ***      * *\n",
      "** **       *     *  *     ***        *  * **         * **  *****  *   * * *  *      *   **** **   *\n",
      "**  ** *     *         ***   * *  **  *  *  * *  *     *  * *      *    ** *  **    *  *  *   **   *\n",
      "* * **** **  ** ** *      **  *  *    *   *      **       **   *       * *    * *   *      ***     *\n",
      "**      *    * **     *    *         *  * * **  *    *     **  **         **  *     * *     *      *\n",
      "*    *    **  ***  **     **  *     * *    * **      *      ******         **      **         * ** *\n",
      "*   *  *             **  *   *** *     *       **       *    ** * **** *  *    *    *  *  *    **  *\n",
      "*** * * *  *   * *    **        **     *   ** *   *   *  * *    *   **   ***  *  *   * *  ****    **\n",
      "*     *        **  *   *  **     * **          *       * *  *  *    *  **   **   * **   *          *\n",
      "** * *  * *      *   *   *  **       *  *     * **       ** *                  **  * *         *** *\n",
      "*     *    * * *   ***  *       *    ***        **     * ** *   *      *  *   *     * *   *        *\n",
      "*  *     * *       *  **  *  *    *    *   * **  *     *     *    * **  *   *    * *   *** *   *   *\n",
      "**  *     *   *    *   *    *   * *         *   ** ****      * * *    *     *  ** ** *   ** *     **\n",
      "* ***   **  **  * **     **  **          * *  *  **  *  *  ***        *  *      ** **  * **        *\n",
      "*  *        *** *  * *    *   **          *    *          * * *       ***  *   **  *    *     *   **\n",
      "***   *    *  *  *    *    * *          **      **   *    *  *  **   *   * *        * *  ** *     **\n",
      "*  *   * *             * * *  *   * * *  *   * **  *       *             * *** ** **      *  *   * *\n",
      "**         *   *  *    *     *   * *    **  *  *     **  *    * *      **         *       *  * *   *\n",
      "**    *     * **    * *    * * **  *  ** *    *  * *    *      *      *          *  *      * **  * *\n",
      "**       *    * * *** **  ** * *  *  *        *   **  *      * * **     * ** *     **    * *    *  *\n",
      "**      *           *  *   *   *  **  **  *   *         *  * * *  *** *           *  *  *     * *  *\n",
      "***  *   *    **        *         * **    * *  * * * * **  **    ***     *     *  *    ** *      * *\n",
      "* * * *  **   * **  **   * *       **    *   * * *  *   *      *    ****    * *      * *   **   *  *\n",
      "** ** *        *  * ***    *   ***      *  *   * **   **  *               **  **   *  * *     *    *\n",
      "**   **      * *   * *    *       *   * *     ***     *    *   *   *     * *       * * * *   *  * **\n",
      "***  * * *    **     **   *   *      *    **    *  *****  *   * *      *     *    * * **  **    *  *\n",
      "* ** *  *   * * *   *  *     * * *    * * *   ** * **  * **          * ***    *  **    **  * **    *\n",
      "*   **    **  *  ***       *  *  *   *    *     * ** **     **  *  * *    *  *  *        * *       *\n",
      "*  * *    ** *  *              *  *       *  **  * *   * *   **       *** *  *     *    * * ***   **\n",
      "*     * *   ****    *     *        * *    ***       *   *    *    *         *  *  **    **  *** ** *\n",
      "*  *     **    *  *              *     *    *  *  *   ******   *   **         *  *   *  **   * *   *\n",
      "**  *  *  *          *   ***   *   *      * *       * *** **  *  **  *        *    * ** **       ***\n",
      "*  *  ** *     *     * *  *  *     ***   * * ****     **  *  **     *** ** **     *    *   *  ***  *\n",
      "* *   *    *    * *     *    **      ****  *     ** *             **   *  **    *   *   ****   *  **\n",
      "*    **          *    * **    *     **  * ****  **  * * * *  *****  *  *       *    *   *  ***  * **\n",
      "*S   ****     *       **           *        **  *  *       ***    *           *           *    * * *\n",
      "*    * *         * *    **    * * *   *   *     *    *   * *    *  *  *  *      * * *     **     * *\n",
      "** * ****     ** *   *  *  *  **        ** **     *  *   * ** *  ** *      *   *****     **  *    **\n",
      "*       **    *  *               *  * *        *  *  ** * *   *    * **        *   *      **** *   *\n",
      "*     *   *  *  * *   *             * ** **  *   *    *      * *   *        *  * *            **  **\n",
      "*   * *** *   * *** *   **      **   *   **   *         * *  ** *    *  *     ** * **   ***      * *\n",
      "*    ** * **  *  * *   * * *   *     * ***     *  **  *  *   **  * *** **  *    *  *  *  * *   * ***\n",
      "*  * **   *           ** ** * *  **   * ***         *    * *   ****    *   *    * *   ** *   *    **\n",
      "*  *       * **  **  *     * **      * *   *           * ** *     **   *  ***   *        *  *   ** *\n",
      "*  * * *  *    *  ** *****   *  ***    * * * *     *  **   **  *    *  ** * **   **     *       *  *\n",
      "**  * *   * **      *  *   *  **  *      * *  *  *  ** *    *  * *           * *     **** *  *  * **\n",
      "*  * ** ** ***     *        **    *    ***   *      *       **    **          ***      *  ***      *\n",
      "* * ** *  *         ** * * ***   *  *  ** ** * *  **      ** ** ****    *        ** *    *    *  * *\n",
      "*   *  ** *  * *       **   *  *  *         ***    *   * * *  *   * *     *      *       * **  *   *\n",
      "*     *  **    *     * *  ** **   * **  *   *   **     *    * *     ** * *  * * * *   ***   *  ** **\n",
      "****   *    **    *        **  *      *   *  *  *        * **   **     ****    * *   *****    **  **\n",
      "*        **    ***     * ** * *   ** *   **     *     * *                       *   * *    ****    *\n",
      "*  *** *     *  **  ** *          **  ****   * ****      *     * *  *  *   *    * *     *     * *  *\n",
      "*        **       *      *      *  * * *    **    * ****   *  *    *       *    * ** *       **    *\n",
      "*  *         *  * *  **  *** * **  **      *   * * ** *  * * *      *        * *  ***      *       *\n",
      "* *  ** * **  *   *           *  *  *    *  *       **          **            ** *  *   *        * *\n",
      "*    **  **  *              **             ***   *      * *   *   * * *** *** * * **     *    *   **\n",
      "* * *  *  **        *  *           *    **  ** * *   *    * *  *  * *  *    ****   * **  *  *   *  *\n",
      "**  *   * **   ** *  *     *   *  * *  * *  *   *        ** **    ** * * *    * * * *     ** **   **\n",
      "*      ***   * *    *         *  *  **     *  *  * * * * ** *     **    *   *    * **  *   *     ***\n",
      "***   **  **  *     *  *  ** *      **     *  *     *   *** ** * ***  ***        ** *    **  ** *  *\n",
      "*    *** * *  *   * *    * *   **     * **   *   *  **  ** *          * ** *  **  ** * * *   *     *\n",
      "* *          * *   *         *  *   ** **   ** * * * **           *     ****  *   **  **   ** *    *\n",
      "*    **    ** * *       * **  **   *  *     *   *      * *   ****         **     *  * * ** * * *  **\n",
      "* *       *  *  * *       **  * *     *  * *  *         *       **   *    *   * *** **  ** *    *  *\n"
     ]
    },
    {
     "name": "stdout",
     "output_type": "stream",
     "text": [
      "*  * *        *  *    * ** *    *    *                *   *    *    *    *  ** *    **    **       *\n",
      "**** ***      *   *  * * **  *  *      *   *        * *  * *****   *  *  ***  *  ****         **** *\n",
      "*    **  ***     * * *   *         **       *  ** ***   *   *     *  *** *  *    ***    **  * **   *\n",
      "*  *  *    * * *   *      * * * *               ** ****             ** ** *           ** *    *    *\n",
      "*** *     ** ***    * *           *   *    **    ** ** ***       **  * *       **  ***      *   * **\n",
      "**   *** ***    *  **     * *  ***   *       * **   *                  * *     * **               **\n",
      "*  **  ****   * *    *         *     *        *  *           *    *     * *    *  *** *** *    *  **\n",
      "* **     ***        * *    ** ***     *    *  ***        *      * **    * **  **   ** **     *   ***\n",
      "**       **   *  * ***  *  * *****          ***  *         *     * *      *     *         * *      *\n",
      "*  * *         *    * *   * * *                ** *       * *   * *  **      * *  ***  ***    *    *\n",
      "*  *   *    * *   *    *       *    * **  *  ****        *  ** * ***    * *    * **   **    * *  * *\n",
      "**  *  ** *    **      **      **   **    *   * *      **  ***   * * ** *    **  *    *     **     *\n",
      "* **  * * * *   *        *    *       *      ***    * *     ** *        **      * *    *   *   **  *\n",
      "* *     *  **   * * **      * *   *   *     *   *           *     ***    ** *  *        *  *   *** *\n",
      "*   *    * *  * *  * *  *****           ***  *  *** * *  * *          **  * * *     ** * **  ***  **\n",
      "*      *   **  *** *  ***  *          *     **        *    *  *   **  * *      **  **    **** ** * *\n",
      "*     ** ** *  * *  ** *   *    ****        **         **     *    * **  *   *   *  *   ** **  ** **\n",
      "*    *   ***  **    * *  *      *      *   *         **    ***  ** *    *          *  * *  * *     *\n",
      "* *        *         * ***     * *  *  *         *****  *     **   *    *     ** *  * * *    **  ***\n",
      "****************************************************************************************************\n",
      "\n",
      "Solution path:\n",
      "Path was cutoff\n"
     ]
    }
   ],
   "source": [
    "start = randomGenMaze(100)\n",
    "goal = mazeGoal(start)\n",
    "path = iterativeDeepeningSearch(start, goal, genMazeActionsF, takeGenMazeActionF, 10)\n",
    "printGenMazePath(start, goal, path)"
   ]
  },
  {
   "cell_type": "markdown",
   "metadata": {},
   "source": [
    "There may be too many walls. I set the random selection so it would pick roughly 30% walls and 70% open spaces. It might be worth tinkering with in the future to see what percentage of walls may be ideal to be able to randomly generate solvable mazes most of the time. This is admittedly a much more difficult issue to tackle once mazes get larger and larger. It would likely need more checks and balances on the random generation that my simple maze generator isn't currently built to do.\n",
    "\n",
    "It is also difficult to completely test success on this maze. Given the size of the maze, a potentially solvable maze could take many steps to actually find. This would take a substantial amount of time, so I'm capping off `maxDepth` at 10 so it runs relatively fast."
   ]
  },
  {
   "cell_type": "markdown",
   "metadata": {},
   "source": [
    "## Grading"
   ]
  },
  {
   "cell_type": "code",
   "execution_count": 31,
   "metadata": {},
   "outputs": [
    {
     "name": "stdout",
     "output_type": "stream",
     "text": [
      "\n",
      "Searching this graph:\n",
      " {'a': ['b', 'z', 'd'], 'b': ['a'], 'y': ['z'], 'e': ['z'], 'd': ['y']}\n",
      "\n",
      "Looking for path from a to y with max depth of 1.\n",
      " 5/ 5 points. Your search correctly returned cutoff\n",
      "\n",
      "Looking for path from a to y with max depth of 5.\n",
      "10/10 points. Your search correctly returned ['a', 'z']\n",
      "\n",
      "Testing findBlank_8p([1, 2, 3, 4, 5, 6, 7, 0, 8])\n",
      " 5/ 5 points. Your findBlank_8p correctly returned 2 1\n",
      "\n",
      "Testing actionsF_8p([1, 2, 3, 4, 5, 6, 7, 0, 8])\n",
      "10/10 points. Your actionsF_8p correctly returned ['left', 'right', 'up']\n",
      "\n",
      "Testing takeActionF_8p([1, 2, 3, 4, 5, 6, 7, 0, 8],up)\n",
      "10/10 points. Your takeActionsF_8p correctly returned [1, 2, 3, 4, 0, 6, 7, 5, 8]\n",
      "\n",
      "Testing iterativeDeepeningSearch([1, 2, 3, 4, 5, 6, 7, 0, 8],[0, 2, 3, 1, 4,  6, 7, 5, 8], actionsF_8p, takeActionF_8p, 5)\n",
      "20/20 points. Your search correctly returned [[1, 2, 3, 4, 5, 6, 7, 0, 8], [1, 2, 3, 4, 0, 6, 7, 5, 8], [1, 2, 3, 0, 4, 6, 7, 5, 8], [0, 2, 3, 1, 4, 6, 7, 5, 8]]\n",
      "\n",
      "Testing iterativeDeepeningSearch([5, 2, 8, 0, 1, 4, 3, 7, 6], [0, 2, 3, 1, 4,  6, 7, 5, 8], actionsF_8p, takeActionF_8p, 10)\n",
      "20/20 points. Your search correctly returned cutoff\n",
      "\n",
      "C:\\Users\\Brad Pospeck\\Desktop\\Classes\\Senior III\\cs\\cs440\\A2 Grade is 80/80\n",
      "Up to 20 more points will be given based on the qualty of your descriptions of the method and the results.\n"
     ]
    }
   ],
   "source": [
    "%run -i A2grader.py"
   ]
  },
  {
   "cell_type": "code",
   "execution_count": null,
   "metadata": {
    "collapsed": true
   },
   "outputs": [],
   "source": []
  }
 ],
 "metadata": {
  "anaconda-cloud": {},
  "kernelspec": {
   "display_name": "Python [conda root]",
   "language": "python",
   "name": "conda-root-py"
  },
  "language_info": {
   "codemirror_mode": {
    "name": "ipython",
    "version": 3
   },
   "file_extension": ".py",
   "mimetype": "text/x-python",
   "name": "python",
   "nbconvert_exporter": "python",
   "pygments_lexer": "ipython3",
   "version": "3.5.3"
  }
 },
 "nbformat": 4,
 "nbformat_minor": 1
}
