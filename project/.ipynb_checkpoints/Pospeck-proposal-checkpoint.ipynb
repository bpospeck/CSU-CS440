{
 "cells": [
  {
   "cell_type": "markdown",
   "metadata": {},
   "source": [
    "$\\newcommand{\\xv}{\\mathbf{x}}\n",
    "\\newcommand{\\Xv}{\\mathbf{X}}\n",
    "\\newcommand{\\yv}{\\mathbf{y}}\n",
    "\\newcommand{\\zv}{\\mathbf{z}}\n",
    "\\newcommand{\\av}{\\mathbf{a}}\n",
    "\\newcommand{\\Wv}{\\mathbf{W}}\n",
    "\\newcommand{\\wv}{\\mathbf{w}}\n",
    "\\newcommand{\\tv}{\\mathbf{t}}\n",
    "\\newcommand{\\Tv}{\\mathbf{T}}\n",
    "\\newcommand{\\muv}{\\boldsymbol{\\mu}}\n",
    "\\newcommand{\\sigmav}{\\boldsymbol{\\sigma}}\n",
    "\\newcommand{\\phiv}{\\boldsymbol{\\phi}}\n",
    "\\newcommand{\\Phiv}{\\boldsymbol{\\Phi}}\n",
    "\\newcommand{\\Sigmav}{\\boldsymbol{\\Sigma}}\n",
    "\\newcommand{\\Lambdav}{\\boldsymbol{\\Lambda}}\n",
    "\\newcommand{\\half}{\\frac{1}{2}}\n",
    "\\newcommand{\\argmax}[1]{\\underset{#1}{\\operatorname{argmax}}}\n",
    "\\newcommand{\\argmin}[1]{\\underset{#1}{\\operatorname{argmin}}}$"
   ]
  },
  {
   "cell_type": "markdown",
   "metadata": {},
   "source": [
    "# Project Proposal"
   ]
  },
  {
   "cell_type": "markdown",
   "metadata": {},
   "source": [
    "Bradley Pospeck"
   ]
  },
  {
   "cell_type": "markdown",
   "metadata": {},
   "source": [
    "## Introduction"
   ]
  },
  {
   "cell_type": "markdown",
   "metadata": {},
   "source": [
    "For this project, my goal is to work with [Pacman code](http://www-inst.eecs.berkeley.edu/~cs188/sp11/projects/multiagent/multiagentProject.html). I have different directions I can take this, or additional pieces I can add on, but I plan to start small and add on as time permits.\n",
    "\n",
    "The existing pacman code linked above already has some \"dumb\" AI for both Pacman himself as well as the ghosts. There are also options for me to make my own layouts as well as decide how many ghosts are in the game at a time. Because of this I have a lot of freedom when working with this code base.\n",
    "\n",
    "I can implement various AI for both pacman and the ghosts. I can start with some of the simpler algorithms like depth limited search, then try more advanced algorithms such as A\\* search, reinforcement learning, and possibly neural networks. Regardless of which algorithms I implement, I can keep track of wins and losses for each algorithm to make comparisons.\n",
    "\n",
    "For how simple Pacman is, it will be interesting to see if something more involved like reinforcement learning or neural networks are even necessary. Maybe A\\* search would be a good enough algorithm, for example. Because of this, my plan is to start with simpler algorithms and add more advanced ones in the hopes of improving performance of Pacman and/or the ghosts.\n",
    "\n",
    "This will be a fun project to tinker with various AI algorithms. It will let me see very clearly how well an algorithm does by watching a game of Pacman be played automatically. Since the end result is determined by a binary win or loss by Pacman, it provides a simple and clean way of comparing algorithm performances at the end.\n",
    "\n",
    "I will be working alone for this project."
   ]
  },
  {
   "cell_type": "markdown",
   "metadata": {},
   "source": [
    "## Methods"
   ]
  },
  {
   "cell_type": "markdown",
   "metadata": {},
   "source": [
    "As noted above, the Pacman code I'll be using is from [here](http://www-inst.eecs.berkeley.edu/~cs188/sp11/projects/multiagent/multiagentProject.html). \n",
    "\n",
    "My goal is to implement the algorithms used in class. Initially I will keep the ghosts with the \"dumb\" default AI provided with the code. The plan is to implement 3 or 4 different algorithms on pacman and see if his win:loss ratio improves with the more advanced algorithms we've discussed in class. I can even run them all on different layouts to see if those affect performance.\n",
    "\n",
    "After finishing that part, I can start to apply the same algorithms to the ghosts. Given the option of different layouts and varied ghost counts, there are many options to try: \n",
    "\n",
    "    1) I can pit a single ghost against pacman with the same AI algorithms on various layouts.\n",
    "    2) I can run, say 4 ghosts, all with a different AI. I can adjust Pacman's AI on one layout and see if there is a difference between which ghost ends up hitting pacman most often.\n",
    "    3) I can do the same thing as 2, but instead keep Pacman's AI constant and adjust the layouts.\n",
    "    4) A vastly different approach would be to flood the layout with Pacman's special fruit that allow him to eat the ghosts. I could look at how well the ghosts can escape, as opposed to their normal pursuit. Additionally, I could see if any of Pacman's AI implementations appear to chase after the ghosts, or stay focused on the food.\n",
    "    5) Look for different AI algorithms online to implement and compare those to algorithms in class, or on their own. This setup could really be performed with any of 1-4 above.\n",
    "    \n",
    "I'm planning on getting through 2 of the above options, more if time permits. Most likely I will use option 1 as well as either 2 or 3."
   ]
  },
  {
   "cell_type": "markdown",
   "metadata": {},
   "source": [
    "## Possible Results\n",
    "\n",
    "I expect the algorithms from class being applied here will yield similar results in how well they do. More specifically, something like iterative deepening search would perform worse than A\\* search. A\\* search would perform worse than a reinforcement learning approach. More specific to pacman, I expect his win:loss ratio to increase with a more advanced AI.  Similarly, I'd expect the ghosts to successfully seek out pacman more often with increasingly advanced AI.\n",
    "\n",
    "Things become trickier if I mess with layouts. One layout, for instance, could have no walls. Another layout could have lots of deadends that pacman has to go down to get food, potentially trapping him. I would guess that any dead-end types of layouts would reduce pacman's chances of winning. Open layouts are difficult to say. Assuming one ghost against Pacman, my guess is that the more advanced AI would succeed more often. If they had the same AI, I believe that pacman would lose more often than not. This is because he has more objectives in the pieces of food, while the ghost's only objective is Pacman. \n",
    "\n",
    "Multiple ghosts also make predictions more difficult. I feel that as long as pacman's AI is better than the ghosts', he is likely to win most of the time (Assuming there aren't an excessive amount of ghosts on a given layout). As soon as 2 ghosts or more have the same \"level\" of AI as Pacman, I predict that he is likely to lose most of his games."
   ]
  },
  {
   "cell_type": "markdown",
   "metadata": {},
   "source": [
    "## Timeline\n",
    "\n",
    "11/11/17: Finalize which of the options laid out above I will definitely do. Finalize which algorithms I intend to implement.\n",
    "\n",
    "11/25/17: Finish implementing all of the algorithms that pacman will use. \n",
    "\n",
    "11/30/17: Finish running and writing up results of algorithm comparisons on Pacman.\n",
    "\n",
    "12/02/17: Make any necessary tweaks to algorithms and apply them to the ghosts.\n",
    "\n",
    "12/05/17: Finish running all tests and have writeup completed as well as a presentation prepared if necessary."
   ]
  }
 ],
 "metadata": {
  "kernelspec": {
   "display_name": "Python 3",
   "language": "python",
   "name": "python3"
  },
  "language_info": {
   "codemirror_mode": {
    "name": "ipython",
    "version": 3
   },
   "file_extension": ".py",
   "mimetype": "text/x-python",
   "name": "python",
   "nbconvert_exporter": "python",
   "pygments_lexer": "ipython3",
   "version": "3.6.2"
  }
 },
 "nbformat": 4,
 "nbformat_minor": 1
}
