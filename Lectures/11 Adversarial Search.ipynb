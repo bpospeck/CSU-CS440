{
 "cells": [
  {
   "cell_type": "markdown",
   "metadata": {},
   "source": [
    "$$\n",
    "\\newcommand{\\xv}{\\mathbf{x}}\n",
    "\\newcommand{\\Xv}{\\mathbf{X}}\n",
    "\\newcommand{\\yv}{\\mathbf{y}}\n",
    "\\newcommand{\\zv}{\\mathbf{z}}\n",
    "\\newcommand{\\av}{\\mathbf{a}}\n",
    "\\newcommand{\\Wv}{\\mathbf{W}}\n",
    "\\newcommand{\\wv}{\\mathbf{w}}\n",
    "\\newcommand{\\tv}{\\mathbf{t}}\n",
    "\\newcommand{\\Tv}{\\mathbf{T}}\n",
    "\\newcommand{\\muv}{\\boldsymbol{\\mu}}\n",
    "\\newcommand{\\sigmav}{\\boldsymbol{\\sigma}}\n",
    "\\newcommand{\\phiv}{\\boldsymbol{\\phi}}\n",
    "\\newcommand{\\Phiv}{\\boldsymbol{\\Phi}}\n",
    "\\newcommand{\\Sigmav}{\\boldsymbol{\\Sigma}}\n",
    "\\newcommand{\\Lambdav}{\\boldsymbol{\\Lambda}}\n",
    "\\newcommand{\\half}{\\frac{1}{2}}\n",
    "\\newcommand{\\argmax}[1]{\\underset{#1}{\\operatorname{argmax}}}\n",
    "\\newcommand{\\argmin}[1]{\\underset{#1}{\\operatorname{argmin}}}\n",
    "$$"
   ]
  },
  {
   "cell_type": "markdown",
   "metadata": {},
   "source": [
    "# Adversarial Search (Chapter 5)"
   ]
  },
  {
   "cell_type": "markdown",
   "metadata": {},
   "source": [
    "## Zero-sum"
   ]
  },
  {
   "cell_type": "markdown",
   "metadata": {},
   "source": [
    "Initially we focus on games that are deterministic and completely\n",
    "observable.  We also assume that the payoff to\n",
    "each player at the end of a game is equal and opposite, called\n",
    "**zero-sum**.  To get a true sum of zero, some games require\n",
    "subtraction from each outcome.  Imagine a win is value 1, a loss is\n",
    "value 0, and a draw is 1/2.\n",
    "\n",
    "\n",
    "|  |  ** Result **  |  ** Subtract 1/2 ** |\n",
    "|  :--:  |  :--:  |  :--:  |\n",
    "| ** Win,Loss **  |  Player A = 1,  Player B = 0  |  Player A = 1/2  Player B = -1/2  |\n",
    "|  ** Draw ** |  Player A = 1/2,  Player B = 1/2  |  Player A = 0, Player B = 0  |\n",
    "\n",
    "Definition of a game:\n",
    "  * initial state $s_0$\n",
    "  * $player(s)$: which player is to move in state $s$,\n",
    "  * $actions(s)$: legal actions from state $s$,\n",
    "  * $result(s,a)$: state that results, like our `takeActionF`\n",
    "  * $terminalTest(s)$: true when game is over\n",
    "  * $utility(s,p)$: payoff for player $p$ upon reaching state $s$."
   ]
  },
  {
   "cell_type": "markdown",
   "metadata": {},
   "source": [
    "## Minimax"
   ]
  },
  {
   "cell_type": "markdown",
   "metadata": {},
   "source": [
    "The two players in a two person game will be called `Max` and\n",
    "`Min`. These names reflect the meaning of the $utility(s,p)$\n",
    "function, which is to be maximized by Player `Max` and minimized by\n",
    "Player `Min`. \n",
    "\n",
    "The partial search tree in this next presentation illustrates the\n",
    "reasoning behind the concept of alternate layers minimizing and\n",
    "maximizing the utility value to back up a value from terminal states\n",
    "to non-terminal states."
   ]
  },
  {
   "cell_type": "code",
   "execution_count": 1,
   "metadata": {},
   "outputs": [
    {
     "data": {
      "text/html": [
       "\n",
       "        <iframe\n",
       "            width=\"800\"\n",
       "            height=\"600\"\n",
       "            src=\"http://www.cs.colostate.edu/~anderson/cs440/notebooks/minmax.pdf\"\n",
       "            frameborder=\"0\"\n",
       "            allowfullscreen\n",
       "        ></iframe>\n",
       "        "
      ],
      "text/plain": [
       "<IPython.lib.display.IFrame at 0x22be41a0f28>"
      ]
     },
     "execution_count": 1,
     "metadata": {},
     "output_type": "execute_result"
    }
   ],
   "source": [
    "from IPython.display import IFrame\n",
    "IFrame(\"http://www.cs.colostate.edu/~anderson/cs440/notebooks/minmax.pdf\", width=800, height=600)"
   ]
  },
  {
   "cell_type": "markdown",
   "metadata": {},
   "source": [
    "The calculation of the `minimax(s)` value of a state $s$ can be\n",
    "summarized as\n",
    "\n",
    "$$\n",
    "\\text{minimax}(s) = \\begin{cases}\n",
    "utility(s), & \\text{if }terminalTest(s);\\\\\n",
    "\\max_{a\\in actions(s)} \\text{minimax}(result(s,a)), & \\text{if\n",
    "}player(s) \\text{ is Max};\\\\\n",
    "\\min_{a\\in actions(s)} \\text{minimax}(result(s,a)), & \\text{if\n",
    "}player(s) \\text{ is Min}\n",
    "\\end{cases}\n",
    "$$\n",
    "\n",
    "Assumes player `Min` plays optimally.  If not, `Max` will do even\n",
    "better.\n",
    "\n",
    "The textbook shows in Figure 5.3 the *minimax-decision* algorithm as\n",
    "a depth-first search that altenates between calling `max-value` and\n",
    "`min-value` functions."
   ]
  },
  {
   "cell_type": "markdown",
   "metadata": {},
   "source": [
    "## Alpha Beta Pruning"
   ]
  },
  {
   "cell_type": "markdown",
   "metadata": {},
   "source": [
    "Some of the search tree can be ignored if we know we cannot find a\n",
    "better move from the best one found so far.  If you are Player X in\n",
    "Tic-Tac-Toe, and\n",
    "  * your best move so far will result in a draw, and\n",
    "  * the next move you are evaluating you discover your opponent can definitely win from,\n",
    "  * do not explore any other choices your opponent might have."
   ]
  },
  {
   "cell_type": "code",
   "execution_count": 2,
   "metadata": {},
   "outputs": [
    {
     "data": {
      "text/html": [
       "\n",
       "        <iframe\n",
       "            width=\"800\"\n",
       "            height=\"600\"\n",
       "            src=\"http://www.cs.colostate.edu/~anderson/cs440/notebooks/alphabeta.pdf\"\n",
       "            frameborder=\"0\"\n",
       "            allowfullscreen\n",
       "        ></iframe>\n",
       "        "
      ],
      "text/plain": [
       "<IPython.lib.display.IFrame at 0x22be41a0f60>"
      ]
     },
     "execution_count": 2,
     "metadata": {},
     "output_type": "execute_result"
    }
   ],
   "source": [
    "IFrame(\"http://www.cs.colostate.edu/~anderson/cs440/notebooks/alphabeta.pdf\", width=800, height=600)"
   ]
  },
  {
   "cell_type": "markdown",
   "metadata": {},
   "source": [
    "For each node, keep track of \n",
    "\n",
    "$alpha$ is best value by any means\n",
    "  * Any value less than this is no use because we already now how to achieve at least a value of $alpha$\n",
    "  * Minimum value Max can get\n",
    "  * Initially, negative infinity\n",
    "\n",
    "*beta* is worst value for the opponent\n",
    "  * Anything higher than this won't be useful to opponent\n",
    "  * Maximum score Min can get\n",
    "  * Initially, infinity\n",
    "\n",
    "The span between *alpha* and *beta* progressively gets smaller.\n",
    "\n",
    "Any position for which *beta* < *alpha* can be pruned."
   ]
  },
  {
   "cell_type": "code",
   "execution_count": 3,
   "metadata": {},
   "outputs": [
    {
     "data": {
      "text/html": [
       "\n",
       "        <iframe\n",
       "            width=\"800\"\n",
       "            height=\"600\"\n",
       "            src=\"http://www.cs.colostate.edu/~anderson/cs440/notebooks/alphabetatictactoe.pdf\"\n",
       "            frameborder=\"0\"\n",
       "            allowfullscreen\n",
       "        ></iframe>\n",
       "        "
      ],
      "text/plain": [
       "<IPython.lib.display.IFrame at 0x22be41a0ba8>"
      ]
     },
     "execution_count": 3,
     "metadata": {},
     "output_type": "execute_result"
    }
   ],
   "source": [
    "IFrame(\"http://www.cs.colostate.edu/~anderson/cs440/notebooks/alphabetatictactoe.pdf\", width=800, height=600)"
   ]
  },
  {
   "cell_type": "markdown",
   "metadata": {},
   "source": [
    "## Stochastic Games"
   ]
  },
  {
   "cell_type": "markdown",
   "metadata": {},
   "source": [
    "First, a definition of *expected value*.  The average value of a lot\n",
    "(infinite number) of dice rolls with a fair dice is\n",
    "\n",
    "$$\n",
    "(1+2+3+4+5+6) / 6\n",
    "$$\n",
    "\n",
    "The *expected value* is exactly this average, but is defined as the\n",
    "sum of the possible values times their probability of occurring.\n",
    "\n",
    "$$\n",
    "1(1/6) + 2(1/6) + 3(1/6) + 4(1/6) + 5(1/6) + 6(1/6)\n",
    "$$\n",
    "\n",
    "If the 4, 5 and 6 sides are less likely than the other sides, then the\n",
    "expected value might be\n",
    "\n",
    "$$\n",
    "1(1/4) + 2(1/4) + 3(1/4) + 4(1/12) + 5(1/12) + 6(1/12)\n",
    "$$"
   ]
  },
  {
   "cell_type": "markdown",
   "metadata": {},
   "source": [
    "A stochastic game is modeled by \n",
    "simply adding a level of **chance nodes** between each player's levels in\n",
    "the search tree.  The various outcomes from the chance node have\n",
    "certain probabilities of occurring.  When backing up values through a\n",
    "chance node, the values are multiplied by their probability of\n",
    "occurring.\n",
    "\n",
    "<img src=\"http://www.cs.colostate.edu/~anderson/cs440/notebooks/expectedvalues.png\">\n",
    "\n",
    "\n",
    "This illustrates  the *expectimax* algorithm, for backing up values\n",
    "through chance nodes."
   ]
  },
  {
   "cell_type": "markdown",
   "metadata": {},
   "source": [
    "An alternative approach is to do Monte Carlo simulation to estimate\n",
    "the expected values.  Perform many searches from the same node and at\n",
    "each chance node select just one outcome with the corresponding\n",
    "probability.  Average over the resulting backed up values.  Sometimes\n",
    "called a *rollout*.\n",
    "\n",
    "Can alpha-beta pruning be applied to the expectimax algorithm?  \n",
    "\n",
    "Seems like the answer is no; we must know all children to calculate\n",
    "their weighted average values.  But bounds can be placed on the\n",
    "possible average value if we know bounds on the utility values.\n",
    "\n",
    "Can evaluation functions be applied to non-terminal nodes in\n",
    "stochastic games?  Yes, but must be careful, as Figure 5.12\n",
    "illustrates.  Evaluation functions must be a positive linear\n",
    "transformation of the expected utility from a position."
   ]
  },
  {
   "cell_type": "code",
   "execution_count": null,
   "metadata": {
    "collapsed": true
   },
   "outputs": [],
   "source": []
  }
 ],
 "metadata": {
  "anaconda-cloud": {},
  "kernelspec": {
   "display_name": "Python 3",
   "language": "python",
   "name": "python3"
  },
  "language_info": {
   "codemirror_mode": {
    "name": "ipython",
    "version": 3
   },
   "file_extension": ".py",
   "mimetype": "text/x-python",
   "name": "python",
   "nbconvert_exporter": "python",
   "pygments_lexer": "ipython3",
   "version": "3.6.2"
  }
 },
 "nbformat": 4,
 "nbformat_minor": 1
}
