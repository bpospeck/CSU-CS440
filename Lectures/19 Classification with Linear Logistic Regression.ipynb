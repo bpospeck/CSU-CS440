{
 "cells": [
  {
   "cell_type": "markdown",
   "metadata": {},
   "source": [
    "$$\\newcommand{\\xv}{\\mathbf{x}}\n",
    "\\newcommand{\\Xv}{\\mathbf{X}}\n",
    "\\newcommand{\\yv}{\\mathbf{y}}\n",
    "\\newcommand{\\Yv}{\\mathbf{Y}}\n",
    "\\newcommand{\\zv}{\\mathbf{z}}\n",
    "\\newcommand{\\av}{\\mathbf{a}}\n",
    "\\newcommand{\\Wv}{\\mathbf{W}}\n",
    "\\newcommand{\\wv}{\\mathbf{w}}\n",
    "\\newcommand{\\betav}{\\mathbf{\\beta}}\n",
    "\\newcommand{\\gv}{\\mathbf{g}}\n",
    "\\newcommand{\\Hv}{\\mathbf{H}}\n",
    "\\newcommand{\\dv}{\\mathbf{d}}\n",
    "\\newcommand{\\Vv}{\\mathbf{V}}\n",
    "\\newcommand{\\vv}{\\mathbf{v}}\n",
    "\\newcommand{\\tv}{\\mathbf{t}}\n",
    "\\newcommand{\\Tv}{\\mathbf{T}}\n",
    "\\newcommand{\\Sv}{\\mathbf{S}}\n",
    "\\newcommand{\\zv}{\\mathbf{z}}\n",
    "\\newcommand{\\Zv}{\\mathbf{Z}}\n",
    "\\newcommand{\\Norm}{\\mathcal{N}}\n",
    "\\newcommand{\\muv}{\\boldsymbol{\\mu}}\n",
    "\\newcommand{\\sigmav}{\\boldsymbol{\\sigma}}\n",
    "\\newcommand{\\phiv}{\\boldsymbol{\\phi}}\n",
    "\\newcommand{\\Phiv}{\\boldsymbol{\\Phi}}\n",
    "\\newcommand{\\Sigmav}{\\boldsymbol{\\Sigma}}\n",
    "\\newcommand{\\Lambdav}{\\boldsymbol{\\Lambda}}\n",
    "\\newcommand{\\half}{\\frac{1}{2}}\n",
    "\\newcommand{\\argmax}[1]{\\underset{#1}{\\operatorname{argmax}}}\n",
    "\\newcommand{\\argmin}[1]{\\underset{#1}{\\operatorname{argmin}}}\n",
    "\\newcommand{\\dimensionbar}[1]{\\underset{#1}{\\operatorname{|}}}\n",
    "\\newcommand{\\dimensionbar}[1]{\\underset{#1}{\\operatorname{|}}}\n",
    "\\newcommand{\\grad}{\\mathbf{\\nabla}}\n",
    "\\newcommand{\\ebx}[1]{e^{\\wv_{#1}^T \\xv_n}}\n",
    "\\newcommand{\\eby}[1]{e^{y_{n,#1}}}\n",
    "\\newcommand{\\Tiv}{\\mathbf{Ti}}\n",
    "\\newcommand{\\Fv}{\\mathbf{F}}\n",
    "\\newcommand{\\ones}[1]{\\mathbf{1}_{#1}}\n",
    "$$"
   ]
  },
  {
   "cell_type": "markdown",
   "metadata": {},
   "source": [
    "# Classification with Linear Logistic Regression"
   ]
  },
  {
   "cell_type": "markdown",
   "metadata": {},
   "source": [
    "## Motivation and Setup"
   ]
  },
  {
   "cell_type": "markdown",
   "metadata": {},
   "source": [
    "Recall that a linear model used for classification can result in masking. We discussed fixing this by using different\n",
    "shaped membership functions, other than linear.\n",
    "\n",
    "Our first approach to this was to use generative models (Normal distributions) to model the data\n",
    "from each class, forming $p(\\xv|C=k)$.  Using Bayes Theorem, we converted this to $p(C=k|\\xv)$ and\n",
    "derived QDA and LDA.\n",
    "\n",
    "Now we will derive a linear model that directly predicts $p(C=k|\\xv)$, resulting in the algorithm called logisitic\n",
    "regression.  It is derived to maximize the likelihood of the data, given a bunch of samples and their class labels.\n",
    "\n",
    "Remember this picture?\n",
    "\n",
    "<img src=\"http://www.cs.colostate.edu/~anderson/cs440/notebooks/indicatorvarsmax2.png\" width=400>\n",
    "\n",
    "The problem was that the green line for Class 2 was too low.\n",
    "In fact, all lines are too low in the middle of x range.  Maybe we\n",
    "can reduce the masking effect by\n",
    "\n",
    "   * requiring the function values to be between 0 and 1, and\n",
    "   * requiring them to sum to 1 for every value of x.\n",
    "\n",
    "We can satisfy those two requirements by directly representing\n",
    "$p(C=k|\\xv)$ as\n",
    "\n",
    "$$\n",
    "    \\begin{align*}\n",
    "      p(C=k|\\xv) = \\frac{f(\\xv;\\wv_k)}{\\sum_{m=1}^K f(\\xv;\\wv_m)}\n",
    "    \\end{align*}\n",
    "$$\n",
    "\n",
    "with $f(\\xv;\\wv) \\ge 0$. We haven't discussed the form of $f$ yet, but $\\wv$\n",
    "represents the parameters of $f$ that we will tune to fit the\n",
    "training data (later).\n",
    "\n",
    "This is certainly an expression that is between 0 and 1 for\n",
    "any $\\xv$.\n",
    "And we have $p(C=k|\\xv)$ expressed directly, as opposed to\n",
    "the previous generative approach of first modeling $p(\\xv|C=k)$\n",
    "and using Bayes' theorem to get $p(C=k|\\xv)$.\n",
    "\n",
    "Let's give the above expression another name\n",
    "\n",
    "$$\n",
    "    \\begin{align*}\n",
    "      g_k(\\xv) = p(C=k|\\xv) = \\frac{f(\\xv;\\wv_k)}{\\sum_{m=1}^K f(\\xv;\\wv_m)}\n",
    "    \\end{align*}\n",
    "$$"
   ]
  },
  {
   "cell_type": "markdown",
   "metadata": {},
   "source": [
    "## Derivation"
   ]
  },
  {
   "cell_type": "markdown",
   "metadata": {},
   "source": [
    "Whatever we choose for $f$, we must make a plan for\n",
    "optimizing its parameters $\\wv$.  How?\n",
    "\n",
    "Let's maximize the likelihood of the data.  So, what is the\n",
    "likelihood of training data consisting of samples $\\{\\xv_1, \\xv_2, \\ldots, \\xv_N\\}$ and class indicator variables\n",
    "\n",
    "$$\n",
    "  \\begin{align*}\n",
    "    \\begin{pmatrix}\n",
    "      t_{1,1} & t_{1,2} & \\ldots & t_{1,K}\\\\\n",
    "      t_{2,1} & t_{2,2} & \\ldots & t_{2,K}\\\\\n",
    "      \\vdots\\\\\n",
    "      t_{N,1} & t_{N,2} & \\ldots & t_{N,K}\n",
    "    \\end{pmatrix}\n",
    "  \\end{align*}\n",
    "$$\n",
    "\n",
    "with every value $t_{n,k}$ being 0 or 1, and each row of this matrix\n",
    "contains a single 1? (We can also express $\\{\\xv_1, \\xv_2,\n",
    "\\ldots, \\xv_N\\}$ as an $N \\times D$ matrix, but we will be using\n",
    "single samples $\\xv_n$ more often in the following.)"
   ]
  },
  {
   "cell_type": "markdown",
   "metadata": {},
   "source": [
    "## Data Likelihood"
   ]
  },
  {
   "cell_type": "markdown",
   "metadata": {},
   "source": [
    "The likelihood is just the product of all $p(C=\\text{class of }\n",
    "n^\\text{th}\\text{ sample}\\,|\\,\\xv_n)$ values\n",
    "for sample $n$.  A common way to express this product, using those handy indicator variables is\n",
    "\n",
    "$$\n",
    "    \\begin{align*}\n",
    "      L(\\betav) = \\prod_{n=1}^N \\prod_{k=1}^K p(C=k\\,|\\, \\xv_n)^{t_{n,k}}\n",
    "    \\end{align*}\n",
    "$$\n",
    "\n",
    "\n",
    "Say we have three classes ($K=3$) and training sample $n$ is from Class 2, then the  product is\n",
    "\n",
    "$$\n",
    "      \\begin{align*}\n",
    "        p(C=1\\,|\\,\\xv_n)^{t_{n,1}} p(C=2\\,|\\,\\xv_n)^{t_{n,2}}\n",
    "        p(C=3\\,|\\,\\xv_n)^{t_{n,3}} & = \n",
    "         p(C=1\\,|\\,\\xv_n)^0 p(C=2\\,|\\,\\xv_n)^1 p(C=3\\,|\\,\\xv_n)^0 \\\\\n",
    "        & = 1\\; p(C=2\\,|\\,\\xv_n)^1 \\; 1 \\\\\n",
    "        & = p(C=2\\,|\\,\\xv_n) \n",
    "      \\end{align*}\n",
    "$$\n",
    "\n",
    "This shows how the indicator variables as exponents select the correct terms to be included in the product."
   ]
  },
  {
   "cell_type": "markdown",
   "metadata": {},
   "source": [
    "## Maximizing the Data Likelihood"
   ]
  },
  {
   "cell_type": "markdown",
   "metadata": {},
   "source": [
    "So, we want to find $\\wv$ that maximizes the data likelihood.  How shall we proceed?\n",
    "\n",
    "$$\n",
    "    \\begin{align*}\n",
    "      L(\\wv) & = \\prod_{n=1}^N \\prod_{k=1}^K p(C=k\\,|\\, \\xv_n) ^ {t_{n,k}}\n",
    "    \\end{align*}\n",
    "$$\n",
    "\n",
    "\n",
    "Right.  Find the derivative with respect to each component of $\\wv$, or the gradient with respect to $\\wv$.  But there is\n",
    "a mess of products in this. So...\n",
    "\n",
    "Right again.  Work with the natural logarithm  $\\log L(\\wv)$ which we will call $LL(\\wv)$.\n",
    "\n",
    "$$\n",
    "    \\begin{align*}\n",
    "      LL(\\wv) = \\log L(\\wv) = \\sum_{n=1}^N \\sum_{k=1}^K t_{n,k}  \\log p(C=k\\,|\\,\\xv_n)\n",
    "    \\end{align*}\n",
    "$$"
   ]
  },
  {
   "cell_type": "markdown",
   "metadata": {},
   "source": [
    "## Gradient Ascent"
   ]
  },
  {
   "cell_type": "markdown",
   "metadata": {},
   "source": [
    "Unfortunately, the gradient of $LL(\\wv)$ with respect to\n",
    "$\\wv$ is not linear in $\\wv$, so we cannot simply set the\n",
    "result equal to zero and solve for $\\wv$.\n",
    "\n",
    "Instead, we do gradient ascent. (Why \"ascent\"?)\n",
    "\n",
    "  * Initialize $\\wv$ to some value.\n",
    "  * Make small change to $\\wv$ in the direction of the  gradient of $LL(\\wv)$ with respect to $\\wv$  (or $\\grad_{\\wv} LL(\\wv)$)\n",
    "  * Repeat above step until $LL(\\wv)$ seems to be at a maximum.\n",
    "\n",
    "$$\n",
    "      \\begin{align*}\n",
    "        \\wv \\leftarrow \\wv + \\alpha \\grad_{\\wv} LL(\\wv)\n",
    "      \\end{align*}\n",
    "$$\n",
    "\n",
    "where $\\alpha$ is a constant that affects the step size."
   ]
  },
  {
   "cell_type": "markdown",
   "metadata": {},
   "source": [
    "## Derivation Summary"
   ]
  },
  {
   "cell_type": "markdown",
   "metadata": {},
   "source": [
    "$P(C=k\\,|\\,\\xv_n)$ and the data likelihood we want to maximize:\n",
    "\n",
    "$$\n",
    "    \\begin{align*}\n",
    "     L(\\wv) & = \\prod_{n=1}^N \\prod_{k=1}^K p(C=k\\,|\\, \\xv_n) ^{t_{n,k}}\\\\\n",
    "      & = \\prod_{n=1}^N \\prod_{k=1}^K g_k(\\xv_n)^{t_{n,k}}\n",
    "      \\end{align*}\n",
    "$$\n",
    "where\n",
    "$$\n",
    "    \\begin{align*}\n",
    "      g_k(\\xv_n) & = P(C=k\\,|\\,\\xv_n) =\n",
    "      \\frac{f(\\xv_n;\\wv_k)}{\\sum_{m=1}^{K} f(\\xv_n;\\wv_m)}\\\\\n",
    "      f(\\xv_n;\\wv_k) & = \\left \\{ \\begin{array}{ll} \\ebx{k}; & k < K\\\\ 1;& k = K \\end{array} \\right . \n",
    "    \\end{align*}\n",
    "$$\n",
    "\n",
    "\n",
    "Gradient of log likelihood with respect to $\\wv_j$:\n",
    "\n",
    "$$         \n",
    "    \\begin{align*}\n",
    "      \\grad_{\\wv_j} LL(\\wv) & = \\sum_{n=1}^N \\sum_{k=1}^K\n",
    "      \\frac{t_{n,k}}{g_k(\\xv_n)} \\grad_{\\wv_j}\n",
    "      g_k(\\xv_n)\\\\\n",
    "%& = \\sum_{n=1}^N \\left ( \\sum_{k=1}^K t_{n,k} \\delta_{jk} -\n",
    "%  g_j(\\xv_n) \\sum_{k=1}^K t_{n,k} \\right )\\\\\n",
    "& = \\sum_{n=1}^N \\xv_n (t_{n,j} - g_j(\\xv_n))\n",
    "\\end{align*}\n",
    "$$\n",
    "\n",
    "which results in this update rule for $\\wv_j$\n",
    "\n",
    "$$\n",
    "    \\begin{align*}\n",
    "        \\wv_j  \\leftarrow \\wv_j + \\alpha \\sum_{n=1}^N\n",
    "        (t_{n,j} - g_j(\\xv_n)) \\xv_n\n",
    "        \\end{align*}\n",
    "$$"
   ]
  },
  {
   "cell_type": "markdown",
   "metadata": {},
   "source": [
    "## Implementation in Python"
   ]
  },
  {
   "cell_type": "markdown",
   "metadata": {},
   "source": [
    "Update rule for $\\wv_j$\n",
    "\n",
    "$$\n",
    "    \\begin{align*}\n",
    "      \\wv_j  \\leftarrow \\wv_j + \\alpha \\sum_{n=1}^N\n",
    "      (t_{n,j} - g_j(\\xv_n)) \\xv_n\n",
    "    \\end{align*}\n",
    "$$\n",
    "\n",
    "What are shapes of each piece?  Remember that whenever we are dealing with weighted sums of inputs, as we are here, add the constant 1 to the front of each sample.\n",
    "\n",
    "  * $\\xv_n$ is $(D+1) \\times 1$ ($+1$ for the constant 1 input)\n",
    "  * $\\wv_j$ is  $(D+1) \\times 1$ \n",
    "  * $t_{n,j} - g_j(\\xv_n)$ is   a scalar\n",
    "\n",
    "So, this all works. But, notice the sum is over $n$, and each\n",
    "term in the product as $n$ components, so we can do this as a dot product.\n",
    "\n",
    "Let's remove the sum and replace subscript $n$ with\n",
    "*. \n",
    "\n",
    "$$\n",
    "    \\begin{align*}\n",
    "      \\wv_j  &\\leftarrow \\wv_j + \\alpha \\sum_{n=1}^N\n",
    "      (t_{n,j} - g_j(\\xv_n)) \\xv_n\\\\\n",
    "      \\wv_j  &\\leftarrow \\wv_j + \\alpha (t_{*,j} - g_j(\\xv_*)) \\xv_*\\\\\n",
    "    \\end{align*}\n",
    "$$\n",
    "\n",
    "What are shapes of each piece?\n",
    "\n",
    "  * $(t_{*,j} - g_j(\\xv_*))$ is $N \\times 1$\n",
    "  * $\\xv_* = X$ is  $N \\times (D+1)$\n",
    "  * $\\wv_j$ is  $(D+1) \\times 1$ \n",
    "\n",
    "So, this will work if we transpose $X$ and premultiply it and define\n",
    "$g$ as a function that accepts $\\Xv$.\n",
    "\n",
    "$$\n",
    "    \\begin{align*}\n",
    "%      \\wv_j  &\\leftarrow \\wv_j + \\alpha (t_{*,j} -\n",
    "%      g(\\xv_*;\\wv_j)) \\xv_*\\\\\n",
    "      \\wv_j  &\\leftarrow \\wv_j + \\alpha \\Xv^T (t_{*,j} -\n",
    "      g_j(\\Xv))\n",
    "    \\end{align*}\n",
    "$$"
   ]
  },
  {
   "cell_type": "markdown",
   "metadata": {},
   "source": [
    "Let's keep going...and try to make this expression work for\n",
    "all of the $\\wv$'s.\n",
    "Playing with the subscripts again, replace $j$ with *.\n",
    "\n",
    "$$\n",
    "    \\begin{align*}\n",
    "      \\wv_j  &\\leftarrow \\wv_j + \\alpha \\Xv^T (t_{*,j} - g_j(\\Xv))\\\\\n",
    "      \\wv_*  &\\leftarrow \\wv_* + \\alpha \\Xv^T (t_{*,*} - g_*(\\Xv))\n",
    "    \\end{align*}\n",
    "$$\n",
    "\n",
    "Now what are shapes? \n",
    "\n",
    "  * $\\wv_* = \\wv$ is  $(D+1) \\times K$\n",
    "  * $t_{*,*} = T$ is  $N \\times K$\n",
    "  * $g_*(\\Xv)$ is   $N \\times (K-1)$\n",
    "  * $t_{*,*} - g_*(\\Xv)$ is  $N \\times K$\n",
    "  * So, $\\Xv^T (t_{*,*} - g_*(\\Xv))$ is  $(D+1) \\times K$\n",
    "  * So, $\\Xv^T (T - g(\\Xv))$ is  $(D+1) \\times K$\n",
    "\n",
    "Now our update equation for all $\\wv$'s is\n",
    "\n",
    "$$\n",
    "    \\begin{align*}\n",
    "      \\wv  &\\leftarrow \\wv + \\alpha \\Xv^T (T - g(\\Xv))\n",
    "    \\end{align*}\n",
    "$$\n",
    "\n",
    "\n",
    "We had defined, for $k = 1,\\ldots, K$,\n",
    "\n",
    "$$\n",
    "    \\begin{align*}\n",
    "      f(\\xv_n;\\wv_k) & =  \\ebx{k} \\\\\n",
    "        g_k(\\xv) &=  \\dfrac{f(\\xv;\\wv_k)}{\\sum_{m=1}^K f(\\xv;\\wv_m)}\n",
    "      \\end{align*}\n",
    "$$\n",
    "\n",
    "Changing these to handle all samples $\\Xv$ and all parameters\n",
    "$\\wv$ we have\n",
    "\n",
    "$$\n",
    "    \\begin{align*}\n",
    "      f(\\Xv;\\wv) & = e^{\\Xv \\wv}\\\\\n",
    "      g(\\Xv) & = \\frac{f(\\Xv;\\wv)}{\\text{rowSums}(f(\\Xv;\\wv)}\n",
    "    \\end{align*}\n",
    "$$\n",
    "\n",
    "\n",
    "Given training data $\\Xv$ ($N\\times (D+1)$) and class\n",
    "indicator variables $T$ ($N \\times K)$), these expressions\n",
    "can be performed with the following code.\n",
    "\n",
    "First, we need a function to create indicator variables from the class labels, to get\n",
    "\n",
    "$$\n",
    "\\begin{bmatrix}\n",
    "1\\\\\n",
    "2\\\\\n",
    "2\\\\\n",
    "1\\\\\n",
    "3\n",
    "\\end{bmatrix}\n",
    "\\Rightarrow\n",
    "\\begin{bmatrix}\n",
    "1 & 0 & 0\\\\\n",
    "0 & 1 & 0\\\\\n",
    "0 & 1 & 0\\\\\n",
    "1 & 0 & 0\\\\\n",
    "0 & 0 & 1\n",
    "\\end{bmatrix}\n",
    "$$"
   ]
  },
  {
   "cell_type": "code",
   "execution_count": 1,
   "metadata": {
    "collapsed": false
   },
   "outputs": [],
   "source": [
    "import numpy as np\n",
    "import matplotlib.pyplot as plt\n",
    "%matplotlib inline"
   ]
  },
  {
   "cell_type": "code",
   "execution_count": 2,
   "metadata": {
    "collapsed": false
   },
   "outputs": [],
   "source": [
    "def makeIndicatorVars(T):\n",
    "    # Make sure T is two-dimensiona. Should be nSamples x 1.\n",
    "    if T.ndim == 1:\n",
    "        T = T.reshape((-1,1))    \n",
    "    return (T == np.unique(T)).astype(int)"
   ]
  },
  {
   "cell_type": "code",
   "execution_count": 3,
   "metadata": {
    "collapsed": false
   },
   "outputs": [
    {
     "data": {
      "text/plain": [
       "array([[1],\n",
       "       [2],\n",
       "       [2],\n",
       "       [1],\n",
       "       [3]])"
      ]
     },
     "execution_count": 3,
     "metadata": {},
     "output_type": "execute_result"
    }
   ],
   "source": [
    "T = np.array([1,2,2,1,3]).reshape((-1,1))\n",
    "T"
   ]
  },
  {
   "cell_type": "code",
   "execution_count": 4,
   "metadata": {
    "collapsed": false
   },
   "outputs": [
    {
     "data": {
      "text/plain": [
       "array([[1, 0, 0],\n",
       "       [0, 1, 0],\n",
       "       [0, 1, 0],\n",
       "       [1, 0, 0],\n",
       "       [0, 0, 1]])"
      ]
     },
     "execution_count": 4,
     "metadata": {},
     "output_type": "execute_result"
    }
   ],
   "source": [
    "makeIndicatorVars(T)"
   ]
  },
  {
   "cell_type": "code",
   "execution_count": 5,
   "metadata": {
    "collapsed": false
   },
   "outputs": [],
   "source": [
    "# import pdb\n",
    "def g(X,w):\n",
    "    fs = np.exp(np.dot(X, w))  # N x K\n",
    "    denom = np.sum(fs,axis=1).reshape((-1,1))\n",
    "    # pdb.set_trace()\n",
    "    gs = fs / denom\n",
    "    # print(gs[:10,:])\n",
    "    return gs"
   ]
  },
  {
   "cell_type": "markdown",
   "metadata": {},
   "source": [
    "The function ```g``` is sometimes called the *softmax* function. "
   ]
  },
  {
   "cell_type": "markdown",
   "metadata": {},
   "source": [
    "Now the updates to $\\wv$ can be formed with code like\n",
    "\n",
    "    TI = makeIndicatorVars(T)   \n",
    "    w = np.zeros((X.shape[1],TI.shape[1]))\n",
    "    alpha = 0.0001\n",
    "    for step in range(1000):\n",
    "        gs = g(X,w)\n",
    "        # Error does not involve the last column of indicator variables in TI nor gs\n",
    "        w = w + alpha * np.dot(X.T, TI - gs) \n",
    "        \n",
    "Here is code for applying linear logistic regression to the Parkinsons data from last lecture."
   ]
  },
  {
   "cell_type": "code",
   "execution_count": 6,
   "metadata": {
    "collapsed": true
   },
   "outputs": [],
   "source": [
    "def loadParkinsonsData(filename='parkinsons.data'):\n",
    "    f = open(filename,\"r\")\n",
    "    header = f.readline()\n",
    "    names = header.strip().split(',')[1:]\n",
    "\n",
    "    data = np.loadtxt(f ,delimiter=',', usecols=1+np.arange(23))\n",
    "\n",
    "    targetColumn = names.index(\"status\")\n",
    "    XColumns = np.arange(23)\n",
    "    XColumns = np.delete(XColumns, targetColumn)\n",
    "    X = data[:,XColumns]\n",
    "    T = data[:,targetColumn].reshape((-1,1)) # to keep 2-d matrix form\n",
    "    names.remove(\"status\")\n",
    "    return X,T,names"
   ]
  },
  {
   "cell_type": "code",
   "execution_count": 7,
   "metadata": {
    "collapsed": false
   },
   "outputs": [],
   "source": [
    "X,T,names = loadParkinsonsData()"
   ]
  },
  {
   "cell_type": "code",
   "execution_count": 8,
   "metadata": {
    "collapsed": false
   },
   "outputs": [
    {
     "data": {
      "text/plain": [
       "((195, 22),\n",
       " (195, 1),\n",
       " ['MDVP:Fo(Hz)',\n",
       "  'MDVP:Fhi(Hz)',\n",
       "  'MDVP:Flo(Hz)',\n",
       "  'MDVP:Jitter(%)',\n",
       "  'MDVP:Jitter(Abs)',\n",
       "  'MDVP:RAP',\n",
       "  'MDVP:PPQ',\n",
       "  'Jitter:DDP',\n",
       "  'MDVP:Shimmer',\n",
       "  'MDVP:Shimmer(dB)',\n",
       "  'Shimmer:APQ3',\n",
       "  'Shimmer:APQ5',\n",
       "  'MDVP:APQ',\n",
       "  'Shimmer:DDA',\n",
       "  'NHR',\n",
       "  'HNR',\n",
       "  'RPDE',\n",
       "  'DFA',\n",
       "  'spread1',\n",
       "  'spread2',\n",
       "  'D2',\n",
       "  'PPE'])"
      ]
     },
     "execution_count": 8,
     "metadata": {},
     "output_type": "execute_result"
    }
   ],
   "source": [
    "X.shape,T.shape,names"
   ]
  },
  {
   "cell_type": "code",
   "execution_count": 9,
   "metadata": {
    "collapsed": true
   },
   "outputs": [],
   "source": [
    "def standardize(X,mean,stds):\n",
    "    return (X - mean)/stds"
   ]
  },
  {
   "cell_type": "code",
   "execution_count": 10,
   "metadata": {
    "collapsed": false
   },
   "outputs": [],
   "source": [
    "def runParkLogReg(filename, trainFraction):\n",
    "    f = open(filename,\"r\")\n",
    "    header = f.readline()\n",
    "    names = header.strip().split(',')[1:]\n",
    "\n",
    "    data = np.loadtxt(f ,delimiter=',', usecols=1+np.arange(23))\n",
    "\n",
    "    targetColumn = names.index(\"status\")\n",
    "    XColumns = np.arange(23)\n",
    "    XColumns = np.delete(XColumns, targetColumn)\n",
    "    X = data[:, XColumns]\n",
    "    T = data[:, targetColumn].reshape((-1, 1)) # to keep 2-d matrix form\n",
    "    names.remove(\"status\")\n",
    "\n",
    "    healthyI,_ = np.where(T == 0)\n",
    "    parkI,_ = np.where(T == 1)\n",
    "    healthyI = np.random.permutation(healthyI)\n",
    "    parkI = np.random.permutation(parkI)\n",
    "\n",
    "    nHealthy = round(trainFraction*len(healthyI))\n",
    "    nPark = round(trainFraction*len(parkI))\n",
    "    rowsTrain = np.hstack((healthyI[:nHealthy], parkI[:nPark]))\n",
    "    Xtrain = X[rowsTrain, :]\n",
    "    Ttrain = T[rowsTrain, :]\n",
    "    rowsTest = np.hstack((healthyI[nHealthy:], parkI[nPark:]))\n",
    "    Xtest =  X[rowsTest, :]\n",
    "    Ttest =  T[rowsTest, :]\n",
    "\n",
    "    means,stds = np.mean(Xtrain, 0), np.std(Xtrain ,0)\n",
    "    Xtrains = standardize(Xtrain, means, stds)\n",
    "    Xtests = standardize(Xtest, means, stds)\n",
    "    \n",
    "    Xtrains1 = np.hstack(( np.ones((Xtrains.shape[0], 1)), Xtrains))\n",
    "    Xtests1 = np.hstack(( np.ones((Xtests.shape[0], 1)), Xtests))\n",
    "\n",
    "    # New stuff for linear logistic regression\n",
    "\n",
    "    TtrainI = makeIndicatorVars(Ttrain)\n",
    "    TtestI = makeIndicatorVars(Ttest)\n",
    "\n",
    "    w = np.zeros((Xtrains1.shape[1], TtrainI.shape[1]))\n",
    "    likelihood = []\n",
    "    alpha = 0.0001\n",
    "    for step in range(1000):\n",
    "        gs = g(Xtrains1, w)\n",
    "        w = w + alpha * np.dot(Xtrains1.T, TtrainI - gs)\n",
    "        likelihoodPerSample = np.exp( np.sum(TtrainI * np.log(gs)) / Xtrains.shape[0])\n",
    "        likelihood.append(likelihoodPerSample)\n",
    "        # print(\"Step\",step,\" l =\",likelihoodPerSample)\n",
    "        \n",
    "    plt.subplot2grid((1, 4), (0, 0))\n",
    "    plt.plot(likelihood)\n",
    "\n",
    "    logregOutput = g(Xtrains1, w)\n",
    "    predictedTrain = np.argmax(logregOutput, axis=1)\n",
    "    logregOutput = g(Xtests1, w)\n",
    "    predictedTestLR = np.argmax(logregOutput, axis=1)\n",
    "\n",
    "    print(\"LogReg: Percent correct: Train {:.3g} Test {:.3g}\".format(percentCorrect(predictedTrain, Ttrain),\n",
    "                                                                     percentCorrect(predictedTestLR, Ttest)))\n",
    "\n",
    "    # Previous QDA code\n",
    "    \n",
    "    Ttr = (Ttrain==0).reshape((-1))\n",
    "    mu1 = np.mean(Xtrains[Ttr, :],axis=0)\n",
    "    cov1 = np.cov(Xtrains[Ttr, :].T)\n",
    "    Ttr = (Ttrain.ravel()==1).reshape((-1))\n",
    "    mu2 = np.mean(Xtrains[Ttr, :],axis=0)\n",
    "    cov2 = np.cov(Xtrains[Ttr, :].T)\n",
    "\n",
    "    d1 = discQDA(Xtrain, means, stds, mu1, cov1, float(nHealthy)/(nHealthy+nPark))\n",
    "    d2 = discQDA(Xtrain, means, stds, mu2, cov2, float(nPark)/(nHealthy+nPark))\n",
    "    predictedTrain = np.argmax(np.hstack((d1,d2)),axis=1)\n",
    "\n",
    "    d1t = discQDA(Xtest, means, stds, mu1, cov1, float(nHealthy)/(nHealthy+nPark))\n",
    "    d2t = discQDA(Xtest, means, stds, mu2, cov2, float(nPark)/(nHealthy+nPark))\n",
    "    predictedTestQDA = np.argmax(np.hstack((d1t, d2t)), axis=1)\n",
    "\n",
    "    print(\"   QDA: Percent correct: Train {:.3g} Test {:.3g}\".format(percentCorrect(predictedTrain, Ttrain),\n",
    "                                                                     percentCorrect(predictedTestQDA, Ttest)))\n",
    "    \n",
    "    plt.subplot2grid((1, 4), (0, 1), colspan=3)\n",
    "    plt.plot(Ttest, 'o-')\n",
    "    plt.plot(predictedTestLR, 'o-')\n",
    "    plt.plot(predictedTestQDA, 'o-')\n",
    "    plt.ylim(-0.1, 1.1)\n",
    "\n",
    "def percentCorrect(p, t):\n",
    "    return np.sum(p.ravel()==t.ravel()) / float(len(t)) * 100\n",
    "\n",
    "def discQDA(X, means, stds, mu, Sigma, prior):\n",
    "    Xc = standardize(X, means, stds) - mu\n",
    "    if Sigma.size == 1:\n",
    "        Sigma = np.asarray(Sigma).reshape((1, 1))\n",
    "    det = np.linalg.det(Sigma)        \n",
    "    if det == 0:\n",
    "        raise np.linalg.LinAlgError('discQDA(): Singular covariance matrix')\n",
    "    SigmaInv = np.linalg.inv(Sigma)     # pinv in case Sigma is singular\n",
    "    return -0.5 * np.log(det) \\\n",
    "           - 0.5 * np.sum(np.dot(Xc, SigmaInv) * Xc, axis=1).reshape((-1,1)) \\\n",
    "           + np.log(prior)"
   ]
  },
  {
   "cell_type": "code",
   "execution_count": 11,
   "metadata": {
    "collapsed": false
   },
   "outputs": [
    {
     "name": "stdout",
     "output_type": "stream",
     "text": [
      "LogReg: Percent correct: Train 87.2 Test 76.9\n",
      "   QDA: Percent correct: Train 99.4 Test 89.7\n"
     ]
    },
    {
     "data": {
      "image/png": "[encoded data removed]",
      "text/plain": [
       "<matplotlib.figure.Figure at 0x7f95afc3df28>"
      ]
     },
     "metadata": {},
     "output_type": "display_data"
    }
   ],
   "source": [
    "runParkLogReg('parkinsons.data',0.8)"
   ]
  },
  {
   "cell_type": "code",
   "execution_count": 12,
   "metadata": {
    "collapsed": false
   },
   "outputs": [
    {
     "name": "stdout",
     "output_type": "stream",
     "text": [
      "LogReg: Percent correct: Train 87.8 Test 87.2\n",
      "   QDA: Percent correct: Train 100 Test 84.6\n"
     ]
    },
    {
     "data": {
      "image/png": "[encoded data removed]",
      "text/plain": [
       "<matplotlib.figure.Figure at 0x7f95c0075908>"
      ]
     },
     "metadata": {},
     "output_type": "display_data"
    }
   ],
   "source": [
    "runParkLogReg('parkinsons.data',0.8)"
   ]
  },
  {
   "cell_type": "code",
   "execution_count": 13,
   "metadata": {
    "collapsed": false
   },
   "outputs": [
    {
     "name": "stdout",
     "output_type": "stream",
     "text": [
      "LogReg: Percent correct: Train 85.9 Test 84.6\n",
      "   QDA: Percent correct: Train 96.8 Test 97.4\n"
     ]
    },
    {
     "data": {
      "image/png": "[encoded data removed]",
      "text/plain": [
       "<matplotlib.figure.Figure at 0x7f95ad139d68>"
      ]
     },
     "metadata": {},
     "output_type": "display_data"
    }
   ],
   "source": [
    "runParkLogReg('parkinsons.data',0.8)"
   ]
  },
  {
   "cell_type": "markdown",
   "metadata": {},
   "source": [
    "The code above is doing steepest ascent in the gradient of the log\n",
    "likelihood.  Do we have a better way of doing this gradient ascent?\n",
    "\n",
    "Hey, how about using Moller's Scaled Conjugate Gradient again?  Just\n",
    "have to define the function being optimized and its gradient.  The\n",
    "function to be optimized should be the negative of the log likelihood,\n",
    "because SCG is designed to minimize the function.  And the gradient\n",
    "function must also include this negative.  But with these negatives,\n",
    "SCG will work fine for optimizing the weights in a linear logistic\n",
    "regression classifier.\n"
   ]
  },
  {
   "cell_type": "markdown",
   "metadata": {},
   "source": [
    "Here are definitions of the log likehood and its gradient again.\n",
    "$$\n",
    "      \\begin{align*}\n",
    "      LL(\\wv) & = \\sum_{n=1}^N \\sum_{k=1}^K t_{n,k} \\log g_k(\\xv_n)\\\\\n",
    "      \\grad_{\\wv_j} LL(\\wv)  & = \\sum_{n=1}^N \\xv_n (t_{n,j} - g_j(\\xv_n))\n",
    "      \\end{align*}\n",
    "$$\n",
    "\n",
    "or, as matrices, and using the mean log likelihood,\n",
    "\n",
    "$$\n",
    "    \\begin{align*}\n",
    "    Y &= g(\\Xv)\\\\\n",
    "    LL(\\wv) & = \\text{np.mean}(T \\cdot \\log Y , \\text{axis}=0) \\\\\n",
    "      \\grad_{\\wv_j} LL(\\wv) & =  \\Xv^T (T - Y) \\;/\\; (N\\,K)\n",
    "    \\end{align*}\n",
    "$$"
   ]
  },
  {
   "cell_type": "code",
   "execution_count": 14,
   "metadata": {
    "collapsed": false
   },
   "outputs": [],
   "source": [
    "import scaledconjugategradient as scg\n",
    "\n",
    "def runParkLogReg2(filename, trainFraction):\n",
    "    f = open(filename,\"r\")\n",
    "    header = f.readline()\n",
    "    names = header.strip().split(',')[1:]\n",
    "\n",
    "    data = np.loadtxt(f ,delimiter=',', usecols=1+np.arange(23))\n",
    "\n",
    "    targetColumn = names.index(\"status\")\n",
    "    XColumns = np.arange(23)\n",
    "    XColumns = np.delete(XColumns, targetColumn)\n",
    "    X = data[:,XColumns]\n",
    "    T = data[:,targetColumn].reshape((-1,1)) # to keep 2-d matrix form\n",
    "    names.remove(\"status\")\n",
    "\n",
    "    healthyI,_ = np.where(T == 0)\n",
    "    parkI,_ = np.where(T == 1)\n",
    "    healthyI = np.random.permutation(healthyI)\n",
    "    parkI = np.random.permutation(parkI)\n",
    "\n",
    "    nHealthy = round(trainFraction*len(healthyI))\n",
    "    nPark = round(trainFraction*len(parkI))\n",
    "    rowsTrain = np.hstack((healthyI[:nHealthy], parkI[:nPark]))\n",
    "    Xtrain = X[rowsTrain,:]\n",
    "    Ttrain = T[rowsTrain,:]\n",
    "    rowsTest = np.hstack((healthyI[nHealthy:], parkI[nPark:]))\n",
    "    Xtest =  X[rowsTest,:]\n",
    "    Ttest =  T[rowsTest,:]\n",
    "\n",
    "    means,stds = np.mean(Xtrain,0), np.std(Xtrain,0)\n",
    "    Xtrains = standardize(Xtrain,means,stds)\n",
    "    Xtests = standardize(Xtest,means,stds)\n",
    "    \n",
    "    Xtrains1 = np.hstack(( np.ones((Xtrains.shape[0],1)), Xtrains))\n",
    "    Xtests1 = np.hstack(( np.ones((Xtests.shape[0],1)), Xtests))\n",
    "\n",
    "    # New stuff for linear logistic regression\n",
    "\n",
    "    TtrainI = makeIndicatorVars(Ttrain)\n",
    "    TtestI = makeIndicatorVars(Ttest)\n",
    "    K = TtrainI.shape[1]\n",
    "    \n",
    "    def loglikelihood(warg,K):\n",
    "        w = warg.reshape((-1,K))\n",
    "        Y = g(Xtrains1,w)\n",
    "        # print(w)\n",
    "        return - np.mean(TtrainI*np.log(Y))\n",
    "\n",
    "    def gradientloglikelihood(warg,K):\n",
    "        w = warg.reshape((-1,K))\n",
    "        # print('w',w)\n",
    "        N = Xtrains1.shape[0]\n",
    "        Y = g(Xtrains1,w)\n",
    "        # print('Y',Y[:10,:])\n",
    "        # print('Xtrains1',Xtrains1[:5,:])\n",
    "        # print('TtrainI',TtrainI[:5,:])\n",
    "        # print('dot',np.dot(Xtrains1.T,(Y-TtrainI)[:,:-1]))\n",
    "        # print('N',N,'K',K)\n",
    "        grad = np.dot(Xtrains1.T, Y-TtrainI) / (N * K)\n",
    "        return grad.reshape((-1))\n",
    "\n",
    "    w = np.zeros((Xtrains1.shape[1],TtrainI.shape[1]))\n",
    "    resultSCG = scg.scg(w.reshape((-1)), loglikelihood, gradientloglikelihood, K, nIterations=100, ftracep=True, verbose=False)\n",
    "    wresult = resultSCG['x']\n",
    "    w = wresult.reshape((-1,K))\n",
    "\n",
    "    logregOutput = g(Xtrains1,w)\n",
    "    predictedTrain = np.argmax(logregOutput,axis=1)\n",
    "    logregOutput = g(Xtests1,w)\n",
    "    predictedTest = np.argmax(logregOutput,axis=1)\n",
    "\n",
    "    print(\"LogReg SCG: Percent correct: Train {:.3g} Test {:.3g}\".format(percentCorrect(predictedTrain,Ttrain),percentCorrect(predictedTest,Ttest)))\n",
    "\n",
    "    # Previous QDA code\n",
    "    \n",
    "    Ttr = (Ttrain==0).reshape((-1))\n",
    "    mu1 = np.mean(Xtrains[Ttr,:],axis=0)\n",
    "    cov1 = np.cov(Xtrains[Ttr,:].T)\n",
    "    Ttr = (Ttrain.ravel()==1).reshape((-1))\n",
    "    mu2 = np.mean(Xtrains[Ttr,:],axis=0)\n",
    "    cov2 = np.cov(Xtrains[Ttr,:].T)\n",
    "\n",
    "    d1 = discQDA(Xtrains,means,stds,mu1,cov1,float(nHealthy)/(nHealthy+nPark))\n",
    "    d2 = discQDA(Xtrains,means,stds,mu2,cov2,float(nPark)/(nHealthy+nPark))\n",
    "    predictedTrain = np.argmax(np.hstack((d1,d2)),axis=1)\n",
    "\n",
    "    d1t = discQDA(Xtests,means,stds,mu1,cov1,float(nHealthy)/(nHealthy+nPark))\n",
    "    d2t = discQDA(Xtests,means,stds,mu2,cov2,float(nPark)/(nHealthy+nPark))\n",
    "    predictedTest = np.argmax(np.hstack((d1t,d2t)),axis=1)\n",
    "\n",
    "    print(\"   QDA: Percent correct: Train {:.3g} Test {:.3g}\".format(percentCorrect(predictedTrain,Ttrain),percentCorrect(predictedTest,Ttest)))"
   ]
  },
  {
   "cell_type": "code",
   "execution_count": 15,
   "metadata": {
    "collapsed": false
   },
   "outputs": [
    {
     "name": "stdout",
     "output_type": "stream",
     "text": [
      "LogReg SCG: Percent correct: Train 88.5 Test 92.3\n",
      "   QDA: Percent correct: Train 75.6 Test 74.4\n"
     ]
    }
   ],
   "source": [
    "runParkLogReg2('parkinsons.data',0.8)"
   ]
  },
  {
   "cell_type": "code",
   "execution_count": 16,
   "metadata": {
    "collapsed": false
   },
   "outputs": [
    {
     "name": "stdout",
     "output_type": "stream",
     "text": [
      "LogReg SCG: Percent correct: Train 89.1 Test 84.6\n",
      "   QDA: Percent correct: Train 75.6 Test 74.4\n"
     ]
    }
   ],
   "source": [
    "runParkLogReg2('parkinsons.data',0.8)"
   ]
  },
  {
   "cell_type": "code",
   "execution_count": null,
   "metadata": {
    "collapsed": true
   },
   "outputs": [],
   "source": []
  }
 ],
 "metadata": {
  "anaconda-cloud": {},
  "kernelspec": {
   "display_name": "Python [Root]",
   "language": "python",
   "name": "Python [Root]"
  },
  "language_info": {
   "codemirror_mode": {
    "name": "ipython",
    "version": 3
   },
   "file_extension": ".py",
   "mimetype": "text/x-python",
   "name": "python",
   "nbconvert_exporter": "python",
   "pygments_lexer": "ipython3",
   "version": "3.5.2"
  },
  "toc": {
   "nav_menu": {},
   "number_sections": true,
   "sideBar": true,
   "skip_h1_title": false,
   "toc_cell": false,
   "toc_position": {},
   "toc_section_display": "block",
   "toc_window_display": false
  }
 },
 "nbformat": 4,
 "nbformat_minor": 0
}
