{
 "cells": [
  {
   "cell_type": "markdown",
   "metadata": {},
   "source": [
    "# Negamax"
   ]
  },
  {
   "cell_type": "markdown",
   "metadata": {},
   "source": [
    "Last time we discussed the minimax search method for searching trees\n",
    "in adversarial games.  The alternating maximizing and minimizing steps\n",
    "can be replaced with the same maximizing step if we negate the values\n",
    "returned each time **and** the game is truly a zero-sum game with the\n",
    "utilty in terminal states for one player always being the negative of\n",
    "the utility for the other player.\n",
    "\n",
    "Here is an illustration of Negamax applied to Tic-Tac-Toe."
   ]
  },
  {
   "cell_type": "code",
   "execution_count": 10,
   "metadata": {},
   "outputs": [
    {
     "data": {
      "text/html": [
       "\n",
       "        <iframe\n",
       "            width=\"800\"\n",
       "            height=\"600\"\n",
       "            src=\"http://www.cs.colostate.edu/~anderson/cs440/notebooks/negamax.pdf\"\n",
       "            frameborder=\"0\"\n",
       "            allowfullscreen\n",
       "        ></iframe>\n",
       "        "
      ],
      "text/plain": [
       "<IPython.lib.display.IFrame at 0x7f71b0445ba8>"
      ]
     },
     "execution_count": 10,
     "metadata": {},
     "output_type": "execute_result"
    }
   ],
   "source": [
    "from IPython.display import IFrame\n",
    "IFrame(\"http://www.cs.colostate.edu/~anderson/cs440/notebooks/negamax.pdf\", width=800, height=600)"
   ]
  },
  {
   "cell_type": "markdown",
   "metadata": {},
   "source": [
    "Here is a python implementation."
   ]
  },
  {
   "cell_type": "code",
   "execution_count": 19,
   "metadata": {},
   "outputs": [],
   "source": [
    "### Assumes that the argument 'game' is an object with the following methods\n",
    "# game.getMoves()\n",
    "# game.makeMove(move)    changes lookahead player\n",
    "# game.unmakeMove(move)  changes lookahead player\n",
    "# game.changePlayer()    changes next turn player\n",
    "# game.getUtility()\n",
    "# game.isOver()\n",
    "# game.__str__()\n",
    "\n",
    "inf = float('infinity')\n",
    "\n",
    "def negamax(game, depthLeft):\n",
    "    if debug:\n",
    "        print('   '*(10-depthLeft), game, end='')\n",
    "    # If at terminal state or depth limit, return utility value and move None\n",
    "    if game.isOver() or depthLeft == 0:\n",
    "        if debug:\n",
    "            print('terminal value', game.getUtility())\n",
    "        return game.getUtility(), None\n",
    "    if debug:\n",
    "        print\n",
    "    # Find best move and its value from current state\n",
    "    bestValue = -inf\n",
    "    bestMove = None\n",
    "    for move in game.getMoves():\n",
    "        # Apply a move to current state\n",
    "        game.makeMove(move)\n",
    "        # print('trying',game)\n",
    "        # Use depth-first search to find eventual utility value and back it up.\n",
    "        #  Negate it because it will come back in context of next player\n",
    "        value, _ = negamax(game, depthLeft-1)\n",
    "        value = - value\n",
    "        # Remove the move from current state, to prepare for trying a different move\n",
    "        game.unmakeMove(move)\n",
    "        if debug:\n",
    "            print('   '*(10-depthLeft), game, \"move\", move,\n",
    "                  \"backed up value\", value)\n",
    "        if value > bestValue:\n",
    "            # Value for this move is better than moves tried so far from this state.\n",
    "            bestValue = value\n",
    "            bestMove = move\n",
    "            if debug:\n",
    "                print(\"new best\")\n",
    "        else:\n",
    "            if debug:\n",
    "                print\n",
    "    return bestValue, bestMove"
   ]
  },
  {
   "cell_type": "markdown",
   "metadata": {},
   "source": [
    "And we can apply `negamax` to Tic-Tac-Toe using the following\n",
    "`game` class definition."
   ]
  },
  {
   "cell_type": "code",
   "execution_count": 20,
   "metadata": {
    "collapsed": true
   },
   "outputs": [],
   "source": [
    "class TTT(object):\n",
    "\n",
    "    def __init__(self):\n",
    "        self.board = [' ']*9\n",
    "        self.player = 'X'\n",
    "        if False:\n",
    "            self.board = ['X', 'X', ' ', 'X', 'O', 'O', ' ', ' ', ' ']\n",
    "            self.player = 'O'\n",
    "        self.playerLookAHead = self.player\n",
    "\n",
    "    def locations(self, c):\n",
    "        return [i for i, mark in enumerate(self.board) if mark == c]\n",
    "\n",
    "    def getMoves(self):\n",
    "        moves = self.locations(' ')\n",
    "        return moves\n",
    "\n",
    "    def getUtility(self):\n",
    "        whereX = self.locations('X')\n",
    "        whereO = self.locations('O')\n",
    "        wins = [[0, 1, 2], [3, 4, 5], [6, 7, 8],\n",
    "                [0, 3, 6], [1, 4, 7], [2, 5, 8],\n",
    "                [0, 4, 8], [2, 4, 6]]\n",
    "        isXWon = any([all([wi in whereX for wi in w]) for w in wins])\n",
    "        isOWon = any([all([wi in whereO for wi in w]) for w in wins])\n",
    "        if isXWon:\n",
    "            return 1 if self.playerLookAHead is 'X' else -1\n",
    "        elif isOWon:\n",
    "            return 1 if self.playerLookAHead is 'O' else -1\n",
    "        elif ' ' not in self.board:\n",
    "            return 0\n",
    "        else:\n",
    "            return None\n",
    "\n",
    "    def isOver(self):\n",
    "        return self.getUtility() is not None\n",
    "\n",
    "    def makeMove(self, move):\n",
    "        self.board[move] = self.playerLookAHead\n",
    "        self.playerLookAHead = 'X' if self.playerLookAHead == 'O' else 'O'\n",
    "\n",
    "    def changePlayer(self):\n",
    "        self.player = 'X' if self.player == 'O' else 'O'\n",
    "        self.playerLookAHead = self.player\n",
    "\n",
    "    def unmakeMove(self, move):\n",
    "        self.board[move] = ' '\n",
    "        self.playerLookAHead = 'X' if self.playerLookAHead == 'O' else 'O'\n",
    "\n",
    "    def __str__(self):\n",
    "        s = '{}|{}|{}\\n-----\\n{}|{}|{}\\n-----\\n{}|{}|{}'.format(*self.board)\n",
    "        return s"
   ]
  },
  {
   "cell_type": "markdown",
   "metadata": {},
   "source": [
    "Now, let's try an example."
   ]
  },
  {
   "cell_type": "code",
   "execution_count": 21,
   "metadata": {
    "collapsed": true
   },
   "outputs": [],
   "source": [
    "def playGameNegamax(game):\n",
    "    print(game)\n",
    "    while not game.isOver():\n",
    "        value, move = negamax(game, 9)\n",
    "        if move is None:\n",
    "            print('move is None. Stopping')\n",
    "            break\n",
    "        game.makeMove(move)\n",
    "        print(\"\\nPlayer\", game.player, \"to\", move, \"for value\", value)\n",
    "        print(game)\n",
    "        game.changePlayer()"
   ]
  },
  {
   "cell_type": "code",
   "execution_count": 22,
   "metadata": {},
   "outputs": [
    {
     "name": "stdout",
     "output_type": "stream",
     "text": [
      " | | \n",
      "-----\n",
      " | | \n",
      "-----\n",
      " | | \n",
      "\n",
      "Player X to 0 for value 0\n",
      "X| | \n",
      "-----\n",
      " | | \n",
      "-----\n",
      " | | \n",
      "\n",
      "Player O to 4 for value 0\n",
      "X| | \n",
      "-----\n",
      " |O| \n",
      "-----\n",
      " | | \n",
      "\n",
      "Player X to 1 for value 0\n",
      "X|X| \n",
      "-----\n",
      " |O| \n",
      "-----\n",
      " | | \n",
      "\n",
      "Player O to 2 for value 0\n",
      "X|X|O\n",
      "-----\n",
      " |O| \n",
      "-----\n",
      " | | \n",
      "\n",
      "Player X to 6 for value 0\n",
      "X|X|O\n",
      "-----\n",
      " |O| \n",
      "-----\n",
      "X| | \n",
      "\n",
      "Player O to 3 for value 0\n",
      "X|X|O\n",
      "-----\n",
      "O|O| \n",
      "-----\n",
      "X| | \n",
      "\n",
      "Player X to 5 for value 0\n",
      "X|X|O\n",
      "-----\n",
      "O|O|X\n",
      "-----\n",
      "X| | \n",
      "\n",
      "Player O to 7 for value 0\n",
      "X|X|O\n",
      "-----\n",
      "O|O|X\n",
      "-----\n",
      "X|O| \n",
      "\n",
      "Player X to 8 for value 0\n",
      "X|X|O\n",
      "-----\n",
      "O|O|X\n",
      "-----\n",
      "X|O|X\n"
     ]
    }
   ],
   "source": [
    "debug = False\n",
    "playGameNegamax(TTT())"
   ]
  },
  {
   "cell_type": "markdown",
   "metadata": {},
   "source": [
    "## Negamax with Alpha-Beta Pruning"
   ]
  },
  {
   "cell_type": "markdown",
   "metadata": {},
   "source": [
    "For a negamax version, the meanings of *alpha* and *beta* must be swapped as players alternate, and their values must be negated."
   ]
  },
  {
   "cell_type": "code",
   "execution_count": 23,
   "metadata": {},
   "outputs": [
    {
     "data": {
      "text/html": [
       "\n",
       "        <iframe\n",
       "            width=\"800\"\n",
       "            height=\"600\"\n",
       "            src=\"http://www.cs.colostate.edu/~anderson/cs440/notebooks/negamax2.pdf\"\n",
       "            frameborder=\"0\"\n",
       "            allowfullscreen\n",
       "        ></iframe>\n",
       "        "
      ],
      "text/plain": [
       "<IPython.lib.display.IFrame at 0x7f71b0445978>"
      ]
     },
     "execution_count": 23,
     "metadata": {},
     "output_type": "execute_result"
    }
   ],
   "source": [
    "IFrame(\"http://www.cs.colostate.edu/~anderson/cs440/notebooks/negamax2.pdf\", width=800, height=600)"
   ]
  },
  {
   "cell_type": "markdown",
   "metadata": {},
   "source": [
    "Modify Negamax to perform alpha-beta cutoffs by making these changes:\n",
    "\n",
    "  * Two new arguments, *alpha* and *beta*, whose initial values are $-\\infty$ and $\\infty$. \n",
    "  * In the for loop for trying moves, negate and swap the values of *alpha* and *beta*, and the returned value from recursive calls must be negated.\n",
    "  * Do early return if *bestScore* is greater than or equal to *beta*.\n",
    "  * Update *alpha* to maximum of *bestScore* and current *alpha*."
   ]
  },
  {
   "cell_type": "markdown",
   "metadata": {},
   "source": [
    "# What if you cannot search to end of game?\n",
    "\n",
    "Apply an **evaluation function** to non-terminal states.  It must\n",
    "*estimate* the expected utility (function applied to terminal states\n",
    "only) of the game from the current position.  \n",
    "\n",
    "A good evaluation function\n",
    "  * orders the terminal states in the same way as the utility function,\n",
    "  * cannot take too much execution time (can't search the whole remaining tree!),\n",
    "  * should be strongly correlated with actual expected utility.\n",
    "\n",
    "An evaluation function is often a simple function of **features** of\n",
    "the current game position.  Choice of good features is key.  Requires\n",
    "considerable knowledge of the game and of good strategies.\n",
    "\n",
    "A strict cutoff of search at a specific depth with the evaluation\n",
    "function applied there, can lead to problems.  What if the advantage\n",
    "in the game swings quickly just after the cutoff?  If a state can be\n",
    "judged this way, then additional search such be performed for that\n",
    "state (a non-**quiescent** state).\n",
    "\n",
    "Current methods allow computers to search about 14 plies in chess."
   ]
  }
 ],
 "metadata": {
  "anaconda-cloud": {},
  "kernelspec": {
   "display_name": "Python [conda root]",
   "language": "python",
   "name": "conda-root-py"
  },
  "language_info": {
   "codemirror_mode": {
    "name": "ipython",
    "version": 3
   },
   "file_extension": ".py",
   "mimetype": "text/x-python",
   "name": "python",
   "nbconvert_exporter": "python",
   "pygments_lexer": "ipython3",
   "version": "3.5.3"
  }
 },
 "nbformat": 4,
 "nbformat_minor": 1
}
