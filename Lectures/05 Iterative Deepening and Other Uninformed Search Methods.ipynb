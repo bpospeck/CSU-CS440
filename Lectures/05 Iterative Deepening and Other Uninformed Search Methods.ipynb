{
 "cells": [
  {
   "cell_type": "markdown",
   "metadata": {},
   "source": [
    "# Depth-Limited Search"
   ]
  },
  {
   "cell_type": "markdown",
   "metadata": {},
   "source": [
    "Depth-first search will not find a goal if it searches down a path\n",
    "that has infinite length.  So, in general, depth-first search is not\n",
    "guaranteed to find a solution, so it is not complete.  \n",
    "\n",
    "This problem is eliminated by limiting the depth of the search to some\n",
    "value $l$.  However, this introduces another way of preventing depth-first\n",
    "search from finding the goal. If the goal is deeper than $l$ it will\n",
    "not be found.\n",
    "\n",
    "How would you make an intelligent guess for $l$ for a given search\n",
    "problem?\n",
    "\n",
    "Its time complexity is $O(b^l)$ and its space complexity is $O(bl)$.\n",
    "What would the space complexity be of the backtracking version of\n",
    "this search?\n",
    "\n",
    "Regular depth-first search is a special case, for which $l=\\infty$."
   ]
  },
  {
   "cell_type": "markdown",
   "metadata": {},
   "source": [
    "# Iterative-Deepening Search"
   ]
  },
  {
   "cell_type": "markdown",
   "metadata": {},
   "source": [
    "If a depth-limited depth-first search limited to depth $l$ does not find the goal,\n",
    "try it again with limit at $l+1$.  Continue this until goal is found.\n",
    "\n",
    "Make depth-limited depth-first search complete by repeatedly applying\n",
    "it with greater values for the depth limit $l$.\n",
    "\n",
    "Feels like breadth-first search, in that a level is fully explored\n",
    "before extending the search to the next level.  But, unlike\n",
    "breadth-first search, after one level is fully explored, all nodes\n",
    "already expanded are thrown away and the search starts with a clear\n",
    "memory.  \n",
    "\n",
    "Seems very wasteful!  Is it really?  How many nodes are generated\n",
    "at the final level $d$?\n",
    "\n",
    "$$b^d$$\n",
    "\n",
    "How many nodes are expanded in\n",
    "the tree on your way to the final level, down to depth $d-1$? \n",
    "\n",
    "$$b + b^2 + \\cdots + b^{d-1} = O(b^{d-1})$$\n",
    "\n",
    "How much of a waste is it to throw away those $O(b^{d-1})$ nodes?\n",
    "Say $b=10$ and $d=5$.  We are throwing away on the order of $10^4 =\n",
    "1,000$ nodes, regenerating them and then generating $b^d = 10^5 =\n",
    "10,000$ new nodes.  Regenerating those 1,000 nodes seems trivial\n",
    "compared to making the 10,000 new ones.\n",
    "\n",
    "Our textbook authors say:\n",
    "\n",
    "> \"In general, iterative deepening is the preferred uninformed search method when the search space is large and the depth of the solution is not known.\"\n",
    "\n",
    "Watch this [short video by Richard Korf](http://www.youtube.com/watch?v=EnX8cQPiB1M), one of the developers of iterative deepening."
   ]
  },
  {
   "cell_type": "markdown",
   "metadata": {},
   "source": [
    "# Recursive definition"
   ]
  },
  {
   "cell_type": "markdown",
   "metadata": {},
   "source": [
    "Let's discuss the recursive implementation in Figures 3.17 (with\n",
    "Figure 3.18).  Rather than the explicit storage of expanded nodes in a\n",
    "python dictionary named `expanded`, we can rely on the local\n",
    "variables implicitly stored in the function call\n",
    "stack.  \n",
    "\n",
    "First, define the recursive depth-limited search function that\n",
    "generates the children of a node and calls itself recursively on each\n",
    "of the child nodes.  Let's define it as a mix of python and English.\n",
    "Let `node` represent the combination of a state and its parent node.\n",
    "Let `takeActionF` be a function that generates one new state given a\n",
    "current state and a valid action from that state.  Also let\n",
    "`actionsF` be a function that returns a list of valid actions from a\n",
    "given state."
   ]
  },
  {
   "cell_type": "code",
   "execution_count": null,
   "metadata": {
    "collapsed": true
   },
   "outputs": [],
   "source": [
    "def depthLimitedSearch(state, goalState, actionsF, takeActionF, depthLimit):\n",
    "    If state == goalState, then\n",
    "        return []\n",
    "    If depthLimit is 0, then\n",
    "        Return the string 'cutoff' to signal that the depth limit was reached\n",
    "    cutoffOccurred = False\n",
    "    For each action in actionsF(state):\n",
    "        childState = takeActionF(state, action)\n",
    "        result = depthLimitedSearch(childState, goalState, actionsF, takeActionF, depthLimit-1)\n",
    "        If result is 'cutoff', then\n",
    "            cutoffOccurred = True\n",
    "        else if result is not 'failure' then\n",
    "            Add childState to front of partial solution path, in result, returned by depthLimitedSearch\n",
    "            return result\n",
    "    If cutoffOccurred, then\n",
    "        return 'cutoff'\n",
    "    else\n",
    "        return 'failure'"
   ]
  },
  {
   "cell_type": "code",
   "execution_count": null,
   "metadata": {
    "collapsed": true
   },
   "outputs": [],
   "source": [
    "def iterativeDeepeningSearch(startState, goalState, actionsF, takeActionF, maxDepth):\n",
    "    for depth in range(maxDepth):\n",
    "        result = depthLimitedSearch(startState, goalState, actionsF, takeActionF, depth)\n",
    "        if result is 'failure':\n",
    "            return 'failure'\n",
    "        if result is not 'cutoff', then\n",
    "            Add startState to front of solution path, in result, returned by depthLimitedSearch       \n",
    "            return result\n",
    "    return 'cutoff'"
   ]
  },
  {
   "cell_type": "markdown",
   "metadata": {},
   "source": [
    "# Bidirectional Search"
   ]
  },
  {
   "cell_type": "markdown",
   "metadata": {},
   "source": [
    "If, and this is a big if, every action in a search problem has a known\n",
    "inverse action allowing search to go backwards, then an $O(b^d)$\n",
    "search can be reduced to two $O(b^{d/2})$ searches by iteratively, or\n",
    "simultaneously in parallel, searching forward from the start state and\n",
    "searching backwards from the goal state.  This also assumes there is\n",
    "one goal state, or a finite number of goal states."
   ]
  },
  {
   "cell_type": "markdown",
   "metadata": {},
   "source": [
    "# Uninformed Search Summary"
   ]
  },
  {
   "cell_type": "markdown",
   "metadata": {},
   "source": [
    "|  Criterion  |  Breadth-First  |  Depth-First  |  Depth-Limited  |  Iterative-Deepening  |  Bidirectional  \n",
    "| :-: | :-: | :-: | :-: | :-: | :-:\n",
    "|  Complete?  |  Yes  |  No  |  No  |  Yes  |  Yes  |\n",
    "|  Optimal?  |  Yes  |  No  |  No  |  Yes  |  Yes  |\n",
    "|  Time  |  $O(b^d)$  |  $O(b^m)$  |  $O(b^l)$  |  $O(b^d)$  |  $O(b^{d/2})$  |\n",
    "|  Space  |  $O(b^d)$  |  $O(bm)$  |  $O(bl)$  |  $O(bd)$  |  $O(b^{d/2})$  |\n"
   ]
  }
 ],
 "metadata": {
  "anaconda-cloud": {},
  "kernelspec": {
   "display_name": "Python [Root]",
   "language": "python",
   "name": "Python [Root]"
  },
  "language_info": {
   "codemirror_mode": {
    "name": "ipython",
    "version": 3
   },
   "file_extension": ".py",
   "mimetype": "text/x-python",
   "name": "python",
   "nbconvert_exporter": "python",
   "pygments_lexer": "ipython3",
   "version": "3.5.2"
  }
 },
 "nbformat": 4,
 "nbformat_minor": 1
}
