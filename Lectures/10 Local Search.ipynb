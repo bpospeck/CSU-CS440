{
 "cells": [
  {
   "cell_type": "markdown",
   "metadata": {},
   "source": [
    "# Local Search in Discrete State and Action Spaces\n",
    "\n",
    "For some search problems, the path to reach the goal is not\n",
    "important.  Discovering a goal state or a state with the best value of\n",
    "some objective function is the important part.  Such problems are\n",
    "often called **optimization problems**.\n",
    "\n",
    "What are some examples?\n",
    "\n",
    "What is the best setting for a control on your stove to cook your soup\n",
    "as quickly as possible without burning it? \n",
    "\n",
    "What is the best way to pack the words of a word cloud, or a [wordle](http://www.wordle.net|wordle)?  See an answer [here](https://stackoverflow.com/questions/342687/algorithm-to-implement-a-word-cloud-like-wordle).\n",
    "\n",
    "What is the best way to divide up the computations of a matrix\n",
    "calculation to be distributed across multiple cores?"
   ]
  },
  {
   "cell_type": "markdown",
   "metadata": {},
   "source": [
    "**Local search** algorithms operate by maintaining a single state (or\n",
    "set of pretty good states) and generating another state to try based\n",
    "on this limited memory.  Some set of actions are available to modify a\n",
    "state to another \"neighboring\" state.  It is a \"neighbor\" state in an\n",
    "abstract graph of states connected by single actions.\n",
    "\n",
    "Imagine all of the possible states for a problem laid out along a\n",
    "line, along an x-axis.  The value of the objective function can be\n",
    "plotted as a height above the points on the x-axis.  A local search\n",
    "algorithm tries to find the state with the best height, where best\n",
    "could be the maximal or minimal value depending on the search\n",
    "problem.  The best value over all states is the **global optimum** (a\n",
    "minimum or a maximum depending on the problem).\n",
    "\n",
    "A local search algorithm is **complete** if it always finds a goal\n",
    "state.  It is **optimal** if it always finds the optimum state, the\n",
    "one with the global maximum or minimum."
   ]
  },
  {
   "cell_type": "markdown",
   "metadata": {},
   "source": [
    "# Hill-Climbing Search"
   ]
  },
  {
   "cell_type": "markdown",
   "metadata": {},
   "source": [
    "This is our first example of a local search algorithm.  Imagine you\n",
    "are climbing a mountain and you are in a very thick fog.  You can only\n",
    "see a distance equal to one step length.  To try to climb you take the\n",
    "step in the direction that is steepest to get to the highest\n",
    "point of all the locations you can currently see.\n",
    "\n",
    "In other words, hill-climbing search simply evaluates the objective\n",
    "function for all states that are neighbors to the current state, and\n",
    "takes the neighbor state with the best objective function value as the\n",
    "new current state.  If there are more than one next best states, one\n",
    "is picked randomly.\n",
    "\n",
    "Hill-climbing search is sometimes called **greedy search**, because a\n",
    "step is taken after only considering the immediate neighbors.  No time\n",
    "is spent considering possible future states.\n",
    "\n",
    "Hill-climbing is easy to formulate and implement and often finds\n",
    "pretty good states quickly.  But, it has the following problems:\n",
    "\n",
    "  * it gets stuck on local optima (hills for maximizing searches, valleys for minimizing searches,\n",
    "  * it may get stuck on a ridge, if no single action can advance the search along the ridge,\n",
    "  * it may get stuck wandering on a plateau for which all neighboring states have equal value.\n",
    "\n",
    "Common variations include\n",
    "  * allow sideways moves (when on a plateau)\n",
    "  * stochastic hill-climbing: choose next state with probability related to increase in value of objective function\n",
    "  * first-choice hill-climbing: generate neighbors by random choice of available actions and keep first state that has better value,\n",
    "  * random-restart hill climbing: conduct multiple hill-climbing searches from multiple, randomly generated, initial states.\n",
    "\n",
    "Only this last one, with random-restarts, is **complete**.  In the limit, all states will be tried as starting states so the goal, or best state, will eventually be found."
   ]
  },
  {
   "cell_type": "markdown",
   "metadata": {},
   "source": [
    "# The Eight-Queens Problem"
   ]
  },
  {
   "cell_type": "markdown",
   "metadata": {},
   "source": [
    "Place eight queens on a chess board so that no queen is attacking\n",
    "another.  Each queen must be in one of the 8 columns, so each queen\n",
    "can be placed in one of the 8 rows, for a total of $8^8 \\approx 17$\n",
    "million states.  Actions are moving a single queen to a different row\n",
    "in the same column.  The objective function is the number of pairs of\n",
    "queens attacking each other.  This function is to be minimized, of\n",
    "course."
   ]
  },
  {
   "cell_type": "markdown",
   "metadata": {},
   "source": [
    "Hill-climbing search as described only finds solutions 14% of the time, but solves those instances quickly, in an average of 4 steps.  When it gets stuck this is discovered in an average of 3 steps.\n",
    "\n",
    "|  Hill-climbing Variations  |  Percent Solved  |  Steps to Find Solution  |  Steps to Know Failure  |\n",
    "| :--: |:--: |:--: |:--: |\n",
    "|   basic |  14%  |  4  |  3  |\n",
    "|  with sideways moves |  94%  |  21  |  64  |\n",
    "|  with restarts |  100%  |  22  |   |\n",
    "|  with sidways moves and restarts |  100%  |  28  |  |"
   ]
  },
  {
   "cell_type": "markdown",
   "metadata": {},
   "source": [
    "# Hard Problems\n",
    "\n",
    "Hard ones for hill-climbing are ones with many local optima. NP-hard problems often have an exponential number of local optima, but states with pretty good value can often be found with a small number of restarts."
   ]
  },
  {
   "cell_type": "markdown",
   "metadata": {},
   "source": [
    "# Simulated Annealing\n",
    "\n",
    "Hill-climbing searches will get stuck on local optima.  Only by adding\n",
    "random restarts can you have a hill-climbing algorithm that is\n",
    "complete.\n",
    "\n",
    "To get off of a local optimum, a search must be defined to allow steps\n",
    "that are \"downhill\" for maximizing searches, and \"uphill\" for\n",
    "minimizing searches, away from the optimum.  \n",
    "\n",
    "**Simulated annealing**\n",
    "is an algorithm that does this probabilisitically.  Assume we are\n",
    "doing a maximizing search, meaning we want to find the state with the\n",
    "maximum value.  Let the value of\n",
    "the current state be $v$.  Imagine an action has been applied to that\n",
    "state and the resulting state has a lower (worse) value $v'$.  Simulated\n",
    "annealing will accept this new state as the current state with\n",
    "probability $e^{(v' - v)/T}$.  $T$ is like a \"temperature\", the higher\n",
    "the value the more likely we are to take a step to a state with a\n",
    "worse value. In practice, $T$ starts at a high value and is slowly\n",
    "decreased towards zero.  If it is decreased \"slowly enough\", the\n",
    "global optimum will be found with probabilty 1.  In other words, this is a\n",
    "**complete** algorithm."
   ]
  },
  {
   "cell_type": "code",
   "execution_count": 4,
   "metadata": {},
   "outputs": [
    {
     "data": {
      "text/plain": [
       "<matplotlib.legend.Legend at 0x7f751217f128>"
      ]
     },
     "execution_count": 4,
     "metadata": {},
     "output_type": "execute_result"
    },
    {
     "data": {
      "image/png": "[encoded data removed]",
      "text/plain": [
       "<matplotlib.figure.Figure at 0x7f75120e3f98>"
      ]
     },
     "metadata": {},
     "output_type": "display_data"
    }
   ],
   "source": [
    "import numpy as np\n",
    "import matplotlib.pyplot as plt\n",
    "\n",
    "def probOfAcceptance(dE, T):\n",
    "    r = np.exp(dE/T)\n",
    "    r[r>1] = 1.0\n",
    "    return r\n",
    "    \n",
    "dE = np.linspace(-5, 5, num=100)\n",
    "\n",
    "plt.figure(figsize=(10,7))\n",
    "plt.clf()\n",
    "legendText = []\n",
    "for T in [0.1, 1, 10, 100]:\n",
    "    plt.plot(dE, probOfAcceptance(dE,T), 'o-')\n",
    "    legendText.append('Temperature = {:1f}'.format(T))\n",
    "plt.xlabel('New Value - Current Value')\n",
    "plt.ylabel('Probability of Accepting New State')\n",
    "plt.legend(legendText,loc='lower right')"
   ]
  },
  {
   "cell_type": "markdown",
   "metadata": {},
   "source": [
    "# Local Beam Search\n",
    "\n",
    "The above searches keep just one state in memory.  **Local beam\n",
    "search** keeps the best $k$ states in memory.  The successors of all\n",
    "$k$ states are generated, and the best $k$ among them are kept.\n",
    "\n",
    "A variant is **stochastic beam search** that selects the $k$ states to\n",
    "keep as a probabilistic function of their values.  This search tends\n",
    "to maintain more diversity in the set of kept $k$ states on each\n",
    "iteration."
   ]
  },
  {
   "cell_type": "markdown",
   "metadata": {},
   "source": [
    "# Genetic Algorithms\n",
    "\n",
    "**Genetic algorithms** are a lot like stochastic beam search.  A set\n",
    "of $k$ states are kept.  The difference is in how successor states are\n",
    "generated.  \n",
    "\n",
    "Genetic algorithms generate successor states by combining parts of\n",
    "good states to make new ones (the **crossover** operator) and by\n",
    "randomly modifying parts (the **mutation** operator).  Then the values\n",
    "of the new ones are used to select the best to keep for the next\n",
    "iteration, or generation.\n",
    "\n",
    "Many variations on representations of states as strings of symbols,\n",
    "operators, and on ways of selecting winners for the next generation."
   ]
  },
  {
   "cell_type": "markdown",
   "metadata": {},
   "source": [
    "# Local Search in Continuous State and Action Spaces"
   ]
  },
  {
   "cell_type": "markdown",
   "metadata": {},
   "source": [
    "## Without Derivatives of Value Function"
   ]
  },
  {
   "cell_type": "markdown",
   "metadata": {},
   "source": [
    "### Binary Search"
   ]
  },
  {
   "cell_type": "markdown",
   "metadata": {},
   "source": [
    "A monotonic function of  a single variable can be optimized using\n",
    "binary search.\n",
    "\n",
    "<img src=\"http://www.cs.colostate.edu/~anderson/cs440/notebooks/binarysearch.png\" width=600>\n",
    "\n",
    "Here is a useful application of binary search. "
   ]
  },
  {
   "cell_type": "markdown",
   "metadata": {},
   "source": [
    "### Effective Branching Factor"
   ]
  },
  {
   "cell_type": "markdown",
   "metadata": {},
   "source": [
    "How can we compare the efficiency of different search algorithms, or of\n",
    "the A\\* algorithm using different heuristic functions?  We can use the\n",
    "computation time and the maximum amount of memory used during the\n",
    "search.  \n",
    "\n",
    "It would also be nice to know how \"focused\" a search is.  If we use a\n",
    "perfect heuristic function, we should get a search that won't explore\n",
    "any nodes that do not lie on an optimal search path.\n",
    "\n",
    "A measure related to this is the \"effective branching factor\".  The\n",
    "branching factor of a tree is the number of children at each node.  If\n",
    "this is not the same for all nodes, then we can find an average, or\n",
    "\"effective\" branching factor.  \n",
    "\n",
    "If we do a breadth-first (or depth-first) search on a tree like this\n",
    "\n",
    "<img src=\"http://www.cs.colostate.edu/~anderson/cs440/notebooks/ebf.png\">\n",
    "\n",
    "we will have explored 1 + 3 + 6 = 10 nodes.  What is the effective\n",
    "branching factor for this tree?  Or, stated mathematically, what is\n",
    "the value of $b$ in\n",
    "\n",
    "  $$ 1 + b + b^2 = 10$$\n",
    "\n",
    "Now we can solve this for $b$.  What should the value be, roughly?\n",
    "Solve it exactly.  What do you get?"
   ]
  },
  {
   "cell_type": "markdown",
   "metadata": {},
   "source": [
    "We can solve this one exactly, but what if the search is 10 levels\n",
    "deep?  We will have to do a search (yay!) to find the value of $b$.\n",
    "How?  Could pick a whole bunch of values randomly.....\n",
    "\n",
    "How about a binary search?  To start a binary search we need to pick a\n",
    "low and high value of $b$ that we know bracket the true value.  For a\n",
    "search that explored $n$ nodes to a maximum depth of $d$, what would\n",
    "good low and high values be?  Now do a binary search between these two\n",
    "values and for each new guess at $b$, calculate\n",
    "\n",
    "$$  1 + b + b^2 + \\cdots + b^d$$\n",
    "\n",
    "and compare the result with the actual number of nodes, $n$.  Use the\n",
    "comparison to continue the binary search.  Continue until the range of\n",
    "possible values of $b$ are within a desired precision, such as $0.01$.  A faster way\n",
    "to calculate the above quantity is\n",
    "\n",
    " $$ \\frac{1-b^{d+1}}{1-b}$$\n",
    "\n",
    "How would you derive this?\n",
    "\n",
    "To estimate the effective branching factor, you could define a\n",
    "function `def ebf(numberNodes, depth, precision=0.01)`. Then, to use it\n",
    "\n",
    "\n",
    "    In [3]: ebf(100, 12, 0.01)\n",
    "    Out[3]: 1.3034343719482422\n",
    "\n",
    "    In [4]: ebf(0, 0)\n",
    "    Out[4]: 0\n",
    "\n",
    "    In [5]: ebf(1, 1,)\n",
    "    Out[5]: 0.0078125"
   ]
  },
  {
   "cell_type": "markdown",
   "metadata": {},
   "source": [
    "### Run and Twiddle\n",
    "\n",
    "Take a step in a random direction from current state.  If value is\n",
    "higher, keep going in that direction.  If value is lower, pick a new\n",
    "random direction.  The \"smallest\" implementation of this algorithm is\n",
    "found in [bacteria](http://www.pnas.org/content/99/1/7.full)."
   ]
  },
  {
   "cell_type": "markdown",
   "metadata": {},
   "source": [
    "### Nelder-Mead Simplex Algorithm \n",
    "\n",
    "This is not in our text.  See the\n",
    "[Scholarpedia\n",
    "entry for Nelder-Mead](http://www.scholarpedia.org/article/Nelder-Mead_algorithm).  This maintains a set of $k$ good states.  To\n",
    "generate one next state to evaluate, the worst of the $k$ states is\n",
    "reflected through the centroid, or mean, of the $k$ states.  If the\n",
    "new state is better than the worst of the $k$ states, it replaces the\n",
    "worst state.\n",
    "\n",
    "Also see the [Python\n",
    "documentation for fmin function in scipy](https://docs.scipy.org/doc/scipy/reference/generated/scipy.optimize.fmin.html)."
   ]
  },
  {
   "cell_type": "markdown",
   "metadata": {},
   "source": [
    "### CMA-ES \n",
    "\n",
    "Stands for [Covariance\n",
    "Matrix Adaptation Evolution Strategy](http://www.lri.fr/~hansen/cmaesintro.html).  A Gaussian distribution is\n",
    "fit to the set of good states and a new state is generated by sampling\n",
    "probabilistically from the Gaussian distribution.  The Gaussian\n",
    "distribution is updated when a new good state is found.\n",
    "[Recent\n",
    "results show](http://hal.archives-ouvertes.fr/docs/00/17/32/07/PDF/geccodcma.pdf) show that certain quasi-random methods are\n",
    "computationally more efficient."
   ]
  },
  {
   "cell_type": "markdown",
   "metadata": {},
   "source": [
    "## With Derivatives of Value Function\n",
    "\n",
    "When the  derivative of the value function with respect to each\n",
    "component of the state can be calculated, then many derivative-based\n",
    "searches are available.  If you know the slope at the current state,\n",
    "you know which direction to go.  If you also know the second\n",
    "derivative, you can make some intelligent guesses at how far to go.\n",
    "\n",
    "If the state has multiple components, almost always the case, the\n",
    "derivatives are gradients, and the second derivatives are Hessian\n",
    "matrices."
   ]
  },
  {
   "cell_type": "code",
   "execution_count": 9,
   "metadata": {},
   "outputs": [
    {
     "data": {
      "image/png": "[encoded data removed]",
      "text/plain": [
       "<matplotlib.figure.Figure at 0x7f7511b21d68>"
      ]
     },
     "metadata": {},
     "output_type": "display_data"
    }
   ],
   "source": [
    "import time\n",
    "import IPython.display as ipd  # for display and clear_output\n",
    "\n",
    "def f(x):\n",
    "    return 2 * x**4 + 3 * x**3 + 3\n",
    "\n",
    "def df(x): \n",
    "    return 8 * x**3 + 9 * x**2\n",
    "\n",
    "def ddf(x):\n",
    "    return 24 * x**2 + 18*x\n",
    "\n",
    "x = -2  # our initial guess\n",
    "def taylorf(x,dx):\n",
    "    return f(x) + df(x) * dx + 0.5 * ddf(x) * dx**2\n",
    "\n",
    "x = -2  # first guess at minimum\n",
    "\n",
    "xs = np.linspace(-2,1,num=100)\n",
    "\n",
    "fig = plt.figure()\n",
    "\n",
    "dxs = np.linspace(-0.5,0.5,num=100)\n",
    "\n",
    "for rep in range(10):\n",
    "    time.sleep(2) # sleep 2 seconds\n",
    "    plt.clf()\n",
    "    plt.plot(xs,f(xs))\n",
    "    plt.grid('on')\n",
    "    plt.plot(x+dxs, taylorf(x,dxs),'g-',linewidth=5,alpha=0.4)\n",
    "    plt.plot(x,f(x),'ro')         \n",
    "    y0,y1 = plt.ylim()\n",
    "    plt.plot([x,x],[y0,y1],'r--')\n",
    "    \n",
    "    x = x - df(x) / float(ddf(x))\n",
    "    plt.plot(x,f(x),'go')\n",
    "    plt.text(x,(y0+y1)*0.5,str(x),color='r')\n",
    "    plt.legend(('$f(x)$','$\\hat{f}(x)$'))\n",
    "    \n",
    "    ipd.clear_output(wait=True)\n",
    "    ipd.display(fig)\n",
    "ipd.clear_output(wait=True)"
   ]
  },
  {
   "cell_type": "markdown",
   "metadata": {},
   "source": [
    "### Try these\n",
    "\n",
    "4.1 What kind of search do we get from\n",
    "\n",
    "  - Local beam search with $k=1$?\n",
    "  - Local beam search with one initial state and no limit on the number of states retained?\n",
    "  - Simulated annealing with $T=0$ at all times?\n",
    "  - Simulated annealing with $T=\\infty$?\n",
    "  - Genetic algorithm with population size $k=1$?\n",
    "  - Gradient-ascent in a discrete state and action space?\n",
    "  - Nelder-Mead with $k=2$ in a two-dimensional state space?"
   ]
  },
  {
   "cell_type": "markdown",
   "metadata": {},
   "source": [
    "# On-Line Search Algorithms (from Section 4.5)\n",
    "\n",
    "For many real-world problems, an agent cannot predict the outcome of\n",
    "applying an action in the current state.  It must take the action and\n",
    "observe the new state.\n",
    "\n",
    "An agent can end up in a dead-end from which it cannot recover.  We\n",
    "will ignore this, and assume that a search problem is **safely\n",
    "explorable**---some goal state is reachable from every reachable\n",
    "state.\n",
    "\n",
    "An on-line search agent cannot explore the successors to an arbitrary\n",
    "node, but only the successors of the current node.  This is the nature\n",
    "of depth-first so the authors adapt off-line dept-first search to\n",
    "an on-line search algorithm.  Results of each action are stored in a\n",
    "map that associates each state-action pair with the resulting state.\n",
    "It assumes it is possible to undo, or reverse, each action in order to\n",
    "backtrack.\n",
    "\n",
    "An on-line version of A\\* is **learning real-time A\\* ** (LRTA\\*).\n",
    "Instead of maintaining memory of states as in the above depth-first\n",
    "algorithm, LRTA\\* only maintains a memory of the current best estimate\n",
    "of cost to reach a goal for each node.  It updates this estimate after\n",
    "each action is tried.  It assumes it can identify all successors for a\n",
    "state and compare their remaining cost estimates.  An interesting\n",
    "aspect is that all untried actions are assumed to result in a state\n",
    "whose heuristic function value is correct, a feature called **optimism\n",
    "under uncertainty**.\n",
    "\n",
    "Learning better estimates of remaining cost based on single steps is\n",
    "at the heart of **reinforcement learning**, covered in Chapter 21."
   ]
  }
 ],
 "metadata": {
  "anaconda-cloud": {},
  "kernelspec": {
   "display_name": "Python [conda env:intel]",
   "language": "python",
   "name": "conda-env-intel-py"
  },
  "language_info": {
   "codemirror_mode": {
    "name": "ipython",
    "version": 3
   },
   "file_extension": ".py",
   "mimetype": "text/x-python",
   "name": "python",
   "nbconvert_exporter": "python",
   "pygments_lexer": "ipython3",
   "version": "3.5.3"
  }
 },
 "nbformat": 4,
 "nbformat_minor": 1
}
