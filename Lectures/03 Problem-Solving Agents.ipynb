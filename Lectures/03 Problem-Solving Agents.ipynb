{
 "cells": [
  {
   "cell_type": "markdown",
   "metadata": {},
   "source": [
    "# Problem-Solving Agents (Section 3.1)\n",
    "\n",
    "Goal-based agents for which states of the environment are considered\n",
    "as atomic representations, ones with no visible internal structure.\n",
    "\n",
    "Formulating the search problem.  We assume\n",
    "  * environment's state is **observable**\n",
    "  * environment's state is **discrete**\n",
    "  * environment is **deterministic**\n",
    "  * environment is **sequential**\n",
    "  * environment is **static**\n",
    "  * **single** agent\n",
    "\n",
    "Problem definition:\n",
    "  * set of possible states\n",
    "  * initial state\n",
    "  * possible actions available at each state\n",
    "  * transition model, from state, action pair to next state\n",
    "  * goal test\n",
    "  * path cost, in this chapter assumed to be sum of step costs\n",
    "\n",
    "Definition of state set is critical.  Want enough detail to enable\n",
    "discovery of useful solution, but want minimal detail to ensure a\n",
    "practical search.\n",
    "\n",
    "Consider the [sliding tile 8-puzzle](http://www.tilepuzzles.com/default.asp?p=12).  Example of \n",
    "  * too much detail\n",
    "    * a state includes positions of every tile, orientation in three dimensions of puzzle, time of day, what you had for breakfast, the age of your older sister\n",
    "  * too little detail\n",
    "    * state is either \"initial\" or \"solved\"\n",
    "\n",
    "How would you write the problem definition for our simple graph?\n",
    "  * set of possible states?\n",
    "  * initial state?\n",
    "  * possible actions available at each state?\n",
    "  * goal test?\n",
    "  * path cost?\n",
    "\n",
    "How would you write the problem definition for the [8 or 15 puzzle](http://en.wikipedia.org/wiki/Fifteen_puzzle)?\n",
    "  * set of possible states?\n",
    "  * initial state?\n",
    "  * possible actions available at each state?\n",
    "  * goal test?\n",
    "  * path cost?\n",
    "\n",
    "How would you write the problem definition for the [Towers of Hanoi puzzle?](http://en.wikipedia.org/wiki/Tower_of_Hanoi)\n",
    "  * set of possible states?\n",
    "  * initial state?\n",
    "  * possible actions available at each state?\n",
    "  * goal test?\n",
    "  * path cost?\n",
    "\n",
    "How would you write the problem definition for the [Peg Board Puzzle](http://pegboardgame.blogspot.com/)?\n",
    "  * set of possible states?\n",
    "  * initial state?\n",
    "  * possible actions available at each state?\n",
    "  * goal test?\n",
    "  * path cost?\n",
    "\n",
    "How would you write the problem definition for  scheduling 10 different observations using the [Hubble Space Telescope](http://hubblesite.org/the_telescope/team_hubble/image.php?image=team-compete)?\n",
    "  * set of possible states?\n",
    "  * initial state?\n",
    "  * possible actions available at each state?\n",
    "  * goal test?\n",
    "  * path cost?"
   ]
  },
  {
   "cell_type": "markdown",
   "metadata": {},
   "source": [
    "# Ways of searching a graph to find path from start to goal node?\n",
    "\n",
    "Uninformed search means that the choice of action is not \"informed\" by any knowledge of the goal.\n",
    "\n",
    "Breadth-first search completely explores each level of the search space before proceeding to the next.\n",
    "\n",
    "Depth-first search completely explores a path until it ends, then backs up a level and tries again."
   ]
  },
  {
   "cell_type": "code",
   "execution_count": 1,
   "metadata": {
    "collapsed": false,
    "scrolled": false
   },
   "outputs": [
    {
     "data": {
      "text/html": [
       "\n",
       "        <iframe\n",
       "            width=\"800\"\n",
       "            height=\"600\"\n",
       "            src=\"./simplegraphsteps.pdf\"\n",
       "            frameborder=\"0\"\n",
       "            allowfullscreen\n",
       "        ></iframe>\n",
       "        "
      ],
      "text/plain": [
       "<IPython.lib.display.IFrame at 0x7fc3ec737940>"
      ]
     },
     "execution_count": 1,
     "metadata": {},
     "output_type": "execute_result"
    }
   ],
   "source": [
    "from IPython.display import IFrame\n",
    "IFrame(\"./simplegraphsteps.pdf\", width=800, height=600)"
   ]
  },
  {
   "cell_type": "markdown",
   "metadata": {},
   "source": [
    "This example does not show the reduced space requirements of\n",
    "depth-first search.  If solution path was via the second child of 'a',\n",
    "then we would see that the nodes through the first child of 'a' do not\n",
    "need to be saved.\n",
    "\n",
    "Here is an algorithm definition for both breadth-first and depth-first\n",
    "search, tailored to fit the python implementation you must complete\n",
    "for [Assignment 1](http://nbviewer.ipython.org/url/www.cs.colostate.edu/~anderson/cs440/notebooks/A1 Uninformed Search.ipynb).  The\n",
    "algorithm maintains a local variable named `unExpanded` to be a list\n",
    "of nodes whose children have not yet been generated (like the authors'\n",
    "`frontier` variable), and a dictionary named `expanded` to keep\n",
    "the nodes for which we have generated the children (like the authors'\n",
    "`explored` variable).  In each a node is stored with its parent,\n",
    "allowing a solution path to be generated be stepping backwards from\n",
    "the goal node once it is found.\n",
    "\n",
    "Given the `startState`, `goalState`, `successorsf`, and\n",
    "`breadthFirst` (a boolean variable):\n",
    "  * Initialize `expanded` to be an empty dictionary\n",
    "  * Initialize `unExpanded` to be a list containing the pair `(startState, None)`\n",
    "  * If `startState` is the `goalState`, return the list containing just `startState`\n",
    "  * Repeat the following steps while `unExpanded` is not empty:\n",
    "    * Pop from the end of `unExpanded` a (`state`, `parent`) pair.\n",
    "    * Generate the `children` of `state` using the `successorsf` function.\n",
    "    * Add `state: parent` to the `expanded` dictionary\n",
    "    * For efficiency, remove from `children` any states that are already  in `expanded` or `unExpanded`.\n",
    "    * If the goal has been found (in python, `goalState` is in `children`):\n",
    "      * Initialize the solution path with the list `[state, goalState]`. \n",
    "      * While `parent` exists:\n",
    "        * Insert `parent` to the front of the solution path.\n",
    "        * Set `parent` to the parent of `parent`.\n",
    "      * Return the solution path.\n",
    "    * Sort and reverse the list of states in `children`, so that we all find the same solution paths.\n",
    "    * Create a modified `children` list by changing each entry to be a pair (child, `parent`), where `parent` is the parent of the child.\n",
    "    * Insert the modified `children` list into the `unExpanded` list at the front if doing breadth-first search, or at the back if doing depth-first search.  Use the boolean variable `breadthFirst` provided as the last argument in the call to this function to control inserting at the front the back.  <font color=\"red\">Do this insertion with one statement, not a for loop</font>, to preserve the order of the children."
   ]
  },
  {
   "cell_type": "code",
   "execution_count": null,
   "metadata": {
    "collapsed": true
   },
   "outputs": [],
   "source": []
  }
 ],
 "metadata": {
  "anaconda-cloud": {},
  "kernelspec": {
   "display_name": "Python [conda root]",
   "language": "python",
   "name": "conda-root-py"
  },
  "language_info": {
   "codemirror_mode": {
    "name": "ipython",
    "version": 3
   },
   "file_extension": ".py",
   "mimetype": "text/x-python",
   "name": "python",
   "nbconvert_exporter": "python",
   "pygments_lexer": "ipython3",
   "version": "3.5.2"
  }
 },
 "nbformat": 4,
 "nbformat_minor": 2
}
