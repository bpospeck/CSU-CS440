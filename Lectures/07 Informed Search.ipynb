{
 "cells": [
  {
   "cell_type": "markdown",
   "metadata": {},
   "source": [
    "# Informed Search"
   ]
  },
  {
   "cell_type": "markdown",
   "metadata": {},
   "source": [
    "Also known as \"heuristic\" search, because the search is informed by an\n",
    "estimate of the total path cost through each node, and the next\n",
    "unexpanded node with the lowest estimated cost is expanded next. \n",
    "\n",
    "    At some intermediate node, the \n",
    "      estimated cost of the solution path =\n",
    "          the sum of the step costs so far from the start node to this node\n",
    "             +\n",
    "          an estimate of the sum of the remaining step costs to a goal\n",
    "\n",
    "Let's label these as\n",
    "\n",
    "   * $f(n) =$ estimated cost of the solution path through node $n$\n",
    "   * $g(n) =$ the sum of the step costs so far from the start node to this node\n",
    "   * $h(n) =$ an estimate of the sum of the remaining step costs to a goal\n",
    "\n",
    "*heuristic function*: $h(n) =$ estimated cost of the cheapest path from state at node $n$ to a goal state.\n",
    "\n",
    "<img src='astarfgh.png'>\n",
    "\n",
    "Should we explore under Node a or b?\n",
    "\n",
    "<img src='astarfgh2.png'>"
   ]
  },
  {
   "cell_type": "markdown",
   "metadata": {},
   "source": [
    "# A* algorithm"
   ]
  },
  {
   "cell_type": "markdown",
   "metadata": {},
   "source": [
    "## Non-recursive"
   ]
  },
  {
   "cell_type": "markdown",
   "metadata": {},
   "source": [
    "So, now you know enough python to try to implement A\\*, at least a non-recursive form.  Start with your graph search algorithm from Assignment 1.  Modify it so that the next node selected is based on its `f` value.\n",
    "\n",
    "For a given problem, define `startState`, `actionsF`, `takeActionF`, `goalTestF`, and a heuristic function `hF`.  'actionsF' must return valid actions paired with the single step cost, and `takeActionF` must return the pair containing the new state and the path cost so far from the start state to the new state.  We can use the `Node` class to hold instances of nodes.  However, since this is not a recursive algorithm, `Node` must be extended to include the node's parent node, to be able to generate the solution path once the search finds the goal.\n",
    "\n",
    "Now the A* algorithm can be written as follows\n",
    "  * Initialize `expanded` to be an empty dictionary\n",
    "  * Initialize `unExpanded` to be a list containing the startState node.  Its `h` value is calculated using `hF`, its `g` value is 0, and its `f` value is `g+h`.\n",
    "  * If `startState` is the `goalState`, return the list containing just `startState` and its `f` value to show the cost of the solution path.\n",
    "  * Repeat the following steps while `unExpanded` is not empty:\n",
    "    * Pop from the front of `unExpanded` to get the best (lowest f value) node to expand.\n",
    "    * Generate the `children` of this `node`.\n",
    "    * Update the `g` value of each child by adding the action's single step cost to this node's `g` value.\n",
    "    * Calculate `hF` of each child.\n",
    "    * Set `f = g + h` of each child.\n",
    "    * Add the node to the `expanded` dictionary, indexed by its state.\n",
    "    * Remove from `children` any nodes that are already either in `expanded` or `unExpanded`, unless the node in `children` has a lower f value.\n",
    "    * If `goalState` is in `children`:\n",
    "      * Build the solution path as a list starting with `goalState`.  \n",
    "      * Use the parent stored with each node in the `expanded` dictionary to construct the path.\n",
    "      * Reverse the solution path list and return it.\n",
    "    * Insert the modified `children` list into the `unExpanded`   list and ** sort by `f` values.**"
   ]
  },
  {
   "cell_type": "markdown",
   "metadata": {},
   "source": [
    "## Recursive"
   ]
  },
  {
   "cell_type": "markdown",
   "metadata": {},
   "source": [
    "Our authors provide the Recursive Best-First Search algorithm, which\n",
    "is A\\* in a recursive, iterative-deepening form, where depth is now\n",
    "given by the $f$ value.  Other differences from just\n",
    "iterative-deepening A\\* are:\n",
    "  - depth-limit determined by $f$ value of best alternative to node being explored, so will stop when alternative at the node's level looks better;\n",
    "  - $f$ value of a node is replaced by best $f$ value of its children, so any future decision to try expanding this node again is more informed.\n",
    "\n",
    "It is a bit difficult to translate their pseudo-code into python.  Here is my version.  Let's step through it."
   ]
  },
  {
   "cell_type": "code",
   "execution_count": 1,
   "metadata": {
    "collapsed": false
   },
   "outputs": [
    {
     "name": "stdout",
     "output_type": "stream",
     "text": [
      "Writing aStarSearch.py\n"
     ]
    }
   ],
   "source": [
    "%%writefile aStarSearch.py\n",
    "# Recursive Best First Search (Figure 3.26, Russell and Norvig)\n",
    "#  Recursive Iterative Deepening form of A*, where depth is replaced by f(n)\n",
    "\n",
    "class Node:\n",
    "    def __init__(self, state, f=0, g=0 ,h=0):\n",
    "        self.state = state\n",
    "        self.f = f\n",
    "        self.g = g\n",
    "        self.h = h\n",
    "    def __repr__(self):\n",
    "        return \"Node(\" + repr(self.state) + \", f=\" + repr(self.f) + \\\n",
    "               \", g=\" + repr(self.g) + \", h=\" + repr(self.h) + \")\"\n",
    "\n",
    "def aStarSearch(startState, actionsF, takeActionF, goalTestF, hF):\n",
    "    h = hF(startState)\n",
    "    startNode = Node(state=startState, f=0+h, g=0, h=h)\n",
    "    return aStarSearchHelper(startNode, actionsF, takeActionF, goalTestF, hF, float('inf'))\n",
    "\n",
    "def aStarSearchHelper(parentNode, actionsF, takeActionF, goalTestF, hF, fmax):\n",
    "    if goalTestF(parentNode.state):\n",
    "        return ([parentNode.state], parentNode.g)\n",
    "    ## Construct list of children nodes with f, g, and h values\n",
    "    actions = actionsF(parentNode.state)\n",
    "    if not actions:\n",
    "        return (\"failure\", float('inf'))\n",
    "    children = []\n",
    "    for action in actions:\n",
    "        (childState,stepCost) = takeActionF(parentNode.state, action)\n",
    "        h = hF(childState)\n",
    "        g = parentNode.g + stepCost\n",
    "        f = max(h+g, parentNode.f)\n",
    "        childNode = Node(state=childState, f=f, g=g, h=h)\n",
    "        children.append(childNode)\n",
    "    while True:\n",
    "        # find best child\n",
    "        children.sort(key = lambda n: n.f) # sort by f value\n",
    "        bestChild = children[0]\n",
    "        if bestChild.f > fmax:\n",
    "            return (\"failure\",bestChild.f)\n",
    "        # next lowest f value\n",
    "        alternativef = children[1].f if len(children) > 1 else float('inf')\n",
    "        # expand best child, reassign its f value to be returned value\n",
    "        result,bestChild.f = aStarSearchHelper(bestChild, actionsF, takeActionF, goalTestF,\n",
    "                                            hF, min(fmax,alternativef))\n",
    "        if result is not \"failure\":               #        g\n",
    "            result.insert(0,parentNode.state)     #       / \n",
    "            return (result, bestChild.f)          #      d\n",
    "                                                  #     / \\ \n",
    "if __name__ == \"__main__\":                        #    b   h   \n",
    "                                                  #   / \\   \n",
    "    successors = {'a': ['b','c'],                 #  a   e  \n",
    "                  'b': ['d','e'],                 #   \\         \n",
    "                  'c': ['f'],                     #    c   i\n",
    "                  'd': ['g', 'h'],                #     \\ / \n",
    "                  'f': ['i','j']}                 #      f  \n",
    "    def actionsF(s):                              #       \\ \n",
    "        try:                                      #        j\n",
    "            ## step cost of each action is 1\n",
    "            return [(succ,1) for succ in successors[s]]\n",
    "        except KeyError:\n",
    "            return []\n",
    "    def takeActionF(s,a):\n",
    "        return a\n",
    "    def goalTestF(s):\n",
    "        return s == goal\n",
    "    def h1(s):\n",
    "        return 0\n",
    "    start = 'a'\n",
    "    goal = 'h'\n",
    "    result = aStarSearch(start,actionsF,takeActionF,goalTestF,h1)\n",
    "    print('Path from a to h is', result[0], 'for a cost of', result[1])"
   ]
  },
  {
   "cell_type": "markdown",
   "metadata": {},
   "source": [
    "Running this shows"
   ]
  },
  {
   "cell_type": "code",
   "execution_count": 2,
   "metadata": {
    "collapsed": false
   },
   "outputs": [
    {
     "name": "stdout",
     "output_type": "stream",
     "text": [
      "Path from a to h is ['a', 'b', 'd', 'h'] for a cost of 3\n"
     ]
    }
   ],
   "source": [
    "run aStarSearch.py"
   ]
  },
  {
   "cell_type": "markdown",
   "metadata": {},
   "source": [
    "Actually, there is in error in this code.  Try using it to search for a goal that does not exist!"
   ]
  }
 ],
 "metadata": {
  "anaconda-cloud": {},
  "kernelspec": {
   "display_name": "Python [conda root]",
   "language": "python",
   "name": "conda-root-py"
  },
  "language_info": {
   "codemirror_mode": {
    "name": "ipython",
    "version": 3
   },
   "file_extension": ".py",
   "mimetype": "text/x-python",
   "name": "python",
   "nbconvert_exporter": "python",
   "pygments_lexer": "ipython3",
   "version": "3.5.2"
  }
 },
 "nbformat": 4,
 "nbformat_minor": 1
}
