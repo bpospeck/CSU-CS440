{
 "cells": [
  {
   "cell_type": "markdown",
   "metadata": {},
   "source": [
    "# Modern Game Playing"
   ]
  },
  {
   "cell_type": "markdown",
   "metadata": {},
   "source": [
    "## Monte-Carlo Tree Search\n",
    "\n",
    "Szita, I., Chaslot, G.M.J-B., and Spronck, P. (2010). [Monte-Carlo Tree Search in Settlers of Catan](https://link.springer.com/content/pdf/10.1007%2F978-3-642-12993-3_3.pdf). Advances in Computer Games (ACG 2009) (eds. H.J. van den Herik and P.H.M. Spronck), Vol. 6048 of LNCS, pp. 21–32, Springer-Verlag, Berlin Heidelberg, Germany\n",
    "\n",
    "[Monte-Carlo Tree Search](https://pdfs.semanticscholar.org/9457/b87afbdadd49b5936f694582d16c08cb7ee4.pdf), thesis by Guillaume  Chaslot, 2010.\n",
    "\n",
    "[A Survey of Monte Carlo Tree Search Methods](http://mcts.ai/pubs/mcts-survey-master.pdf), by C.B. Browne, et al.,2012\n",
    "\n",
    "[Examples](http://www.mcts.ai/)"
   ]
  },
  {
   "cell_type": "markdown",
   "metadata": {},
   "source": [
    "## Computer Chess\n",
    "\n",
    "[Wikipedia on Computer Chess](http://en.wikipedia.org/wiki/Computer_chess)\n",
    "\n",
    "[Giraffe: Using Deep Reinforcement Learning to Play Chess](https://arxiv.org/pdf/1509.01549.pdf), by Matthew Lai\n",
    "\n",
    "[Deep-Pink](https://github.com/erikbern/deep-pink) by Erik Bernhardsson, and corresponding [blog post](http://blog.yhat.com/posts/deep-learning-chess.html)\n",
    "\n",
    "[DeepChess: End-to-End Deep Neural Network for Automatic Learning in Chess](http://www.cs.tau.ac.il/~wolf/papers/deepchess.pdf), by Omar David, et al."
   ]
  },
  {
   "cell_type": "markdown",
   "metadata": {},
   "source": [
    "## Negamax on GPU\n",
    "\n",
    "[Enhanced parallel NegaMax tree search algorithm on GPU](http://ieeexplore.ieee.org/document/6972394/?section=abstract), by Ahmed A. Elnaggar, et al.\n",
    "\n"
   ]
  },
  {
   "cell_type": "markdown",
   "metadata": {},
   "source": [
    "## Go\n",
    "\n",
    "[Mastering the game of Go with deep neural networks and tree search](https://gogameguru.com/i/2016/03/deepmind-mastering-go.pdf), by David Silver, et al., Nature, vol. 529, 28 January 2016 \n",
    "\n",
    "Read all about it at [DeepMind's site on AlphaGo](https://deepmind.com/research/alphago/)"
   ]
  },
  {
   "cell_type": "markdown",
   "metadata": {},
   "source": [
    "[CUDA Implementation of Computer Go Game Tree Search](https://link.springer.com/content/pdf/10.1007%2F978-3-319-32467-8_31.pdf), by Christine Johnson"
   ]
  }
 ],
 "metadata": {
  "anaconda-cloud": {},
  "kernelspec": {
   "display_name": "Python [Root]",
   "language": "python",
   "name": "Python [Root]"
  },
  "language_info": {
   "codemirror_mode": {
    "name": "ipython",
    "version": 3
   },
   "file_extension": ".py",
   "mimetype": "text/x-python",
   "name": "python",
   "nbconvert_exporter": "python",
   "pygments_lexer": "ipython3",
   "version": "3.5.2"
  }
 },
 "nbformat": 4,
 "nbformat_minor": 2
}
