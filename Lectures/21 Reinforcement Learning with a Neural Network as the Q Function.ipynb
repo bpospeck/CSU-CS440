{
 "cells": [
  {
   "cell_type": "markdown",
   "metadata": {},
   "source": [
    "# Reinforcement Learning: Replacing the Q table with a Neural Network"
   ]
  },
  {
   "cell_type": "markdown",
   "metadata": {},
   "source": [
    "We will use the Towers of Hanoi puzzle as an example.  Recall that for Assignment 5 you used a Python dictionary to represent the Q function as a table, indexed by a key composed of the state and action.  Here, we simply replace the dictionary with a neural network that receives as input the state and action and outputs one value, Q(state, action)."
   ]
  },
  {
   "cell_type": "markdown",
   "metadata": {},
   "source": [
    "First, here is one solution to Assignment 5."
   ]
  },
  {
   "cell_type": "code",
   "execution_count": 1,
   "metadata": {
    "collapsed": true
   },
   "outputs": [],
   "source": [
    "import numpy as np\n",
    "import random\n",
    "import matplotlib.pyplot as plt\n",
    "from copy import deepcopy\n",
    "%matplotlib inline"
   ]
  },
  {
   "cell_type": "code",
   "execution_count": 2,
   "metadata": {
    "collapsed": true
   },
   "outputs": [],
   "source": [
    "def printState(s):\n",
    "    lens = [len(p) for p in s]\n",
    "    for height in range(max(lens),0,-1):\n",
    "        row = \"\"\n",
    "        for p in range(3):\n",
    "            if lens[p] >= height:\n",
    "                row += str(s[p][lens[p]-height]) + ' '\n",
    "            else:\n",
    "                row += '  '\n",
    "        print(row)\n",
    "    print('------')\n",
    "    print()"
   ]
  },
  {
   "cell_type": "code",
   "execution_count": 3,
   "metadata": {},
   "outputs": [
    {
     "name": "stdout",
     "output_type": "stream",
     "text": [
      "1     \n",
      "2     \n",
      "3     \n",
      "------\n",
      "\n"
     ]
    }
   ],
   "source": [
    "printState([[1,2,3],[],[]])"
   ]
  },
  {
   "cell_type": "code",
   "execution_count": 4,
   "metadata": {
    "collapsed": true
   },
   "outputs": [],
   "source": [
    "def validMoves(state):\n",
    "    \"\"\"Given state like [[1,2,3],[],[]]\n",
    "    return valid moves, like [(1,2),(1,3)]) pairs of source and dest peg\"\"\"\n",
    "    moves = []\n",
    "    disksOn1,disksOn2,disksOn3 = state\n",
    "    if disksOn1:\n",
    "        diskToMove = disksOn1[0]\n",
    "        if not disksOn2 or disksOn2[0] > diskToMove:\n",
    "            moves.append([1,2])\n",
    "        if not disksOn3 or disksOn3[0] > diskToMove:\n",
    "            moves.append([1,3])\n",
    "    if disksOn2:\n",
    "        diskToMove = disksOn2[0]\n",
    "        if not disksOn1 or disksOn1[0] > diskToMove:\n",
    "            moves.append([2,1])\n",
    "        if not disksOn3 or disksOn3[0] > diskToMove:\n",
    "            moves.append([2,3])\n",
    "    if disksOn3:\n",
    "        diskToMove = disksOn3[0]\n",
    "        if not disksOn1 or disksOn1[0] > diskToMove:\n",
    "            moves.append([3,1])\n",
    "        if not disksOn2 or disksOn2[0] > diskToMove:\n",
    "            moves.append([3,2])\n",
    "    return moves\n",
    "\n",
    "def makeMove(state, move):\n",
    "    from copy import deepcopy\n",
    "    stateNew = deepcopy(state)\n",
    "    src,dest = move\n",
    "    diskMoved = stateNew[src-1].pop(0)\n",
    "    stateNew[dest-1].insert(0,diskMoved)\n",
    "    return stateNew"
   ]
  },
  {
   "cell_type": "code",
   "execution_count": 5,
   "metadata": {},
   "outputs": [
    {
     "data": {
      "text/plain": [
       "[[1, 2], [1, 3]]"
      ]
     },
     "execution_count": 5,
     "metadata": {},
     "output_type": "execute_result"
    }
   ],
   "source": [
    "validMoves([[1,2,3], [], []])"
   ]
  },
  {
   "cell_type": "code",
   "execution_count": 6,
   "metadata": {},
   "outputs": [
    {
     "name": "stdout",
     "output_type": "stream",
     "text": [
      "2     \n",
      "3   1 \n",
      "------\n",
      "\n"
     ]
    }
   ],
   "source": [
    "printState(makeMove([[1,2,3], [], []], [1, 3]))"
   ]
  },
  {
   "cell_type": "code",
   "execution_count": 7,
   "metadata": {
    "collapsed": true
   },
   "outputs": [],
   "source": [
    "def stateMoveTuple(state, action):\n",
    "    return (tuple(tuple(disks) for disks in state), tuple(action))"
   ]
  },
  {
   "cell_type": "code",
   "execution_count": 8,
   "metadata": {},
   "outputs": [
    {
     "data": {
      "text/plain": [
       "(((1, 2, 3), (), ()), (1, 3))"
      ]
     },
     "execution_count": 8,
     "metadata": {},
     "output_type": "execute_result"
    }
   ],
   "source": [
    "stateMoveTuple([[1,2,3],[],[]], [1,3])"
   ]
  },
  {
   "cell_type": "code",
   "execution_count": 9,
   "metadata": {
    "collapsed": true
   },
   "outputs": [],
   "source": [
    "def epsilonGreedy(Q, state, epsilon, validMovesF):\n",
    "    moves = validMovesF(state)\n",
    "    if np.random.uniform() < epsilon: # random move\n",
    "        move = moves[random.sample(range(len(moves)),1)[0]]\n",
    "    else:                           # greedy move\n",
    "        qs = []\n",
    "        for m in moves:\n",
    "            key = stateMoveTuple(state, m)\n",
    "            if key not in Q:\n",
    "                Q[key] = 0\n",
    "            qs.append(Q[key])\n",
    "        move = moves[np.argmax(qs)]\n",
    "    return move   "
   ]
  },
  {
   "cell_type": "code",
   "execution_count": 10,
   "metadata": {
    "collapsed": true
   },
   "outputs": [],
   "source": [
    "def trainQ(nReps, rho, epsilonDecayFactor, validMovesF, makeMoveF):\n",
    "    outcomes = np.zeros(nReps)             # number steps to goal\n",
    "    Q = {}                                  # initialize Q dictionary\n",
    "    epsilon = 1.0                           # initial epsilon value\n",
    "\n",
    "    for rep in range(nReps):              # iterate over multiple games\n",
    "\n",
    "        epsilon *= epsilonDecayFactor\n",
    "        step = 0\n",
    "        state = [[1,2,3],[],[]]\n",
    "\n",
    "        # if rep == nReps-1 or debug:\n",
    "        #     printState(state)\n",
    "\n",
    "        done = False\n",
    "        while not done:\n",
    "            step += 1\n",
    "            move = epsilonGreedy(Q, state, epsilon, validMovesF)\n",
    "            key = stateMoveTuple(state, move)\n",
    "            if key not in Q:\n",
    "                Q[key] = 0\n",
    "            stateNew = makeMoveF(state, move)\n",
    "\n",
    "            # if rep == nReps-1 or debug:\n",
    "            #     printState(stateNew)\n",
    "\n",
    "            if len(stateNew[2]) == 3:\n",
    "                # goal found\n",
    "                Q[key] = -1\n",
    "                done = True\n",
    "                outcomes[rep]=step-1\n",
    "\n",
    "            elif step > 1:\n",
    "                #keyOld = tuple([i for peg in stateOld+[moveOld] for i in peg+[0]])\n",
    "                Q[keyOld] += rho * (-1 + Q[key] - Q[keyOld])\n",
    "\n",
    "            state = stateNew\n",
    "            keyOld = key\n",
    "\n",
    "    return Q, outcomes"
   ]
  },
  {
   "cell_type": "code",
   "execution_count": 11,
   "metadata": {
    "collapsed": true
   },
   "outputs": [],
   "source": [
    "Q, outcomes = trainQ(50, 0.5, 0.9, validMoves, makeMove)"
   ]
  },
  {
   "cell_type": "code",
   "execution_count": 12,
   "metadata": {},
   "outputs": [
    {
     "data": {
      "text/plain": [
       "array([ 162.,   86.,    7.,   20.,   68.,   49.,   26.,   11.,   19.,\n",
       "         29.,    6.,   60.,   12.,    6.,    6.,    6.,    6.,   23.,\n",
       "         24.,    6.,    9.,   21.,    7.,   14.,   13.,    8.,    6.,\n",
       "          6.,    6.,    9.,    7.,   12.,    6.,    6.,    6.,    6.,\n",
       "          6.,    6.,    6.,    6.,    6.,    6.,    6.,    6.,    6.,\n",
       "          6.,    6.,    6.,    6.,    6.])"
      ]
     },
     "execution_count": 12,
     "metadata": {},
     "output_type": "execute_result"
    }
   ],
   "source": [
    "outcomes"
   ]
  },
  {
   "cell_type": "code",
   "execution_count": 13,
   "metadata": {},
   "outputs": [
    {
     "data": {
      "text/plain": [
       "76"
      ]
     },
     "execution_count": 13,
     "metadata": {},
     "output_type": "execute_result"
    }
   ],
   "source": [
    "len(Q)"
   ]
  },
  {
   "cell_type": "code",
   "execution_count": 14,
   "metadata": {},
   "outputs": [
    {
     "data": {
      "image/png": "[encoded data removed]",
      "text/plain": [
       "<matplotlib.figure.Figure at 0x7f0546d03278>"
      ]
     },
     "metadata": {},
     "output_type": "display_data"
    }
   ],
   "source": [
    "plt.plot(outcomes,'o-', label='RL Agent')\n",
    "plt.plot([0, len(outcomes)], [6, 6], 'r--', label='Shortest')\n",
    "plt.xlabel('Repetitions')\n",
    "plt.ylabel('Steps to Reach Goal')\n",
    "plt.legend();"
   ]
  },
  {
   "cell_type": "code",
   "execution_count": 15,
   "metadata": {
    "collapsed": true
   },
   "outputs": [],
   "source": [
    "def testQ(Q, maxSteps, validMovesF, makeMoveF):\n",
    "    state = [[1,2,3],[],[]]\n",
    "    path = [state]\n",
    "    for step in range(maxSteps):\n",
    "        moves = validMovesF(state)\n",
    "        \n",
    "        qs = []\n",
    "        for m in moves:\n",
    "            key = stateMoveTuple(state, m)\n",
    "            qs.append(Q[key])\n",
    "        move = moves[np.argmax(qs)]\n",
    "        state = makeMoveF(state, move)\n",
    "        path.append(state)\n",
    "\n",
    "        if len(state[2]) == 3:\n",
    "            # goal found\n",
    "            return path\n",
    "\n",
    "    return None"
   ]
  },
  {
   "cell_type": "code",
   "execution_count": 16,
   "metadata": {
    "collapsed": true
   },
   "outputs": [],
   "source": [
    "path = testQ(Q, 100, validMoves, makeMove)"
   ]
  },
  {
   "cell_type": "code",
   "execution_count": 17,
   "metadata": {},
   "outputs": [
    {
     "name": "stdout",
     "output_type": "stream",
     "text": [
      "1     \n",
      "2     \n",
      "3     \n",
      "------\n",
      "\n",
      "2     \n",
      "3   1 \n",
      "------\n",
      "\n",
      "3 2 1 \n",
      "------\n",
      "\n",
      "  1   \n",
      "3 2   \n",
      "------\n",
      "\n",
      "  1   \n",
      "  2 3 \n",
      "------\n",
      "\n",
      "1 2 3 \n",
      "------\n",
      "\n",
      "    2 \n",
      "1   3 \n",
      "------\n",
      "\n",
      "    1 \n",
      "    2 \n",
      "    3 \n",
      "------\n",
      "\n"
     ]
    }
   ],
   "source": [
    "for s in path:\n",
    "    printState(s)"
   ]
  },
  {
   "cell_type": "markdown",
   "metadata": {},
   "source": [
    "## Q Network"
   ]
  },
  {
   "cell_type": "code",
   "execution_count": 18,
   "metadata": {
    "collapsed": true
   },
   "outputs": [],
   "source": [
    "import neuralnetworks as nn"
   ]
  },
  {
   "cell_type": "markdown",
   "metadata": {},
   "source": [
    "We must come up with a numerical representation of the state as a vector.  How about $(d_1, d_2, d_3)$, where $d_i$ is the peg that disk $i$ is on.  Let's say $d_1$ is the smallest disk and $d_3$ is the largest disk.  So the starting state is $(1, 1, 1)$ and the goal state is $(3, 3, 3)$.\n",
    "\n",
    "To represent an action, we can still use two integers, for the source page and the destination peg.  So, action $(1, 3)$ transforms state $(1, 1, 1)$ to state $(3, 1, 1)$.\n",
    "\n",
    "So, our Q network takes five numerical inputs, three for the state and two for the action."
   ]
  },
  {
   "cell_type": "markdown",
   "metadata": {},
   "source": [
    "We need to change the above functions to handle the new state representation, or just write a function that converts our original representation (list of three lists) to our new one (list of three integers)."
   ]
  },
  {
   "cell_type": "code",
   "execution_count": 19,
   "metadata": {
    "collapsed": true
   },
   "outputs": [],
   "source": [
    "def newStateRep(state):\n",
    "    newrep = [0, 0, 0]\n",
    "    for pegi, peglist in enumerate(state):\n",
    "        for disk in peglist:\n",
    "            newrep[disk-1] = pegi+1\n",
    "    return newrep    "
   ]
  },
  {
   "cell_type": "code",
   "execution_count": 20,
   "metadata": {},
   "outputs": [
    {
     "data": {
      "text/plain": [
       "[1, 1, 1]"
      ]
     },
     "execution_count": 20,
     "metadata": {},
     "output_type": "execute_result"
    }
   ],
   "source": [
    "newStateRep([[1, 2, 3], [], []])"
   ]
  },
  {
   "cell_type": "code",
   "execution_count": 21,
   "metadata": {},
   "outputs": [
    {
     "data": {
      "text/plain": [
       "[3, 2, 1]"
      ]
     },
     "execution_count": 21,
     "metadata": {},
     "output_type": "execute_result"
    }
   ],
   "source": [
    "newStateRep([[3], [2], [1]])"
   ]
  },
  {
   "cell_type": "code",
   "execution_count": 22,
   "metadata": {},
   "outputs": [
    {
     "data": {
      "text/plain": [
       "[3, 2, 2]"
      ]
     },
     "execution_count": 22,
     "metadata": {},
     "output_type": "execute_result"
    }
   ],
   "source": [
    "newStateRep([[], [2, 3], [1]])"
   ]
  },
  {
   "cell_type": "code",
   "execution_count": 59,
   "metadata": {
    "collapsed": true
   },
   "outputs": [],
   "source": [
    "def epsilonGreedy(Qnet, state, epsilon, validMovesF):\n",
    "    moves = validMovesF(state)\n",
    "    if np.random.uniform() < epsilon: # random move\n",
    "        move = moves[random.sample(range(len(moves)),1)[0]]\n",
    "        if Qnet.Xmeans is None:\n",
    "            Q = 0\n",
    "        else:\n",
    "            Q = Qnet.use(np.array([newStateRep(state) + move]))\n",
    "    else:                           # greedy move\n",
    "        qs = []\n",
    "        for m in moves:\n",
    "            qs.append(Qnet.use(np.array([newStateRep(state) + m])))\n",
    "        move = moves[np.argmax(qs)]\n",
    "        Q = np.max(qs)\n",
    "    return move, Q"
   ]
  },
  {
   "cell_type": "markdown",
   "metadata": {},
   "source": [
    "Basic algorithm for collecting samples of $(s, a, r', Q')$.\n",
    "\n",
    "- Initialize $s$.\n",
    "- Pick $a$\n",
    "- Repeat until done:\n",
    "  - $s'$ = makeMove($s$, $a$)\n",
    "  - $r'$ = -1\n",
    "  - $a'$ = epsilonGreedy move($s'$)\n",
    "  - $Q'$ = Qnet($s'$, $a'$)\n",
    "  - Add to samples collection $(s, a, r', Q')$\n",
    "  - $s$ = $s'$\n",
    "  - $a$ = $a'$"
   ]
  },
  {
   "cell_type": "code",
   "execution_count": 199,
   "metadata": {},
   "outputs": [],
   "source": [
    "def trainQnet(nReps, hiddenLayers, nIterations, epsilonDecayFactor, validMovesF, makeMoveF):\n",
    "    outcomes = np.zeros(nReps)\n",
    "    Qnet = nn.NeuralNetwork(5, hiddenLayers, 1)\n",
    "    Qnet.standardizeT = lambda x: x\n",
    "    Qnet.unstandardizeT = lambda x: x\n",
    "    # Qnet.Tmeans = 0\n",
    "    epsilon = 1.0\n",
    "\n",
    "    samples = []  # collect all samples for this repetition, then update the Q network at end of repetition.\n",
    "    for rep in range(nReps):\n",
    "        if rep > 0:\n",
    "            epsilon *= epsilonDecayFactor\n",
    "        step = 0\n",
    "        done = False\n",
    "\n",
    "        samples = []\n",
    "        state = [[1,2,3],[],[]]\n",
    "        move, _ = epsilonGreedy(Qnet, state, epsilon, validMovesF)\n",
    " \n",
    "        while not done:\n",
    "            step += 1\n",
    "            \n",
    "           # Make this move to get to nextState\n",
    "            stateNext = makeMoveF(state, move)\n",
    "            r = -1\n",
    "            # Choose move from nextState\n",
    "            moveNext, Qnext = epsilonGreedy(Qnet, stateNext, epsilon, validMovesF)\n",
    " \n",
    "            if len(stateNext[2]) == 3:\n",
    "                # goal found\n",
    "                Qnext = 0\n",
    "                done = True\n",
    "                outcomes[rep] = step-1\n",
    "                print('({:d} {:.3f} {:d})'.format(rep,epsilon, int(outcomes[rep])), end=' ')\n",
    "               \n",
    "            samples.append([*newStateRep(state), *move, r, Qnext])\n",
    "\n",
    "            state = deepcopy(stateNext)\n",
    "            move = deepcopy(moveNext)\n",
    "            \n",
    "        samples = np.array(samples)\n",
    "        X = samples[:,:5]\n",
    "        T = samples[:,5:6] + samples[:,6:7]\n",
    "        Qnet.train(X, T, nIterations, verbose=False)\n",
    "        # print('for (1,2,3, 2,3)', Qnet.use(np.array([[1,2,3, 2,3]])))\n",
    "    return Qnet, outcomes, samples"
   ]
  },
  {
   "cell_type": "code",
   "execution_count": 215,
   "metadata": {},
   "outputs": [
    {
     "name": "stdout",
     "output_type": "stream",
     "text": [
      "(0 1.000 82) (1 0.992 48) (2 0.984 32) (3 0.976 88) (4 0.968 130) (5 0.961 119) (6 0.953 49) (7 0.945 229) (8 0.938 52) (9 0.930 175) (10 0.923 46) (11 0.915 89) (12 0.908 98) (13 0.901 14) (14 0.894 260) (15 0.886 32) (16 0.879 13) (17 0.872 106) (18 0.865 127) (19 0.858 200) (20 0.852 32) (21 0.845 41) (22 0.838 17) (23 0.831 455) (24 0.825 183) (25 0.818 33) (26 0.812 342) (27 0.805 25) (28 0.799 25) (29 0.792 50) (30 0.786 32) (31 0.780 61) (32 0.773 33) (33 0.767 39) (34 0.761 98) (35 0.755 20) (36 0.749 111) (37 0.743 46) (38 0.737 124) (39 0.731 116) (40 0.725 61) (41 0.719 24) (42 0.714 40) (43 0.708 362) (44 0.702 183) (45 0.697 73) (46 0.691 60) (47 0.686 15) (48 0.680 112) (49 0.675 26) (50 0.669 23) (51 0.664 66) (52 0.659 38) (53 0.653 63) (54 0.648 63) (55 0.643 190) (56 0.638 158) (57 0.633 60) (58 0.628 250) (59 0.623 12) (60 0.618 46) (61 0.613 41) (62 0.608 100) (63 0.603 86) (64 0.598 42) (65 0.593 85) (66 0.589 22) (67 0.584 248) (68 0.579 41) (69 0.575 73) (70 0.570 13) (71 0.565 182) (72 0.561 243) (73 0.556 329) (74 0.552 129) (75 0.547 41) (76 0.543 159) (77 0.539 22) (78 0.534 87) (79 0.530 11) (80 0.526 11) (81 0.522 74) (82 0.518 27) (83 0.513 12) (84 0.509 22) (85 0.505 52) (86 0.501 15) (87 0.497 14) (88 0.493 19) (89 0.489 95) (90 0.485 9) (91 0.481 72) (92 0.478 18) (93 0.474 200) (94 0.470 13) (95 0.466 44) (96 0.463 84) (97 0.459 16) (98 0.455 139) (99 0.451 8) (100 0.448 15) (101 0.444 16) (102 0.441 15) (103 0.437 30) (104 0.434 90) (105 0.430 50) (106 0.427 12) (107 0.423 11) (108 0.420 10) (109 0.417 28) (110 0.413 33) (111 0.410 36) (112 0.407 47) (113 0.403 18) (114 0.400 126) (115 0.397 14) (116 0.394 12) (117 0.391 26) (118 0.388 13) (119 0.384 18) (120 0.381 12) (121 0.378 6) (122 0.375 17) (123 0.372 23) (124 0.369 23) (125 0.366 10) (126 0.363 115) (127 0.361 11) (128 0.358 266) (129 0.355 46) (130 0.352 28) (131 0.349 27) (132 0.346 72) (133 0.344 22) (134 0.341 28) (135 0.338 6) (136 0.335 8) (137 0.333 17) (138 0.330 58) (139 0.327 9) (140 0.325 11) (141 0.322 9) (142 0.320 19) (143 0.317 215) (144 0.315 56) (145 0.312 37) (146 0.310 18) (147 0.307 15) (148 0.305 28) (149 0.302 11) (150 0.300 6) (151 0.297 48) (152 0.295 29) (153 0.293 6) (154 0.290 7) (155 0.288 7) (156 0.286 14) (157 0.283 10) (158 0.281 332) (159 0.279 56) (160 0.277 15) (161 0.274 15) (162 0.272 8) (163 0.270 13) (164 0.268 11) (165 0.266 6) (166 0.264 7) (167 0.261 6) (168 0.259 26) (169 0.257 14) (170 0.255 15) (171 0.253 7) (172 0.251 42) (173 0.249 23) (174 0.247 7) (175 0.245 6) (176 0.243 6) (177 0.241 40) (178 0.239 11) (179 0.237 11) (180 0.236 7) (181 0.234 7) (182 0.232 23) (183 0.230 6) (184 0.228 7) (185 0.226 12) (186 0.224 16) (187 0.223 6) (188 0.221 11) (189 0.219 13) (190 0.217 19) (191 0.216 36) (192 0.214 6) (193 0.212 11) (194 0.211 9) (195 0.209 16) (196 0.207 8) (197 0.205 12) (198 0.204 11) (199 0.202 33) (200 0.201 7) (201 0.199 11) (202 0.197 8) (203 0.196 13) (204 0.194 8) (205 0.193 16) (206 0.191 6) (207 0.190 1058) (208 0.188 6) (209 0.187 6) (210 0.185 122) (211 0.184 6) (212 0.182 10) (213 0.181 6) (214 0.179 6) (215 0.178 8) (216 0.176 8) (217 0.175 6) (218 0.174 236) (219 0.172 13) (220 0.171 60) (221 0.169 8) (222 0.168 6) (223 0.167 94) (224 0.165 10) (225 0.164 8) (226 0.163 205) (227 0.161 8) (228 0.160 6) (229 0.159 6) (230 0.158 6) (231 0.156 8) (232 0.155 9) (233 0.154 6) (234 0.153 7) (235 0.151 8) (236 0.150 10) (237 0.149 8) (238 0.148 6) (239 0.147 50) (240 0.145 8) (241 0.144 10) (242 0.143 311) (243 0.142 6) (244 0.141 12) (245 0.140 198) (246 0.139 10) (247 0.138 7) (248 0.136 36) (249 0.135 11) (250 0.134 7) (251 0.133 6) (252 0.132 6) (253 0.131 10) (254 0.130 6) (255 0.129 8) (256 0.128 7) (257 0.127 6) (258 0.126 9) (259 0.125 8) (260 0.124 7) (261 0.123 27) (262 0.122 6) (263 0.121 6) (264 0.120 10) (265 0.119 6) (266 0.118 6) (267 0.117 6) (268 0.116 6) (269 0.115 6) (270 0.114 6) (271 0.113 11) (272 0.113 6) (273 0.112 8) (274 0.111 8) (275 0.110 6) (276 0.109 6) (277 0.108 8) (278 0.107 8) (279 0.106 6) (280 0.106 6) (281 0.105 12) (282 0.104 133) (283 0.103 25) (284 0.102 6) (285 0.101 6) (286 0.101 8) (287 0.100 12) (288 0.099 6) (289 0.098 6) (290 0.097 6) (291 0.097 7) (292 0.096 8) (293 0.095 6) (294 0.094 6) (295 0.094 6) (296 0.093 6) (297 0.092 6) (298 0.091 6) (299 0.091 6) (300 0.090 7) (301 0.089 8) (302 0.088 6) (303 0.088 6) (304 0.087 7) (305 0.086 6) (306 0.086 6) (307 0.085 6) (308 0.084 12) (309 0.084 49) (310 0.083 6) (311 0.082 6) (312 0.082 6) (313 0.081 7) (314 0.080 6) (315 0.080 12) (316 0.079 7) (317 0.078 6) (318 0.078 6) (319 0.077 6) (320 0.077 6) (321 0.076 6) (322 0.075 8) (323 0.075 6) (324 0.074 6) (325 0.074 6) (326 0.073 6) (327 0.072 6) (328 0.072 6) (329 0.071 6) (330 0.071 6) (331 0.070 6) (332 0.069 7) (333 0.069 6) (334 0.068 6) (335 0.068 7) (336 0.067 6) (337 0.067 9) (338 0.066 8) (339 0.066 7) (340 0.065 108) (341 0.065 175) (342 0.064 7) (343 0.064 6) (344 0.063 6) (345 0.063 6) (346 0.062 6) (347 0.062 6) (348 0.061 8) (349 0.061 393) (350 0.060 6) (351 0.060 6) (352 0.059 6) (353 0.059 7) (354 0.058 7) (355 0.058 6) (356 0.057 6) (357 0.057 6) (358 0.056 6) (359 0.056 6) (360 0.055 6) (361 0.055 6) (362 0.055 6) (363 0.054 6) (364 0.054 6) (365 0.053 6) (366 0.053 6) (367 0.052 6) (368 0.052 6) (369 0.052 6) (370 0.051 6) (371 0.051 6) (372 0.050 6) (373 0.050 6) (374 0.050 6) (375 0.049 6) (376 0.049 6) (377 0.048 6) (378 0.048 6) (379 0.048 6) (380 0.047 7) (381 0.047 6) (382 0.047 6) (383 0.046 6) (384 0.046 6) (385 0.045 6) (386 0.045 6) (387 0.045 6) (388 0.044 6) (389 0.044 6) (390 0.044 6) (391 0.043 6) (392 0.043 6) (393 0.043 6) (394 0.042 6) (395 0.042 6) (396 0.042 6) (397 0.041 6) (398 0.041 6) (399 0.041 6) "
     ]
    }
   ],
   "source": [
    "Qnet, outcomes, samples = trainQnet(400, [20, 20], 5, 0.992, validMoves, makeMove)"
   ]
  },
  {
   "cell_type": "code",
   "execution_count": 216,
   "metadata": {},
   "outputs": [
    {
     "data": {
      "text/plain": [
       "array([   82.,    48.,    32.,    88.,   130.,   119.,    49.,   229.,\n",
       "          52.,   175.,    46.,    89.,    98.,    14.,   260.,    32.,\n",
       "          13.,   106.,   127.,   200.,    32.,    41.,    17.,   455.,\n",
       "         183.,    33.,   342.,    25.,    25.,    50.,    32.,    61.,\n",
       "          33.,    39.,    98.,    20.,   111.,    46.,   124.,   116.,\n",
       "          61.,    24.,    40.,   362.,   183.,    73.,    60.,    15.,\n",
       "         112.,    26.,    23.,    66.,    38.,    63.,    63.,   190.,\n",
       "         158.,    60.,   250.,    12.,    46.,    41.,   100.,    86.,\n",
       "          42.,    85.,    22.,   248.,    41.,    73.,    13.,   182.,\n",
       "         243.,   329.,   129.,    41.,   159.,    22.,    87.,    11.,\n",
       "          11.,    74.,    27.,    12.,    22.,    52.,    15.,    14.,\n",
       "          19.,    95.,     9.,    72.,    18.,   200.,    13.,    44.,\n",
       "          84.,    16.,   139.,     8.,    15.,    16.,    15.,    30.,\n",
       "          90.,    50.,    12.,    11.,    10.,    28.,    33.,    36.,\n",
       "          47.,    18.,   126.,    14.,    12.,    26.,    13.,    18.,\n",
       "          12.,     6.,    17.,    23.,    23.,    10.,   115.,    11.,\n",
       "         266.,    46.,    28.,    27.,    72.,    22.,    28.,     6.,\n",
       "           8.,    17.,    58.,     9.,    11.,     9.,    19.,   215.,\n",
       "          56.,    37.,    18.,    15.,    28.,    11.,     6.,    48.,\n",
       "          29.,     6.,     7.,     7.,    14.,    10.,   332.,    56.,\n",
       "          15.,    15.,     8.,    13.,    11.,     6.,     7.,     6.,\n",
       "          26.,    14.,    15.,     7.,    42.,    23.,     7.,     6.,\n",
       "           6.,    40.,    11.,    11.,     7.,     7.,    23.,     6.,\n",
       "           7.,    12.,    16.,     6.,    11.,    13.,    19.,    36.,\n",
       "           6.,    11.,     9.,    16.,     8.,    12.,    11.,    33.,\n",
       "           7.,    11.,     8.,    13.,     8.,    16.,     6.,  1058.,\n",
       "           6.,     6.,   122.,     6.,    10.,     6.,     6.,     8.,\n",
       "           8.,     6.,   236.,    13.,    60.,     8.,     6.,    94.,\n",
       "          10.,     8.,   205.,     8.,     6.,     6.,     6.,     8.,\n",
       "           9.,     6.,     7.,     8.,    10.,     8.,     6.,    50.,\n",
       "           8.,    10.,   311.,     6.,    12.,   198.,    10.,     7.,\n",
       "          36.,    11.,     7.,     6.,     6.,    10.,     6.,     8.,\n",
       "           7.,     6.,     9.,     8.,     7.,    27.,     6.,     6.,\n",
       "          10.,     6.,     6.,     6.,     6.,     6.,     6.,    11.,\n",
       "           6.,     8.,     8.,     6.,     6.,     8.,     8.,     6.,\n",
       "           6.,    12.,   133.,    25.,     6.,     6.,     8.,    12.,\n",
       "           6.,     6.,     6.,     7.,     8.,     6.,     6.,     6.,\n",
       "           6.,     6.,     6.,     6.,     7.,     8.,     6.,     6.,\n",
       "           7.,     6.,     6.,     6.,    12.,    49.,     6.,     6.,\n",
       "           6.,     7.,     6.,    12.,     7.,     6.,     6.,     6.,\n",
       "           6.,     6.,     8.,     6.,     6.,     6.,     6.,     6.,\n",
       "           6.,     6.,     6.,     6.,     7.,     6.,     6.,     7.,\n",
       "           6.,     9.,     8.,     7.,   108.,   175.,     7.,     6.,\n",
       "           6.,     6.,     6.,     6.,     8.,   393.,     6.,     6.,\n",
       "           6.,     7.,     7.,     6.,     6.,     6.,     6.,     6.,\n",
       "           6.,     6.,     6.,     6.,     6.,     6.,     6.,     6.,\n",
       "           6.,     6.,     6.,     6.,     6.,     6.,     6.,     6.,\n",
       "           6.,     6.,     6.,     6.,     7.,     6.,     6.,     6.,\n",
       "           6.,     6.,     6.,     6.,     6.,     6.,     6.,     6.,\n",
       "           6.,     6.,     6.,     6.,     6.,     6.,     6.,     6.])"
      ]
     },
     "execution_count": 216,
     "metadata": {},
     "output_type": "execute_result"
    }
   ],
   "source": [
    "outcomes"
   ]
  },
  {
   "cell_type": "code",
   "execution_count": 217,
   "metadata": {},
   "outputs": [
    {
     "data": {
      "image/png": "[encoded data removed]",
      "text/plain": [
       "<matplotlib.figure.Figure at 0x7f053edddf28>"
      ]
     },
     "metadata": {},
     "output_type": "display_data"
    }
   ],
   "source": [
    "plt.plot(outcomes,'o-', label='RL Agent')\n",
    "plt.plot([0, len(outcomes)], [6, 6], 'r--', label='Shortest')\n",
    "plt.xlabel('Repetitions')\n",
    "plt.ylabel('Steps to Reach Goal')\n",
    "plt.legend();"
   ]
  },
  {
   "cell_type": "code",
   "execution_count": 218,
   "metadata": {},
   "outputs": [
    {
     "data": {
      "image/png": "[encoded data removed]",
      "text/plain": [
       "<matplotlib.figure.Figure at 0x7f053c6a6c18>"
      ]
     },
     "metadata": {},
     "output_type": "display_data"
    }
   ],
   "source": [
    "plt.figure(figsize=(10,10))\n",
    "Qnet.draw()"
   ]
  },
  {
   "cell_type": "code",
   "execution_count": 220,
   "metadata": {},
   "outputs": [
    {
     "data": {
      "text/plain": [
       "'%.3f'"
      ]
     },
     "execution_count": 220,
     "metadata": {},
     "output_type": "execute_result"
    }
   ],
   "source": [
    "%precision 3"
   ]
  },
  {
   "cell_type": "code",
   "execution_count": 221,
   "metadata": {},
   "outputs": [
    {
     "name": "stdout",
     "output_type": "stream",
     "text": [
      "[1, 1, 1, 1, 3] [[-7.001]]\n",
      "[3, 1, 1, 1, 2] [[-5.998]]\n",
      "[3, 2, 1, 3, 2] [[-4.998]]\n",
      "[2, 2, 1, 1, 3] [[-4.002]]\n",
      "[2, 2, 3, 2, 1] [[-2.999]]\n",
      "[1, 2, 3, 2, 3] [[-2.]]\n",
      "[1, 3, 3, 1, 3] [[-1.]]\n"
     ]
    }
   ],
   "source": [
    "for sa in [ [1,1,1, 1,3], [3,1,1, 1,2], [3,2,1, 3,2], [2,2,1, 1,3], [2,2,3, 2,1], [1,2,3, 2,3], [1,3,3, 1,3]]:\n",
    "    print(sa, Qnet.use(np.array([sa])))"
   ]
  },
  {
   "cell_type": "code",
   "execution_count": null,
   "metadata": {
    "collapsed": true
   },
   "outputs": [],
   "source": []
  },
  {
   "cell_type": "code",
   "execution_count": null,
   "metadata": {
    "collapsed": true
   },
   "outputs": [],
   "source": []
  }
 ],
 "metadata": {
  "kernelspec": {
   "display_name": "Python 3",
   "language": "python",
   "name": "python3"
  },
  "language_info": {
   "codemirror_mode": {
    "name": "ipython",
    "version": 3
   },
   "file_extension": ".py",
   "mimetype": "text/x-python",
   "name": "python",
   "nbconvert_exporter": "python",
   "pygments_lexer": "ipython3",
   "version": "3.6.3"
  }
 },
 "nbformat": 4,
 "nbformat_minor": 2
}
