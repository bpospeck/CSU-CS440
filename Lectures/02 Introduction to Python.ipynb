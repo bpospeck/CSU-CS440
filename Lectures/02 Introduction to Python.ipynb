{
 "cells": [
  {
   "cell_type": "markdown",
   "metadata": {},
   "source": [
    "# Why Python?\n",
    "\n",
    "  * Concise, intuitive programming language.  \n",
    "  * Ability to **play** with data and computation ideas.\n",
    "    * Data persistence\n",
    "    * Matrix, vector structures and operations are easy\n",
    "    * Interpreter, using same language as programs.\n",
    "    * Functional and object-oriented programming style\n",
    "  * Rich, easy-to-use visualization\n",
    "  * Fast computation. (See [Python Speed](http://wiki.python.org/moin/PythonSpeed))\n",
    "  * Large community of users and developers; **FREE**"
   ]
  },
  {
   "cell_type": "markdown",
   "metadata": {},
   "source": [
    "# What is Python?\n",
    "\n",
    "  * an open-source language and environment for computing and graphics\n",
    "  * started in 1989 by Guido van Rossum in the Netherlands\n",
    "  * is a multi-paradigm programming language\n",
    "  * has dynamic typing\n",
    "  * has garbage collection\n",
    "  * easily extensible in C, C++ and Fortran\n",
    "  * available for Unix, Windows, and MacOS systems\n",
    "  * is the [language of choice](https://medium.com/towards-data-science/what-is-the-best-programming-language-for-machine-learning-a745c156d6b7)  for many researchers in AI\n",
    "  * [jobs!](http://www.python.org/community/jobs/)"
   ]
  },
  {
   "cell_type": "markdown",
   "metadata": {},
   "source": [
    "# Installing and Running Python\n",
    "\n",
    "Python is installed on our department's systems.\n",
    "\n",
    "Download and install python on your own computer by following\n",
    "instructions at [http://www.python.org](http://www.python.org) or install the [Anaconda distribution](https://www.continuum.io/).\n",
    "\n",
    "On our systems, enter the `ipython` interactive environment with\n",
    "\n",
    "    ipython\n",
    "    \n",
    "To quit, type control-d\n",
    "\n",
    "To run python code in file `code.py`, either type\n",
    "\n",
    "    run code.py\n",
    "    \n",
    "in `ipython`, or type\n",
    "\n",
    "    python code.py\n",
    "    \n",
    "at the unix command prompt.\n",
    "\n",
    "When in the `ipython`, you may type python statements or expressions\n",
    "that are evaluated, or `ipython` commands.  See the\n",
    "[Video\n",
    "tutorial on using ipython](http://showmedo.com/videotutorials/video?name=1000010&fromSeriesID=100), in five parts by Jeff Rush, for help\n",
    "getting started with `ipython`.\n",
    "\n",
    "Here we will use the [jupyter notebook](http://jupyter.org/) to provide examples that you can download and run."
   ]
  },
  {
   "cell_type": "markdown",
   "metadata": {},
   "source": [
    "# Assigning values to variables"
   ]
  },
  {
   "cell_type": "code",
   "execution_count": null,
   "metadata": {
    "collapsed": false,
    "scrolled": true
   },
   "outputs": [],
   "source": [
    "x = 33\n",
    "y = 432.1\n",
    "x + y"
   ]
  },
  {
   "cell_type": "code",
   "execution_count": null,
   "metadata": {
    "collapsed": false
   },
   "outputs": [],
   "source": [
    "who"
   ]
  },
  {
   "cell_type": "code",
   "execution_count": null,
   "metadata": {
    "collapsed": false
   },
   "outputs": [],
   "source": [
    "whos"
   ]
  },
  {
   "cell_type": "code",
   "execution_count": null,
   "metadata": {
    "collapsed": true
   },
   "outputs": [],
   "source": [
    "me = 'chuck'\n",
    "you = 'jill'"
   ]
  },
  {
   "cell_type": "code",
   "execution_count": null,
   "metadata": {
    "collapsed": false
   },
   "outputs": [],
   "source": [
    "whos"
   ]
  },
  {
   "cell_type": "code",
   "execution_count": null,
   "metadata": {
    "collapsed": false
   },
   "outputs": [],
   "source": [
    "me + you"
   ]
  },
  {
   "cell_type": "code",
   "execution_count": null,
   "metadata": {
    "collapsed": false
   },
   "outputs": [],
   "source": [
    "me + ' ' + you"
   ]
  },
  {
   "cell_type": "markdown",
   "metadata": {},
   "source": [
    "# Defining and using functions"
   ]
  },
  {
   "cell_type": "code",
   "execution_count": null,
   "metadata": {
    "collapsed": true
   },
   "outputs": [],
   "source": [
    "def add(x, increment=1):\n",
    "    '''This is a very powerful addition function.\n",
    "    Usage:\n",
    "      >>> add(10)\n",
    "      11\n",
    "      >>> add(10, 3)\n",
    "      13'''\n",
    "    return x + increment    "
   ]
  },
  {
   "cell_type": "code",
   "execution_count": null,
   "metadata": {
    "collapsed": true
   },
   "outputs": [],
   "source": [
    "add?"
   ]
  },
  {
   "cell_type": "code",
   "execution_count": null,
   "metadata": {
    "collapsed": false
   },
   "outputs": [],
   "source": [
    "add(30)"
   ]
  },
  {
   "cell_type": "code",
   "execution_count": null,
   "metadata": {
    "collapsed": false
   },
   "outputs": [],
   "source": [
    "add(30, 100)"
   ]
  },
  {
   "cell_type": "markdown",
   "metadata": {},
   "source": [
    "# Random search for polynomial roots, using python\n",
    "\n",
    "Let's say you need to know, approximately, the roots of $x^3 - 4x^2 -11x + 30$.  What are they?\n",
    "\n",
    "You have a fast computer at your disposal, and python is installed on\n",
    "it.   What do you do?\n",
    "\n",
    "Define a function named `f` that takes one argument `x` and\n",
    "returns the value of the above polynomial."
   ]
  },
  {
   "cell_type": "code",
   "execution_count": null,
   "metadata": {
    "collapsed": true
   },
   "outputs": [],
   "source": [
    "def f(x):\n",
    "    return x**3 - 4 * x**2 - 11 * x + 30"
   ]
  },
  {
   "cell_type": "code",
   "execution_count": null,
   "metadata": {
    "collapsed": false
   },
   "outputs": [],
   "source": [
    "f(2.3)"
   ]
  },
  {
   "cell_type": "markdown",
   "metadata": {},
   "source": [
    "Now we need to figure out how to generate a random number, say between -10\n",
    "and 10, in python.  Try searching the net for `python random number`.  You soon discover the `random` module.\n",
    "\n",
    "Modules in python are defined by python source files.  The `random`\n",
    "module is defined in a file named `random.py`.  Where might it be on\n",
    "our system?  Try\n",
    "\n",
    "    locate random.py\n",
    "    \n",
    "On my computer I see it is in `/usr/lib64/python3.5`. Take a look at\n",
    "the file contents.\n",
    "\n",
    "To use this module, you must first import it.\n",
    "\n",
    "    import random\n",
    "    \n",
    "This interprets the contents of the file, defining variables,\n",
    "functions, and classes for your use during the python session.\n",
    "\n",
    "On the `random` module web page we found, you can read through the\n",
    "available functions, such as `uniform(a,b)` which generates a\n",
    "pseudo-random number between `a` and `b`.  Call it like\n",
    "\n",
    "    randomNumber = random.uniform(-10, 10)\n",
    "  \n",
    "because `uniform` lives in the module name's namespace."
   ]
  },
  {
   "cell_type": "markdown",
   "metadata": {},
   "source": [
    "Now we need a way to loop a number of times, each time generating a\n",
    "new pseudo-random number and testing it as the argument to our\n",
    "polynomial function `f`.  We can use a for loop, like"
   ]
  },
  {
   "cell_type": "code",
   "execution_count": null,
   "metadata": {
    "collapsed": false
   },
   "outputs": [],
   "source": [
    "for i in range(5):\n",
    "    print(i)"
   ]
  },
  {
   "cell_type": "markdown",
   "metadata": {},
   "source": [
    "`range(5)` produces a generator for the sequence `0, 1, 2, 3, 4`, so the same loop could\n",
    "be written"
   ]
  },
  {
   "cell_type": "code",
   "execution_count": null,
   "metadata": {
    "collapsed": false
   },
   "outputs": [],
   "source": [
    "for i in [0, 1, 2, 3, 4]:\n",
    "    print(i)"
   ]
  },
  {
   "cell_type": "markdown",
   "metadata": {},
   "source": [
    "Now, we are ready to try a bunch of random argument values."
   ]
  },
  {
   "cell_type": "code",
   "execution_count": null,
   "metadata": {
    "collapsed": true
   },
   "outputs": [],
   "source": [
    "import random"
   ]
  },
  {
   "cell_type": "code",
   "execution_count": null,
   "metadata": {
    "collapsed": false
   },
   "outputs": [],
   "source": [
    "for i in range(5):\n",
    "    x = random.uniform(-10, 10)\n",
    "    fx = f(x)\n",
    "    print(x, fx)"
   ]
  },
  {
   "cell_type": "markdown",
   "metadata": {},
   "source": [
    "Humm...we need to try many more $x$ values to find some for which\n",
    "$f(x)\\approx 0$.  And we must keep track of the $x$ value for which\n",
    "$|f(x)|$ is the closest to zero.  We could use two variables for this,\n",
    "one for the best $x$ and $f(x)$ so far, but let's do this in a more\n",
    "pythonic way...as a pair, or a tuple, like\n",
    "\n",
    "    bestSoFar = (x,fx)\n",
    "    \n",
    "The elements of a tuple cannot be modified, but they can be accessed\n",
    "by\n",
    "\n",
    "    bestSoFar[0]  # x\n",
    "    bestSoFar[1]  # f(x)\n",
    "    \n",
    "Lists can also be accessed this way.  Multiple elements can be\n",
    "accessed with slices."
   ]
  },
  {
   "cell_type": "code",
   "execution_count": null,
   "metadata": {
    "collapsed": false
   },
   "outputs": [],
   "source": [
    "nums = [0, 1, 2, 3, 4, 5]\n",
    "nums"
   ]
  },
  {
   "cell_type": "code",
   "execution_count": null,
   "metadata": {
    "collapsed": false
   },
   "outputs": [],
   "source": [
    "nums[2:4]"
   ]
  },
  {
   "cell_type": "code",
   "execution_count": null,
   "metadata": {
    "collapsed": false
   },
   "outputs": [],
   "source": [
    "nums[:3]"
   ]
  },
  {
   "cell_type": "code",
   "execution_count": null,
   "metadata": {
    "collapsed": false
   },
   "outputs": [],
   "source": [
    "nums[2:]"
   ]
  },
  {
   "cell_type": "markdown",
   "metadata": {},
   "source": [
    "Okay, so now we have `x`, `fx`, and `bestSoFar`.  How do we test\n",
    "to see if we have a new best result and then update `bestSoFar`?\n",
    "\n",
    "Develop your python thoughts in small steps, testing each piece."
   ]
  },
  {
   "cell_type": "code",
   "execution_count": null,
   "metadata": {
    "collapsed": false
   },
   "outputs": [],
   "source": [
    "firstx = 0\n",
    "bestSoFar = (firstx, f(firstx))\n",
    "bestSoFar"
   ]
  },
  {
   "cell_type": "code",
   "execution_count": null,
   "metadata": {
    "collapsed": false
   },
   "outputs": [],
   "source": [
    "newx = 3\n",
    "fx = f(newx)\n",
    "fx"
   ]
  },
  {
   "cell_type": "markdown",
   "metadata": {},
   "source": [
    "Which value for $x$ is better, 30 or -12?"
   ]
  },
  {
   "cell_type": "code",
   "execution_count": null,
   "metadata": {
    "collapsed": false
   },
   "outputs": [],
   "source": [
    "abs(fx) < abs(bestSoFar[1])"
   ]
  },
  {
   "cell_type": "markdown",
   "metadata": {},
   "source": [
    "So, we can update `bestSoFar` using\n",
    "\n",
    "    if abs(fx) < abs(bestSoFar[1]):\n",
    "        bestSoFar = (x, fx)\n",
    "        \n",
    "It's just that simple.\n",
    "\n",
    "Now, putting the pieces together, the complete python code to find the value of $x$ from a set of 100 random values for which $f(x)$ is closest to zero, we do the following."
   ]
  },
  {
   "cell_type": "code",
   "execution_count": null,
   "metadata": {
    "collapsed": true
   },
   "outputs": [],
   "source": [
    "import random\n",
    "\n",
    "def f(x):\n",
    "    return x**3 - 4*x**2 - 11*x + 30\n",
    "\n",
    "bestSoFar = (0, f(0))\n",
    "\n",
    "for step in range(100):\n",
    "    x = random.uniform(-10, 10)\n",
    "    fx = f(x)\n",
    "    if (abs(fx) < abs(bestSoFar[1])):\n",
    "        bestSoFar = (x, fx)"
   ]
  },
  {
   "cell_type": "code",
   "execution_count": null,
   "metadata": {
    "collapsed": false
   },
   "outputs": [],
   "source": [
    "bestSoFar"
   ]
  },
  {
   "cell_type": "markdown",
   "metadata": {},
   "source": [
    "Not such a great root value.  $f(x)$ is not very close to zero.\n",
    "\n",
    "Let's try 10000 random numbers."
   ]
  },
  {
   "cell_type": "code",
   "execution_count": null,
   "metadata": {
    "collapsed": true
   },
   "outputs": [],
   "source": [
    "bestSoFar = (0, f(0))\n",
    "\n",
    "for step in range(1000):\n",
    "    x = random.uniform(-10, 10)\n",
    "    fx = f(x)\n",
    "    if (abs(fx) < abs(bestSoFar[1])):\n",
    "        bestSoFar = (x, fx)"
   ]
  },
  {
   "cell_type": "code",
   "execution_count": null,
   "metadata": {
    "collapsed": false
   },
   "outputs": [],
   "source": [
    "bestSoFar"
   ]
  },
  {
   "cell_type": "markdown",
   "metadata": {},
   "source": [
    "That's better.  Try again with more numbers?  But this is getting tedious. Let's write a function to do this that takes\n",
    "one argument as the number of values of $x$ to try.\n",
    "\n",
    "Also, let's include an argument that accepts the function for which we want\n",
    "to find a root.  How do you pass a function into another function as\n",
    "an argument?\n",
    "\n",
    "We will do this in class. First, download this jupyter notebook. Then, run\n",
    "\n",
    "     jupyter notebook\n",
    "     \n",
    "open this notebook, then scroll down to this cell and define and test the function."
   ]
  },
  {
   "cell_type": "code",
   "execution_count": null,
   "metadata": {
    "collapsed": true
   },
   "outputs": [],
   "source": [
    "def findRoot(f, xmin, xmax, n=1000):\n",
    "    bestSoFar = (0, f(0))\n",
    "    for step in range(n):\n",
    "        x = random.uniform(xmin, xmax)\n",
    "        fx = f(x)\n",
    "        if (abs(fx) < abs(bestSoFar[1])):\n",
    "            bestSoFar = (x, fx)\n",
    "    return bestSoFar"
   ]
  },
  {
   "cell_type": "code",
   "execution_count": null,
   "metadata": {
    "collapsed": false
   },
   "outputs": [],
   "source": [
    "findRoot(f, -10, 10, 100000)"
   ]
  },
  {
   "cell_type": "markdown",
   "metadata": {},
   "source": [
    "# Plotting\n",
    "\n",
    "Now for some fun.  Let's plot the progress of our search by collecting\n",
    "the `bestSoFar` values every time they are updated.  How do we plot\n",
    "in python?  Again, you can search the net.  To speed things up, here\n",
    "is an example.\n",
    "\n",
    "    import matplotlib.pyplot as plt\n",
    "    plt.ion()  #interactive plotting on\n",
    "    plt.plot(range(10), 'o-')\n",
    "    \n",
    "In this jupyter notebook, we will specify the plots to be inline, rather than calling `plt.ion()`."
   ]
  },
  {
   "cell_type": "code",
   "execution_count": null,
   "metadata": {
    "collapsed": true
   },
   "outputs": [],
   "source": [
    "import matplotlib.pyplot as plt\n",
    "%matplotlib inline"
   ]
  },
  {
   "cell_type": "code",
   "execution_count": null,
   "metadata": {
    "collapsed": false
   },
   "outputs": [],
   "source": [
    "plt.plot(range(10), 'o-')"
   ]
  },
  {
   "cell_type": "markdown",
   "metadata": {},
   "source": [
    "Ta-da!  A plot!  The x-axis values were assumed to be $0,\\ldots,n$\n",
    "where $n$ is the number of values given as the first argument.\n",
    "\n",
    "Here is another example.  Let's plot the values of the sine function,\n",
    "which is defined in the `numpy` module.  We will also make use of the\n",
    "`linspace` function in the `numpy` module to generate some $x$\n",
    "values, and the `sin` function."
   ]
  },
  {
   "cell_type": "code",
   "execution_count": null,
   "metadata": {
    "collapsed": false
   },
   "outputs": [],
   "source": [
    "import numpy as np\n",
    "\n",
    "xs = np.linspace(-10,10,100)\n",
    "plt.plot(xs,np.sin(xs))"
   ]
  },
  {
   "cell_type": "markdown",
   "metadata": {},
   "source": [
    "If we were working from inside the `ipython` environment, this adds the sine curve to the current plot.  We could first clear\n",
    "the figure by doing\n",
    "\n",
    "    plt.clf()"
   ]
  },
  {
   "cell_type": "markdown",
   "metadata": {},
   "source": [
    "Now, to collect the `bestSoFar` values.  Let's just build up a list\n",
    "called `trace` by adding the new value of `bestSoFar` whenever it\n",
    "is changed.  Can use the `append` list method for this.\n",
    "\n",
    "    trace.append(bestSoFar)\n",
    "    \n",
    "assuming `trace` was initialized.\n",
    "\n",
    "Here is a function for this.  Let's put it with the import statements\n",
    "in a python source file, named `findRoot.py`. Notice that the function returns two things, the\n",
    "`bestSoFar` pair, and the `trace`, as a tuple."
   ]
  },
  {
   "cell_type": "code",
   "execution_count": null,
   "metadata": {
    "collapsed": true
   },
   "outputs": [],
   "source": [
    "import random\n",
    "import matplotlib.pyplot as plt\n",
    "\n",
    "def findRoot(f, xmin, xmax, maxSteps=1000):\n",
    "    bestSoFar = (0, f(0))\n",
    "    trace = [bestSoFar]\n",
    "    for step in range(maxSteps):\n",
    "        x = random.uniform(xmin, xmax)\n",
    "        fx = f(x)\n",
    "        if (abs(fx) < abs(bestSoFar[1])):\n",
    "            bestSoFar = (x,fx)\n",
    "            trace.append(bestSoFar)\n",
    "    return (bestSoFar, trace)"
   ]
  },
  {
   "cell_type": "code",
   "execution_count": null,
   "metadata": {
    "collapsed": false
   },
   "outputs": [],
   "source": [
    "findRoot(f, -10, 10, 100)"
   ]
  },
  {
   "cell_type": "markdown",
   "metadata": {},
   "source": [
    "Now we see this function returned the best guess at the root, but it also returned the sequence of best guesses so far."
   ]
  },
  {
   "cell_type": "markdown",
   "metadata": {},
   "source": [
    "From this notebook, we can write this code into a file named `findRoot.py`."
   ]
  },
  {
   "cell_type": "code",
   "execution_count": null,
   "metadata": {
    "collapsed": false
   },
   "outputs": [],
   "source": [
    "%%writefile findRoot.py\n",
    "import random\n",
    "import matplotlib.pyplot as plt\n",
    "\n",
    "def findRoot(f, xmin, xmax, maxSteps=1000):\n",
    "    bestSoFar = (0, f(0))\n",
    "    trace = [bestSoFar]\n",
    "    for step in range(maxSteps):\n",
    "        x = random.uniform(xmin, xmax)\n",
    "        fx = f(x)\n",
    "        if (abs(fx) < abs(bestSoFar[1])):\n",
    "            bestSoFar = (x,fx)\n",
    "            trace.append(bestSoFar)\n",
    "    return (bestSoFar, trace)"
   ]
  },
  {
   "cell_type": "markdown",
   "metadata": {},
   "source": [
    "This file can be loaded\n",
    "into `ipython` and used as shown here."
   ]
  },
  {
   "cell_type": "code",
   "execution_count": null,
   "metadata": {
    "collapsed": true
   },
   "outputs": [],
   "source": [
    "import findRoot"
   ]
  },
  {
   "cell_type": "code",
   "execution_count": null,
   "metadata": {
    "collapsed": true
   },
   "outputs": [],
   "source": [
    "def f(x):\n",
    "    return x**3 - 4 * x**2 - 11 * x + 30"
   ]
  },
  {
   "cell_type": "code",
   "execution_count": null,
   "metadata": {
    "collapsed": false
   },
   "outputs": [],
   "source": [
    "findRoot.findRoot(f, -10, 10, 1000)"
   ]
  },
  {
   "cell_type": "markdown",
   "metadata": {},
   "source": [
    "What we want to plot is the second of each pair in the list that is\n",
    "the second thing returned.  \n",
    "\n",
    "Hummm...here is a chance to show the\n",
    "beauty of list comprehensions.  Remember set notation?  What is the\n",
    "set $\\{x^2 | x \\in \\mathcal{N}, x < 10\\}$?  List comprehensions mimic this\n",
    "notation.  The same set in python is"
   ]
  },
  {
   "cell_type": "code",
   "execution_count": null,
   "metadata": {
    "collapsed": false
   },
   "outputs": [],
   "source": [
    "[x**2 for x in range(10)]"
   ]
  },
  {
   "cell_type": "markdown",
   "metadata": {},
   "source": [
    "Now, if we assign the result of `findRoot`, like"
   ]
  },
  {
   "cell_type": "code",
   "execution_count": null,
   "metadata": {
    "collapsed": true
   },
   "outputs": [],
   "source": [
    "result = findRoot.findRoot(f, -10, 10, 10000)"
   ]
  },
  {
   "cell_type": "markdown",
   "metadata": {},
   "source": [
    "we can collect just the best $f(x)$ values by"
   ]
  },
  {
   "cell_type": "code",
   "execution_count": null,
   "metadata": {
    "collapsed": false
   },
   "outputs": [],
   "source": [
    "values = [a[1] for a in result[1]]\n",
    "values"
   ]
  },
  {
   "cell_type": "markdown",
   "metadata": {},
   "source": [
    "and these can be plotted like"
   ]
  },
  {
   "cell_type": "code",
   "execution_count": null,
   "metadata": {
    "collapsed": false
   },
   "outputs": [],
   "source": [
    "plt.plot(values, 'o-')\n",
    "plt.plot([0, len(values)-1], [0, 0], 'r--')"
   ]
  },
  {
   "cell_type": "markdown",
   "metadata": {},
   "source": [
    "We computer scientists are all about testing our code, right?  So, for\n",
    "every module (meaning every python source file) you write, you should\n",
    "include some testing code.  An easy way to do this is to add some\n",
    "statements at the end of the file that call the functions defined\n",
    "above.  We don't want these called every time you import your file,\n",
    "though.  Only when it is run, by doing\n",
    "\n",
    "    run findRoot\n",
    "    \n",
    "in `ipython`, or by doing\n",
    "\n",
    "    python findRoot.py\n",
    "    \n",
    "from the unix command line.  When your code is run by either of these,\n",
    "the variable `__name__` has the string value\n",
    "`__main__`, so the testing code can be in the true block of\n",
    "an if statement that checks this.  The whole file is now"
   ]
  },
  {
   "cell_type": "code",
   "execution_count": null,
   "metadata": {
    "collapsed": false
   },
   "outputs": [],
   "source": [
    "%%writefile findRoot.py\n",
    "import random\n",
    "import matplotlib.pyplot as plt\n",
    "\n",
    "def findRoot(f, xmin, xmax, maxSteps=1000):\n",
    "    bestSoFar = (0, f(0))\n",
    "    trace = [bestSoFar]\n",
    "    for step in range(maxSteps):\n",
    "        x = random.uniform(xmin, xmax)\n",
    "        fx = f(x)\n",
    "        if (abs(fx) < abs(bestSoFar[1])):\n",
    "            bestSoFar = (x, fx)\n",
    "            trace.append(bestSoFar)\n",
    "    return (bestSoFar, trace)\n",
    "\n",
    "if __name__ == '__main__':\n",
    "    \n",
    "    def f(x):\n",
    "        return x**3 - 4*x**2 - 11*x + 30\n",
    "    \n",
    "    result = findRoot(f, -10, 10, 10000)\n",
    "    print(result)\n",
    "    values = [bests[1] for bests in result[1]]\n",
    "    plt.plot(values,'o-')\n",
    "    plt.plot([0, len(values)-1], [0, 0], 'r--')"
   ]
  },
  {
   "cell_type": "code",
   "execution_count": null,
   "metadata": {
    "collapsed": true
   },
   "outputs": [],
   "source": [
    "import findRoot"
   ]
  },
  {
   "cell_type": "code",
   "execution_count": null,
   "metadata": {
    "collapsed": false
   },
   "outputs": [],
   "source": [
    "run findRoot"
   ]
  },
  {
   "cell_type": "markdown",
   "metadata": {},
   "source": [
    "# Dictionaries"
   ]
  },
  {
   "cell_type": "markdown",
   "metadata": {},
   "source": [
    "Python inludes a very efficient implementation of associative maps,\n",
    "which are called *dictionaries* in python.  Each entry has a key and\n",
    "a value.  Keys must only be immutable objects.  \n",
    "\n",
    "Here is a dictionary for associating grades with people.  The key is a\n",
    "string."
   ]
  },
  {
   "cell_type": "code",
   "execution_count": null,
   "metadata": {
    "collapsed": false
   },
   "outputs": [],
   "source": [
    "grades = {'Jim' : 88.2, 'Kim': 93, 'Slim': 75.2}\n",
    "grades"
   ]
  },
  {
   "cell_type": "code",
   "execution_count": null,
   "metadata": {
    "collapsed": false
   },
   "outputs": [],
   "source": [
    "grades['Jim']"
   ]
  },
  {
   "cell_type": "code",
   "execution_count": null,
   "metadata": {
    "collapsed": true
   },
   "outputs": [],
   "source": [
    "grades['Kim'] = 94.2"
   ]
  },
  {
   "cell_type": "code",
   "execution_count": null,
   "metadata": {
    "collapsed": false
   },
   "outputs": [],
   "source": [
    "grades"
   ]
  },
  {
   "cell_type": "code",
   "execution_count": null,
   "metadata": {
    "collapsed": true
   },
   "outputs": [],
   "source": [
    "grades['Wim'] = 52"
   ]
  },
  {
   "cell_type": "code",
   "execution_count": null,
   "metadata": {
    "collapsed": false
   },
   "outputs": [],
   "source": [
    "grades"
   ]
  },
  {
   "cell_type": "code",
   "execution_count": null,
   "metadata": {
    "collapsed": false
   },
   "outputs": [],
   "source": [
    "grades['Nim']"
   ]
  },
  {
   "cell_type": "code",
   "execution_count": null,
   "metadata": {
    "collapsed": false
   },
   "outputs": [],
   "source": [
    "for k, v in grades.items():\n",
    "    print(k,v)"
   ]
  },
  {
   "cell_type": "markdown",
   "metadata": {},
   "source": [
    "# Pass by reference versus pass by value"
   ]
  },
  {
   "cell_type": "markdown",
   "metadata": {},
   "source": [
    "Most everything in python is a reference, except primitive types.  So"
   ]
  },
  {
   "cell_type": "code",
   "execution_count": null,
   "metadata": {
    "collapsed": false
   },
   "outputs": [],
   "source": [
    "x = [1, 2]\n",
    "x"
   ]
  },
  {
   "cell_type": "code",
   "execution_count": null,
   "metadata": {
    "collapsed": false
   },
   "outputs": [],
   "source": [
    "y = x\n",
    "y"
   ]
  },
  {
   "cell_type": "code",
   "execution_count": null,
   "metadata": {
    "collapsed": false
   },
   "outputs": [],
   "source": [
    "y.append(3)\n",
    "y"
   ]
  },
  {
   "cell_type": "code",
   "execution_count": null,
   "metadata": {
    "collapsed": false
   },
   "outputs": [],
   "source": [
    "x"
   ]
  },
  {
   "cell_type": "markdown",
   "metadata": {},
   "source": [
    "Careful, though.  When concatenating two lists with `+`, copies are\n",
    "made."
   ]
  },
  {
   "cell_type": "code",
   "execution_count": null,
   "metadata": {
    "collapsed": false
   },
   "outputs": [],
   "source": [
    "x = [1, 2]\n",
    "x"
   ]
  },
  {
   "cell_type": "code",
   "execution_count": null,
   "metadata": {
    "collapsed": false
   },
   "outputs": [],
   "source": [
    "y = x\n",
    "y"
   ]
  },
  {
   "cell_type": "code",
   "execution_count": null,
   "metadata": {
    "collapsed": false
   },
   "outputs": [],
   "source": [
    "y = y + [3]\n",
    "y"
   ]
  },
  {
   "cell_type": "code",
   "execution_count": null,
   "metadata": {
    "collapsed": false
   },
   "outputs": [],
   "source": [
    "x"
   ]
  },
  {
   "cell_type": "markdown",
   "metadata": {},
   "source": [
    "With primitive types, the result is more what you would expect."
   ]
  },
  {
   "cell_type": "code",
   "execution_count": null,
   "metadata": {
    "collapsed": false
   },
   "outputs": [],
   "source": [
    "x = 42\n",
    "x"
   ]
  },
  {
   "cell_type": "code",
   "execution_count": null,
   "metadata": {
    "collapsed": false
   },
   "outputs": [],
   "source": [
    "y = x\n",
    "y"
   ]
  },
  {
   "cell_type": "code",
   "execution_count": null,
   "metadata": {
    "collapsed": false
   },
   "outputs": [],
   "source": [
    "y += 1\n",
    "y"
   ]
  },
  {
   "cell_type": "code",
   "execution_count": null,
   "metadata": {
    "collapsed": false
   },
   "outputs": [],
   "source": [
    "x"
   ]
  },
  {
   "cell_type": "markdown",
   "metadata": {},
   "source": [
    "Therefore, passing arguments to functions is by reference except for\n",
    "primitive types."
   ]
  },
  {
   "cell_type": "code",
   "execution_count": null,
   "metadata": {
    "collapsed": false
   },
   "outputs": [],
   "source": [
    "def changeInt(x):\n",
    "    x = x + 2\n",
    "    print('In changeInt', x)\n",
    "\n",
    "def changeStr(s):\n",
    "    s = s + ' you'\n",
    "    print('In changeStr', s)\n",
    "\n",
    "def changeList(lst):\n",
    "    lst = lst + [23, 52.0]\n",
    "    print('In changeList', lst)\n",
    "\n",
    "def changeList2(lst):\n",
    "    lst.append([23, 52.0])\n",
    "    print('In changeList2', lst)\n",
    "\n",
    "def changeDict(dict):\n",
    "    dict['newone'] = 42\n",
    "    print('In changeDict', dict)"
   ]
  },
  {
   "cell_type": "code",
   "execution_count": null,
   "metadata": {
    "collapsed": true
   },
   "outputs": [],
   "source": [
    "num = 33\n",
    "s = \"hello\"\n",
    "lst = [1, 2, 3]\n",
    "dict = {'a':34, 'b':22}"
   ]
  },
  {
   "cell_type": "code",
   "execution_count": null,
   "metadata": {
    "collapsed": false
   },
   "outputs": [],
   "source": [
    "print(num)\n",
    "changeInt(num)\n",
    "print(num)\n",
    "print()\n",
    "\n",
    "print(s)\n",
    "changeStr(s)\n",
    "print(s)\n",
    "print()\n",
    "\n",
    "print(lst)\n",
    "changeList(lst)\n",
    "print(lst)\n",
    "print()\n",
    "\n",
    "print(lst)\n",
    "changeList2(lst)\n",
    "print(lst)\n",
    "print()\n",
    "\n",
    "print(dict)\n",
    "changeDict(dict)\n",
    "print(dict)\n",
    "print()"
   ]
  },
  {
   "cell_type": "markdown",
   "metadata": {},
   "source": [
    "# Writing and debugging a module\n",
    "\n",
    "Say you are editing some python code in a file named `search.py` and\n",
    "you write some test code in a file named\n",
    "`testSearch.py`.  You want to `run testSearch.py` or use\n",
    "`control-c control-c` in emacs to repeatedly run the test code after\n",
    "editing `search.py`.  You must force python to reload the search\n",
    "module by starting `testSearch.py` with\n",
    "\n",
    "    import search\n",
    "    import imp\n",
    "    imp.reload(search)"
   ]
  },
  {
   "cell_type": "markdown",
   "metadata": {},
   "source": [
    "# Confusing scope of variables\n",
    "\n",
    "In most languages, since"
   ]
  },
  {
   "cell_type": "code",
   "execution_count": null,
   "metadata": {
    "collapsed": true
   },
   "outputs": [],
   "source": [
    "x = 20\n",
    "def addTen():\n",
    "    print(x + 10)"
   ]
  },
  {
   "cell_type": "code",
   "execution_count": null,
   "metadata": {
    "collapsed": false
   },
   "outputs": [],
   "source": [
    "addTen()"
   ]
  },
  {
   "cell_type": "markdown",
   "metadata": {},
   "source": [
    "works, you would expect"
   ]
  },
  {
   "cell_type": "code",
   "execution_count": null,
   "metadata": {
    "collapsed": true
   },
   "outputs": [],
   "source": [
    "x = 20\n",
    "def addTen():\n",
    "    x = x + 10"
   ]
  },
  {
   "cell_type": "markdown",
   "metadata": {},
   "source": [
    "to work, too, but"
   ]
  },
  {
   "cell_type": "code",
   "execution_count": null,
   "metadata": {
    "collapsed": false
   },
   "outputs": [],
   "source": [
    "addTen()"
   ]
  },
  {
   "cell_type": "markdown",
   "metadata": {},
   "source": [
    "What's going on?\n",
    "\n",
    "The assignment to `x` in the second function forces `x` to be\n",
    "local to the function, therefore its use on the right-hand side is\n",
    "referencing a local variable that does not have a value yet.  The\n",
    "first version of the function does not assign to `x` so uses the\n",
    "reference to `x` defined outside the function.  If you want to\n",
    "change `x` in the outer environment, then you must set its value\n",
    "using a returned result, or add a `global` statement."
   ]
  },
  {
   "cell_type": "code",
   "execution_count": null,
   "metadata": {
    "collapsed": true
   },
   "outputs": [],
   "source": [
    "def addTen():\n",
    "    return x + 10"
   ]
  },
  {
   "cell_type": "code",
   "execution_count": null,
   "metadata": {
    "collapsed": false
   },
   "outputs": [],
   "source": [
    "x"
   ]
  },
  {
   "cell_type": "code",
   "execution_count": null,
   "metadata": {
    "collapsed": false
   },
   "outputs": [],
   "source": [
    "x = addTen()\n",
    "x"
   ]
  },
  {
   "cell_type": "markdown",
   "metadata": {},
   "source": [
    "Watch out!  This still messes me up from time to time."
   ]
  },
  {
   "cell_type": "markdown",
   "metadata": {},
   "source": [
    "# Passing by reference  is great, except when it's not\n",
    "\n",
    "Data structures like lists are easily changed in a function.  Here is\n",
    "one."
   ]
  },
  {
   "cell_type": "code",
   "execution_count": null,
   "metadata": {
    "collapsed": true
   },
   "outputs": [],
   "source": [
    "def removeLast(stuff):\n",
    "    return stuff.pop()"
   ]
  },
  {
   "cell_type": "code",
   "execution_count": null,
   "metadata": {
    "collapsed": true
   },
   "outputs": [],
   "source": [
    "nums = range(10)"
   ]
  },
  {
   "cell_type": "code",
   "execution_count": null,
   "metadata": {
    "collapsed": false
   },
   "outputs": [],
   "source": [
    "nums"
   ]
  },
  {
   "cell_type": "code",
   "execution_count": null,
   "metadata": {
    "collapsed": true
   },
   "outputs": [],
   "source": [
    "nums = list(range(10))"
   ]
  },
  {
   "cell_type": "code",
   "execution_count": null,
   "metadata": {
    "collapsed": false
   },
   "outputs": [],
   "source": [
    "nums"
   ]
  },
  {
   "cell_type": "code",
   "execution_count": null,
   "metadata": {
    "collapsed": false
   },
   "outputs": [],
   "source": [
    "removeLast(nums)"
   ]
  },
  {
   "cell_type": "code",
   "execution_count": null,
   "metadata": {
    "collapsed": false
   },
   "outputs": [],
   "source": [
    "removeLast(nums)"
   ]
  },
  {
   "cell_type": "code",
   "execution_count": null,
   "metadata": {
    "collapsed": false
   },
   "outputs": [],
   "source": [
    "removeLast(nums)"
   ]
  },
  {
   "cell_type": "code",
   "execution_count": null,
   "metadata": {
    "collapsed": false
   },
   "outputs": [],
   "source": [
    "nums"
   ]
  },
  {
   "cell_type": "markdown",
   "metadata": {},
   "source": [
    "Now let's try appending elements."
   ]
  },
  {
   "cell_type": "code",
   "execution_count": null,
   "metadata": {
    "collapsed": true
   },
   "outputs": [],
   "source": [
    "def addToEnd(stuff, item):\n",
    "    stuff.append(item)"
   ]
  },
  {
   "cell_type": "code",
   "execution_count": null,
   "metadata": {
    "collapsed": true
   },
   "outputs": [],
   "source": [
    "addToEnd(nums, 10)"
   ]
  },
  {
   "cell_type": "code",
   "execution_count": null,
   "metadata": {
    "collapsed": false
   },
   "outputs": [],
   "source": [
    "nums"
   ]
  },
  {
   "cell_type": "markdown",
   "metadata": {},
   "source": [
    "Okay.  Let's add more than one element."
   ]
  },
  {
   "cell_type": "code",
   "execution_count": null,
   "metadata": {
    "collapsed": true
   },
   "outputs": [],
   "source": [
    "def addToEnd(stuff, items):\n",
    "    stuff = stuff + items  # or stuff += items"
   ]
  },
  {
   "cell_type": "code",
   "execution_count": null,
   "metadata": {
    "collapsed": true
   },
   "outputs": [],
   "source": [
    "addToEnd(nums, [20, 21])"
   ]
  },
  {
   "cell_type": "code",
   "execution_count": null,
   "metadata": {
    "collapsed": false
   },
   "outputs": [],
   "source": [
    "nums"
   ]
  },
  {
   "cell_type": "markdown",
   "metadata": {},
   "source": [
    "Rats!  What's going on?\n",
    "\n",
    "The `+` operator on lists creates a new list rather than modifying\n",
    "the old list.  And the reference to the new list is assigned to the\n",
    "local variable `stuff`.  So, `stuff` first referred to the\n",
    "`nums` list which was used on the right hand side of the assignment,\n",
    "but then `stuff` was reassigned to refer to the new list.  What do\n",
    "you do if you want to change `nums`?"
   ]
  },
  {
   "cell_type": "code",
   "execution_count": null,
   "metadata": {
    "collapsed": true
   },
   "outputs": [],
   "source": [
    "def addToEnd(stuff, items):\n",
    "    return stuff + items"
   ]
  },
  {
   "cell_type": "code",
   "execution_count": null,
   "metadata": {
    "collapsed": false
   },
   "outputs": [],
   "source": [
    "addToEnd(nums, [20, 21])"
   ]
  },
  {
   "cell_type": "markdown",
   "metadata": {},
   "source": [
    "Oops.  Oh yeah . . ."
   ]
  },
  {
   "cell_type": "code",
   "execution_count": null,
   "metadata": {
    "collapsed": true
   },
   "outputs": [],
   "source": [
    "nums = addToEnd(nums, [20, 21])"
   ]
  },
  {
   "cell_type": "code",
   "execution_count": null,
   "metadata": {
    "collapsed": false
   },
   "outputs": [],
   "source": [
    "nums"
   ]
  },
  {
   "cell_type": "markdown",
   "metadata": {},
   "source": [
    "Let's say we use a list to represent the state of a search problem.\n",
    "We write a function to modify the state in several ways, to represent\n",
    "the successors of that state.  As an example, let's just add 1 to an\n",
    "element."
   ]
  },
  {
   "cell_type": "code",
   "execution_count": null,
   "metadata": {
    "collapsed": true
   },
   "outputs": [],
   "source": [
    "def addOne(state, index):\n",
    "    state[index] = state[index] + 1  # or state[index] += 1"
   ]
  },
  {
   "cell_type": "code",
   "execution_count": null,
   "metadata": {
    "collapsed": false
   },
   "outputs": [],
   "source": [
    "state = [1, 2, 3]\n",
    "state"
   ]
  },
  {
   "cell_type": "code",
   "execution_count": null,
   "metadata": {
    "collapsed": true
   },
   "outputs": [],
   "source": [
    "addOne(state, 0)"
   ]
  },
  {
   "cell_type": "code",
   "execution_count": null,
   "metadata": {
    "collapsed": false
   },
   "outputs": [],
   "source": [
    "state"
   ]
  },
  {
   "cell_type": "markdown",
   "metadata": {},
   "source": [
    "That works. But now `state` does not have its original value."
   ]
  },
  {
   "cell_type": "code",
   "execution_count": null,
   "metadata": {
    "collapsed": true
   },
   "outputs": [],
   "source": [
    "addOne(state, 1)"
   ]
  },
  {
   "cell_type": "code",
   "execution_count": null,
   "metadata": {
    "collapsed": false
   },
   "outputs": [],
   "source": [
    "state"
   ]
  },
  {
   "cell_type": "markdown",
   "metadata": {},
   "source": [
    "If you want to keep it, you can always store the original state in a separate variable, right?"
   ]
  },
  {
   "cell_type": "code",
   "execution_count": null,
   "metadata": {
    "collapsed": true
   },
   "outputs": [],
   "source": [
    "origState = [1, 2, 3]"
   ]
  },
  {
   "cell_type": "code",
   "execution_count": null,
   "metadata": {
    "collapsed": true
   },
   "outputs": [],
   "source": [
    "state = origState"
   ]
  },
  {
   "cell_type": "code",
   "execution_count": null,
   "metadata": {
    "collapsed": true
   },
   "outputs": [],
   "source": [
    "addOne(state, 0)"
   ]
  },
  {
   "cell_type": "code",
   "execution_count": null,
   "metadata": {
    "collapsed": false
   },
   "outputs": [],
   "source": [
    "state"
   ]
  },
  {
   "cell_type": "code",
   "execution_count": null,
   "metadata": {
    "collapsed": false
   },
   "outputs": [],
   "source": [
    "origState"
   ]
  },
  {
   "cell_type": "markdown",
   "metadata": {},
   "source": [
    "Doh!  `origState` and `state` are references to the same object.\n",
    "Solution is to use the `copy` function. (See the [documentation](http://docs.python.org/library/copy.html))."
   ]
  },
  {
   "cell_type": "code",
   "execution_count": null,
   "metadata": {
    "collapsed": true
   },
   "outputs": [],
   "source": [
    "import copy"
   ]
  },
  {
   "cell_type": "code",
   "execution_count": null,
   "metadata": {
    "collapsed": true
   },
   "outputs": [],
   "source": [
    "origState = [1, 2, 3]\n",
    "state = copy.copy(origState)\n",
    "addOne(state, 0)"
   ]
  },
  {
   "cell_type": "code",
   "execution_count": null,
   "metadata": {
    "collapsed": false
   },
   "outputs": [],
   "source": [
    "state"
   ]
  },
  {
   "cell_type": "code",
   "execution_count": null,
   "metadata": {
    "collapsed": false
   },
   "outputs": [],
   "source": [
    "origState"
   ]
  },
  {
   "cell_type": "markdown",
   "metadata": {},
   "source": [
    "Now, let's get fancy and use a list comprehension to create a list of\n",
    "all ways of adding 1 to the elements of the state."
   ]
  },
  {
   "cell_type": "code",
   "execution_count": null,
   "metadata": {
    "collapsed": false
   },
   "outputs": [],
   "source": [
    "[addOne(copy.copy(state), i) for i in range(len(state))]"
   ]
  },
  {
   "cell_type": "markdown",
   "metadata": {},
   "source": [
    "Arrgh!  What happened?  `None` was returned by `addOne`.  Why?\n",
    "Because we didn't return anything!\n",
    "\n",
    "Try again."
   ]
  },
  {
   "cell_type": "code",
   "execution_count": null,
   "metadata": {
    "collapsed": true
   },
   "outputs": [],
   "source": [
    "def addOne(state, index):\n",
    "    state[index] += 1\n",
    "    return state"
   ]
  },
  {
   "cell_type": "code",
   "execution_count": null,
   "metadata": {
    "collapsed": true
   },
   "outputs": [],
   "source": [
    "state = [1, 2, 3]"
   ]
  },
  {
   "cell_type": "code",
   "execution_count": null,
   "metadata": {
    "collapsed": false
   },
   "outputs": [],
   "source": [
    "[addOne(copy.copy(state), i) for i in range(len(state))]"
   ]
  },
  {
   "cell_type": "markdown",
   "metadata": {},
   "source": [
    "# Should we remove an element from the beginning or the end of a list?\n",
    "\n",
    "Which end of a list is it faster to `pop` from?  Remember your linked lists? \n",
    "\n",
    "Use the ipython\n",
    "magic function `timeit`."
   ]
  },
  {
   "cell_type": "code",
   "execution_count": null,
   "metadata": {
    "collapsed": true
   },
   "outputs": [],
   "source": [
    "def testPopFront():\n",
    "    x = list(range(10000))\n",
    "    for i in range(100):\n",
    "        x.pop(0)\n",
    "        \n",
    "def testPopBack():\n",
    "    x = list(range(10000))\n",
    "    for i in range(100):\n",
    "        x.pop()"
   ]
  },
  {
   "cell_type": "code",
   "execution_count": null,
   "metadata": {
    "collapsed": false
   },
   "outputs": [],
   "source": [
    "timeit testPopFront()"
   ]
  },
  {
   "cell_type": "code",
   "execution_count": null,
   "metadata": {
    "collapsed": false
   },
   "outputs": [],
   "source": [
    "timeit testPopBack()"
   ]
  },
  {
   "cell_type": "markdown",
   "metadata": {},
   "source": [
    "Popping from the back is faster, about twice as fast."
   ]
  },
  {
   "cell_type": "code",
   "execution_count": null,
   "metadata": {
    "collapsed": true
   },
   "outputs": [],
   "source": []
  }
 ],
 "metadata": {
  "anaconda-cloud": {},
  "kernelspec": {
   "display_name": "Python [Root]",
   "language": "python",
   "name": "Python [Root]"
  },
  "language_info": {
   "codemirror_mode": {
    "name": "ipython",
    "version": 3
   },
   "file_extension": ".py",
   "mimetype": "text/x-python",
   "name": "python",
   "nbconvert_exporter": "python",
   "pygments_lexer": "ipython3",
   "version": "3.5.2"
  }
 },
 "nbformat": 4,
 "nbformat_minor": 2
}
