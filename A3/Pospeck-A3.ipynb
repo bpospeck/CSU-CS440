{
 "cells": [
  {
   "cell_type": "markdown",
   "metadata": {},
   "source": [
    "# A3: A\\*, IDS, and Effective Branching Factor"
   ]
  },
  {
   "cell_type": "markdown",
   "metadata": {},
   "source": [
    "Bradley Pospeck"
   ]
  },
  {
   "cell_type": "markdown",
   "metadata": {},
   "source": [
    "## Overview"
   ]
  },
  {
   "cell_type": "markdown",
   "metadata": {},
   "source": [
    "In this assignment implementations of a recursive best-first search A\\* algorithm and an iterative deepening search are used. A\\* search is considered an informed or a heuristic search. The algorithm is told of an estimate of the total cost of the path to the goal and makes decisions on where to go based on those values.\n",
    "\n",
    "    At some intermediate node, the \n",
    "      estimated cost of the solution path =\n",
    "          the sum of the step costs so far from the start node to this node\n",
    "             +\n",
    "          an estimate of the sum of the remaining step costs to a goal\n",
    "\n",
    "Let's label these as\n",
    "\n",
    "   * $f(n) =$ estimated cost of the solution path through node $n$\n",
    "   * $g(n) =$ the sum of the step costs so far from the start node to this node\n",
    "   * $h(n) =$ an estimate of the sum of the remaining step costs to a goal\n",
    "\n",
    "*heuristic function*: $h(n) =$ estimated cost of the cheapest path from state at node $n$ to a goal state.\n",
    "\n",
    "For this assignment, 3 heuristics will be used. They are described below in \"Heuristic Functions\"."
   ]
  },
  {
   "cell_type": "markdown",
   "metadata": {},
   "source": [
    "While running the algorithms an effective branching factor (EBF) will be found. This will be used to compare the 4 algorithms. The branching factor of a tree is the number of children at each node. If this is not the same for all nodes, then we can find an average, or \"effective\" branching factor. There are 2 formulas that can be used for this, the latter of which is faster to solve than the other:\n",
    "\n",
    "(1) $$  1 + b + b^2 + \\cdots + b^d$$\n",
    "\n",
    "(2) $$ \\frac{1-b^{d+1}}{1-b}$$\n",
    "\n",
    "In both formulas $b$ stands for the efb, $d$ is the depth to the goal, and the result should be equal to the number of nodes explored.\n",
    "\n",
    "**Note: I used bits and pieces from lecture notes 7 and 10 for this Overview section**"
   ]
  },
  {
   "cell_type": "markdown",
   "metadata": {},
   "source": [
    "## Imports"
   ]
  },
  {
   "cell_type": "code",
   "execution_count": 1,
   "metadata": {
    "collapsed": true
   },
   "outputs": [],
   "source": [
    "import copy"
   ]
  },
  {
   "cell_type": "markdown",
   "metadata": {},
   "source": [
    "## Classes\n",
    "\n",
    "The class below was provided in Lecture 7: Informed Search. It's used by the A\\* search algorithm"
   ]
  },
  {
   "cell_type": "code",
   "execution_count": 2,
   "metadata": {
    "collapsed": true
   },
   "outputs": [],
   "source": [
    "class Node:\n",
    "    def __init__(self, state, f=0, g=0 ,h=0):\n",
    "        self.state = state\n",
    "        self.f = f\n",
    "        self.g = g\n",
    "        self.h = h\n",
    "    def __repr__(self):\n",
    "        return \"Node(\" + repr(self.state) + \", f=\" + repr(self.f) + \\\n",
    "               \", g=\" + repr(self.g) + \", h=\" + repr(self.h) + \")\""
   ]
  },
  {
   "cell_type": "markdown",
   "metadata": {},
   "source": [
    "## Search Functions"
   ]
  },
  {
   "cell_type": "markdown",
   "metadata": {},
   "source": [
    "The A\\* search algorithms were pulled directly from Informed search (Lecture 7). \n",
    "\n",
    "`aStarSearch` doesn't have its own heuristic functions. Those will be given to it so it doesn't need to worry about their implementations."
   ]
  },
  {
   "cell_type": "code",
   "execution_count": 3,
   "metadata": {
    "collapsed": true
   },
   "outputs": [],
   "source": [
    "def aStarSearch(startState, actionsF, takeActionF, goalTestF, hF):\n",
    "    \"\"\"Recursive best-first search algorithm implementation for A*\"\"\"\n",
    "    h = hF(startState)\n",
    "    startNode = Node(state=startState, f=0+h, g=0, h=h)\n",
    "    return aStarSearchHelper(startNode, actionsF, takeActionF, goalTestF, hF, float('inf'))"
   ]
  },
  {
   "cell_type": "code",
   "execution_count": 4,
   "metadata": {
    "collapsed": true
   },
   "outputs": [],
   "source": [
    "def aStarSearchHelper(parentNode, actionsF, takeActionF, goalTestF, hF, fmax):\n",
    "    \"\"\"Help to A* that does all of the heavy lifting\"\"\"\n",
    "    global nNodes\n",
    "    if goalTestF(parentNode.state):\n",
    "        return ([parentNode.state], parentNode.g)\n",
    "    ## Construct list of children nodes with f, g, and h values\n",
    "    actions = actionsF(parentNode.state)\n",
    "    if not actions:\n",
    "        return (\"failure\", float('inf'))\n",
    "    children = []\n",
    "    for action in actions:\n",
    "        nNodes +=1\n",
    "        (childState,stepCost) = takeActionF(parentNode.state, action)\n",
    "        h = hF(childState)\n",
    "        g = parentNode.g + stepCost\n",
    "        f = max(h+g, parentNode.f)\n",
    "        childNode = Node(state=childState, f=f, g=g, h=h)\n",
    "        children.append(childNode)\n",
    "    while True:\n",
    "        # find best child\n",
    "        children.sort(key = lambda n: n.f) # sort by f value\n",
    "        bestChild = children[0]\n",
    "        if bestChild.f > fmax:\n",
    "            return (\"failure\",bestChild.f)\n",
    "        # next lowest f value\n",
    "        alternativef = children[1].f if len(children) > 1 else float('inf')\n",
    "        # expand best child, reassign its f value to be returned value\n",
    "        result,bestChild.f = aStarSearchHelper(bestChild, actionsF, takeActionF, goalTestF,\n",
    "                                        hF, min(fmax,alternativef))\n",
    "        if result is not \"failure\":\n",
    "            result.insert(0,parentNode.state)  \n",
    "            return (result, bestChild.f) "
   ]
  },
  {
   "cell_type": "markdown",
   "metadata": {},
   "source": [
    "Effective branching factor is determined by the next 2 functions. `ebf` handles initial checks. These initial checks include base cases as well as iteratively finding a reasonable value for an upper bound on a binary search for the effective branching factor. Next `ebfBinSearch` takes those bounds from `ebf` and performs a binary search to try and find a $b$ such that the number of nodes is equal to:\n",
    "\n",
    "$$ \\frac{1-b^{d+1}}{1-b}$$"
   ]
  },
  {
   "cell_type": "code",
   "execution_count": 5,
   "metadata": {
    "collapsed": true
   },
   "outputs": [],
   "source": [
    "def ebfBinSearch(nNodes, depth, precision, lower, upper):\n",
    "    \"\"\"Performs binary search recursively to find and return the effective branching factor to ebf()\"\"\"\n",
    "    mid = (upper + lower)/2\n",
    "    if mid==1.0:\n",
    "        n = 1+mid\n",
    "    else:\n",
    "        n = (1 - mid**(depth+1) )/ (1 - mid)\n",
    "    if abs(n-nNodes) <= precision: \n",
    "        return mid\n",
    "    elif n > nNodes:\n",
    "        return ebfBinSearch(nNodes, depth, precision, lower, mid)\n",
    "    elif n < nNodes:\n",
    "        return ebfBinSearch(nNodes, depth, precision, mid, upper)"
   ]
  },
  {
   "cell_type": "code",
   "execution_count": 6,
   "metadata": {
    "collapsed": true
   },
   "outputs": [],
   "source": [
    "def ebf(nNodes, depth, precision=0.01):\n",
    "    \"\"\"Returns the effective branching factor found via binary search\"\"\"\n",
    "    if nNodes==0 and depth==0:\n",
    "        return 0.0\n",
    "    elif nNodes ==1 and depth==0:\n",
    "        return 1.0\n",
    "    else:\n",
    "        b = float(depth)\n",
    "        if b==1.00: b=2.0\n",
    "        while (1 - b**(depth+1))/(1-b) < nNodes:\n",
    "            b *= 2\n",
    "        bUpper = b\n",
    "        bLower = 0.0 \n",
    "        return ebfBinSearch(nNodes, depth, precision, bLower, bUpper)"
   ]
  },
  {
   "cell_type": "markdown",
   "metadata": {},
   "source": [
    "The next 2 functions are used from my A2 solutions. They're simply a recursive definition of iterative deepening search (IDS). Function definitions have further descriptions of what they do."
   ]
  },
  {
   "cell_type": "code",
   "execution_count": 7,
   "metadata": {
    "collapsed": true
   },
   "outputs": [],
   "source": [
    "def depthLimitedSearch(state, goalState, actionsF, takeActionF, depthLimit):\n",
    "    \"\"\"Recursive definition of a depth limited search. Attempts to find the 'goalState' from the 'state'. Uses passed in \n",
    "    functions 'actionsF' and 'takeActionF' to determine which actions are viable before iterating through those actions.\"\"\"\n",
    "    global nNodes\n",
    "    if state == goalState:\n",
    "        return []\n",
    "    if depthLimit == 0:\n",
    "        return 'cutoff'\n",
    "    cutoffOccurred = False\n",
    "    for action in actionsF(state):\n",
    "        nNodes +=1\n",
    "        childState,_ = takeActionF(state, action) #underscore is anonymous variable that won't be used: absorbs cost\n",
    "        result = depthLimitedSearch(childState, goalState, actionsF, takeActionF, depthLimit-1)\n",
    "        if result == 'cutoff':\n",
    "            cutoffOccurred = True\n",
    "        elif result != 'failure':\n",
    "            result.insert(0,childState)\n",
    "            return result\n",
    "    if cutoffOccurred:\n",
    "        return 'cutoff'\n",
    "    else:\n",
    "        return 'failure'"
   ]
  },
  {
   "cell_type": "code",
   "execution_count": 8,
   "metadata": {
    "collapsed": true
   },
   "outputs": [],
   "source": [
    "def iterativeDeepeningSearch(startState, goalState, actionsF, takeActionF, maxDepth=100):\n",
    "    \"\"\"Calls 'depthLimitedSearch' at a range of depths up to 'maxDepth' in order to try and find the 'goalState' from\n",
    "    'startState'\"\"\"\n",
    "    for depth in range(maxDepth):\n",
    "        result = depthLimitedSearch(startState, goalState, actionsF, takeActionF, depth)\n",
    "        if result == 'failure':\n",
    "            return 'failure'\n",
    "        if result != 'cutoff':\n",
    "            result.insert(0,startState)       \n",
    "            return result\n",
    "    return 'cutoff'"
   ]
  },
  {
   "cell_type": "markdown",
   "metadata": {},
   "source": [
    "## 8-Tile Puzzle Functions"
   ]
  },
  {
   "cell_type": "markdown",
   "metadata": {},
   "source": [
    "Most of the following functions are 8-tile puzzle functions I made from A2. There are slight modifications to both `actionsF_8p` and `takeActionF_8p`, but only to return the associated cost with the actions. They otherwise function exactly the same. A new function here is `goalTestF_8p` which determines whether or not the current state is the same as the goal state. Brief function descriptions are found within the definitions themselves."
   ]
  },
  {
   "cell_type": "code",
   "execution_count": 9,
   "metadata": {
    "collapsed": true
   },
   "outputs": [],
   "source": [
    "def findBlank_8p(state):\n",
    "    \"\"\"Finds and returns the (row,column) index for the current state's blank/0 location\"\"\"\n",
    "    index = state.index(0)\n",
    "    row = int(index/3)\n",
    "    col = index % 3\n",
    "    return (row, col)"
   ]
  },
  {
   "cell_type": "code",
   "execution_count": 10,
   "metadata": {
    "collapsed": true
   },
   "outputs": [],
   "source": [
    "def actionsF_8p(state):\n",
    "    \"\"\"Takes the current state and returns a list of the valid actions. Four possible actions: left, right, up, down.\"\"\"\n",
    "    left = ('left',1)\n",
    "    right= ('right',1)\n",
    "    up   = ('up',1)\n",
    "    down = ('down',1)\n",
    "    actions = [left,right,up,down]\n",
    "    blank = findBlank_8p(state)\n",
    "    if(blank[0] == 0):\n",
    "        if up in actions: actions.remove(up)#actions should never be removed before here, but it's good housekeeping to check\n",
    "    if(blank[0] == 2):\n",
    "        if down in actions: actions.remove(down)\n",
    "    if(blank[1] == 0):\n",
    "        if left in actions: actions.remove(left)\n",
    "    if(blank[1] == 2):\n",
    "        if right in actions: actions.remove(right)\n",
    "    return actions"
   ]
  },
  {
   "cell_type": "code",
   "execution_count": 11,
   "metadata": {
    "collapsed": true
   },
   "outputs": [],
   "source": [
    "def takeActionF_8p(state, action):\n",
    "    \"\"\"Apply the given action to state and return the resulting state\"\"\"\n",
    "    cp = copy.copy(state) # If a copy isn't taken, the action will permanently change the original state passed in, which is bad\n",
    "    index = cp.index(0)\n",
    "    left = ('left',1)\n",
    "    right= ('right',1)\n",
    "    up   = ('up',1)\n",
    "    down = ('down',1)\n",
    "    if(action == left):\n",
    "        temp = cp[index-1]\n",
    "        cp[index-1] = 0\n",
    "        cp[index] = temp\n",
    "    elif(action == right):\n",
    "        temp = cp[index+1]\n",
    "        cp[index+1] = 0\n",
    "        cp[index] = temp\n",
    "    elif(action == up):\n",
    "        temp = cp[index-3]\n",
    "        cp[index-3] = 0\n",
    "        cp[index] = temp\n",
    "    else: #action is down\n",
    "        temp = cp[index+3]\n",
    "        cp[index+3] = 0\n",
    "        cp[index] = temp\n",
    "    return (cp,1)"
   ]
  },
  {
   "cell_type": "code",
   "execution_count": 12,
   "metadata": {
    "collapsed": true
   },
   "outputs": [],
   "source": [
    "def goalTestF_8p(state, goal):\n",
    "    \"\"\"Returns True if state is equal to goal, false otherwise\"\"\"\n",
    "    return state == goal"
   ]
  },
  {
   "cell_type": "markdown",
   "metadata": {},
   "source": [
    "## Heuristic Functions\n",
    "\n",
    "For `aStarSearch` three heuristic functions will be used. All 3 must be admissible. The first 2 were provided by the assignment and are admissible. The 3rd heuristic is one provided by me. \n",
    "\n",
    "  * `h1_8p(state, goal)`: $h(state, goal) = 0$, for all states $state$ and all goal states $goal$,\n",
    "  * `h2_8p(state, goal)`: $h(state, goal) = m$, where $m$ is the Manhattan distance that the blank is from its goal position,\n",
    "  * `h3_8p(state, goal)`: $h(state, goal) = n$, where $n$ is the number of tiles that are misplaced (excluding the blank)\n",
    "  \n",
    "The heuristic I'm using is in fact admissible. In the condition where the state is at the goal state, there will be no misplaced tiles. The heuristic will correctly output 0 in this case, which is less than or equal to the actual cost. Now, the blank is essentially the only 'piece' to ever move in the 8 puzzle. If a tile is misplaced, it can only be moved when the blank switches places with it. Because of these 2 facts, if 6 tiles are out of place, the blank needs to move a minimum of 6 places to try and correct those 6 tiles. My heuristic will never be able to overestimate the cost."
   ]
  },
  {
   "cell_type": "code",
   "execution_count": 13,
   "metadata": {
    "collapsed": true
   },
   "outputs": [],
   "source": [
    "def h1_8p(state, goal):\n",
    "    return 0"
   ]
  },
  {
   "cell_type": "code",
   "execution_count": 14,
   "metadata": {
    "collapsed": true
   },
   "outputs": [],
   "source": [
    "def h2_8p(state, goal):\n",
    "    sRow,sCol = findBlank_8p(state)\n",
    "    gRow,gCol = findBlank_8p(goal)\n",
    "    m = abs(sRow-gRow) + abs(sCol-gCol)\n",
    "    return m"
   ]
  },
  {
   "cell_type": "code",
   "execution_count": 15,
   "metadata": {
    "collapsed": true
   },
   "outputs": [],
   "source": [
    "def h3_8p(state, goal):\n",
    "    n=0\n",
    "    for i in range(len(state)):\n",
    "        if state[i] != goal[i] and state[i] != 0: n+=1\n",
    "    return n"
   ]
  },
  {
   "cell_type": "markdown",
   "metadata": {},
   "source": [
    "## Other Functions"
   ]
  },
  {
   "cell_type": "markdown",
   "metadata": {},
   "source": [
    "These last 2 functions are essentially the 'main' or 'driver' functions. The function `rumExperiment` will take in 3 goalstates as well as a list of heuristics and run `iterativeDeepeningSearch` and `aStarSearch` algorithms on all 3 goals. `aStarSearch` will be ran with each heuristic and goal for a total of (number of heuristics)\\*(3 goals) times. Finally`printComparison` will be used to output a nicely formatted table summarizing the results."
   ]
  },
  {
   "cell_type": "code",
   "execution_count": 16,
   "metadata": {
    "collapsed": true
   },
   "outputs": [],
   "source": [
    "def printComparison(goal1, goal2, goal3, results):\n",
    "    \"\"\"Simply formats and prints out the comparison between all 4 algorithms in this assignment\"\"\"\n",
    "    print(\"\\t{0}\\t{1}\\t{2}\".format(goal1,goal2,goal3))\n",
    "    print(\"{0:>9s} {1:>7s} {2:>5s} {3:>4s} {1:>21s} {2:>5s} {3:>4s} {1:>21s} {2:>5s} {3:>4s}\".format(\"Algorithm\",\"Nodes\",\n",
    "                                                                                                    \"Depth\",\"EBF\"))\n",
    "    print(\"{0:>9s} {1:^7d} {2:^5d} {3:.3f} {4:>20d} {5:^5d} {6:.3f} {7:>20d} {8:^5d} {9:.3f}\".format(\"IDS\",results[0][0],\n",
    "        results[0][1],results[0][2],results[1][0],results[1][1],results[1][2],results[2][0],results[2][1],results[2][2]))   \n",
    "    print(\"{0:>9s} {1:^7d} {2:^5d} {3:.3f} {4:>20d} {5:^5d} {6:.3f} {7:>20d} {8:^5d} {9:.3f}\".format(\"A*h1\",results[3][0],\n",
    "        results[3][1],results[3][2],results[4][0],results[4][1],results[4][2],results[5][0],results[5][1],results[5][2])) \n",
    "    print(\"{0:>9s} {1:^7d} {2:^5d} {3:.3f} {4:>20d} {5:^5d} {6:.3f} {7:>20d} {8:^5d} {9:.3f}\".format(\"A*h2\",results[6][0],\n",
    "        results[6][1],results[6][2],results[7][0],results[7][1],results[7][2],results[8][0],results[8][1],results[8][2])) \n",
    "    print(\"{0:>9s} {1:^7d} {2:^5d} {3:.3f} {4:>20d} {5:^5d} {6:.3f} {7:>20d} {8:^5d} {9:.3f}\".format(\"A*h3\",results[9][0],\n",
    "        results[9][1],results[9][2],results[10][0],results[10][1],results[10][2],results[11][0],results[11][1],results[11][2]))"
   ]
  },
  {
   "cell_type": "code",
   "execution_count": 17,
   "metadata": {
    "collapsed": true
   },
   "outputs": [],
   "source": [
    "def runExperiment(goalState1, goalState2, goalState3, heuristics):\n",
    "    \"\"\"Runs iterativeDeepeningSearch and A* search with 3 provided goals. A* runs as many times as there are heuristics\"\"\"\n",
    "    global nNodes\n",
    "    start = [1, 2, 3, 4, 0, 5, 6, 7, 8]\n",
    "    result = []\n",
    "    resultInfo = []\n",
    "    result = iterativeDeepeningSearch(start, goalState1, actionsF_8p, takeActionF_8p)\n",
    "    depth = len(result) - 1\n",
    "    resultInfo.append([nNodes, depth, ebf(nNodes, depth)])\n",
    "    nNodes=0\n",
    "    result = iterativeDeepeningSearch(start, goalState2, actionsF_8p, takeActionF_8p)\n",
    "    depth = len(result) - 1\n",
    "    resultInfo.append([nNodes, depth, ebf(nNodes, depth)])\n",
    "    nNodes=0\n",
    "    result = iterativeDeepeningSearch(start, goalState3, actionsF_8p, takeActionF_8p)\n",
    "    depth = len(result) - 1\n",
    "    resultInfo.append([nNodes, depth, ebf(nNodes, depth)])\n",
    "    nNodes=0\n",
    "    for heuristic in heuristics:\n",
    "        result,_ = aStarSearch(start, actionsF_8p, takeActionF_8p, \n",
    "                            lambda s: goalTestF_8p(s, goalState1), lambda s: heuristic(s, goalState1))\n",
    "        depth = len(result) - 1\n",
    "        resultInfo.append([nNodes, depth, ebf(nNodes, depth)])\n",
    "        nNodes=0\n",
    "        result,_ = aStarSearch(start, actionsF_8p, takeActionF_8p, \n",
    "                            lambda s: goalTestF_8p(s, goalState2), lambda s: heuristic(s, goalState2))\n",
    "        depth = len(result) - 1\n",
    "        resultInfo.append([nNodes, depth, ebf(nNodes, depth)])\n",
    "        nNodes=0\n",
    "        result,_ = aStarSearch(start, actionsF_8p, takeActionF_8p, \n",
    "                            lambda s: goalTestF_8p(s, goalState3), lambda s: heuristic(s, goalState3))\n",
    "        depth = len(result) - 1\n",
    "        resultInfo.append([nNodes, depth, ebf(nNodes, depth)])\n",
    "        nNodes=0\n",
    "    printComparison(goalState1, goalState2, goalState3, resultInfo)"
   ]
  },
  {
   "cell_type": "markdown",
   "metadata": {},
   "source": [
    "## Comparison"
   ]
  },
  {
   "cell_type": "markdown",
   "metadata": {},
   "source": [
    "Four algorithms will be applied to three 8-tile puzzles with the same start. The first algorithm will be `iterativeDeepeningSearch` and the last 3 will be 3 different heuristic functions applied in `aStarSearch`.\n",
    "\n",
    "The start state is as follows:\n",
    "\n",
    "$$\n",
    "\\begin{array}{ccc}\n",
    "1 & 2 & 3\\\\\n",
    "4 & 0 & 5\\\\\n",
    "6 & 7 & 8\n",
    "\\end{array}\n",
    "$$\n",
    "\n",
    "The 3 goal states are as follows:\n",
    "\n",
    "$$\n",
    "\\begin{array}{ccccccccccc}\n",
    "1 & 2 & 3  & ~~~~ & 1 & 2 & 3  &  ~~~~ & 1 & 0 &  3\\\\\n",
    "4 & 0 & 5  & & 4 & 5 & 8  & & 4 & 5 & 8\\\\\n",
    "6 & 7 & 8 &  & 6 & 0 & 7  & & 2 & 6 & 7\n",
    "\\end{array}\n",
    "$$"
   ]
  },
  {
   "cell_type": "code",
   "execution_count": 18,
   "metadata": {},
   "outputs": [
    {
     "name": "stdout",
     "output_type": "stream",
     "text": [
      "\t[1, 2, 3, 4, 0, 5, 6, 7, 8]\t[1, 2, 3, 4, 5, 8, 6, 0, 7]\t[1, 0, 3, 4, 5, 8, 2, 6, 7]\n",
      "Algorithm   Nodes Depth  EBF                 Nodes Depth  EBF                 Nodes Depth  EBF\n",
      "      IDS    0      0   0.000                   43   3   3.086               225850  11   2.954\n",
      "     A*h1    0      0   0.000                  116   3   4.488               643246  11   3.263\n",
      "     A*h2    0      0   0.000                   51   3   3.297               100046  11   2.733\n",
      "     A*h3    0      0   0.000                    9   3   1.578                 4785  11   2.031\n"
     ]
    }
   ],
   "source": [
    "global nNodes\n",
    "nNodes=0 # Just to ensure nNodes is always set to zero before running the experiment so no issues occur when re-running this cell\n",
    "\n",
    "g1 = [1,2,3,4,0,5,6,7,8]\n",
    "g2 = [1,2,3,4,5,8,6,0,7]\n",
    "g3 = [1,0,3,4,5,8,2,6,7]\n",
    "\n",
    "results = runExperiment(g1,g2,g3,[h1_8p,h2_8p,h3_8p])"
   ]
  },
  {
   "cell_type": "markdown",
   "metadata": {},
   "source": [
    "The best heuristic appears to be the one that I came up with, A\\*h3. It explores far less nodes than any of the other algorithms. In the second goal, it explores almost 5 times less nodes than the 2nd best (IDS). For goal number 3, it explores almost 21 times less nodes than the 2nd best algorithm (A\\*h2). Given the growing difference between A\\*h3 and the other algorithms with larger depth, it shows that a better heuristic can drastically improve runtimes.\n",
    "\n",
    "In general though, it appears that even a relatively simple heuristic can outperform a standard iterative deepening search as the problem gets larger. For the 2nd goal, A\\*h2 does slightly worse than IDS. But with goal 3, A\\*h2 suddenly outperforms IDS by over a factor of 2 times. \n",
    "\n",
    "These results lead me to firmly believe that A\\* algorithms are absolutely the way to go when it comes to path searching. This is of course assuming the heuristic paired with A\\* isn't as \"dumb\" as A\\*h1 that always returns 0. "
   ]
  },
  {
   "cell_type": "markdown",
   "metadata": {},
   "source": [
    "## Function Robustness Check"
   ]
  },
  {
   "cell_type": "markdown",
   "metadata": {},
   "source": [
    "There's just 1 basic example with characters here that was provided with the assignment. It's just an additional way to ensure the search algorithms are general and can handle multiple types of data."
   ]
  },
  {
   "cell_type": "code",
   "execution_count": 19,
   "metadata": {
    "collapsed": true
   },
   "outputs": [],
   "source": [
    "def actionsF_simple(state):\n",
    "    succs = {'a': ['b', 'c'], 'b':['a'], 'c':['h'], 'h':['i'], 'i':['j', 'k', 'l'], 'k':['z']}\n",
    "    return [(s, 1) for s in succs.get(state, [])]\n",
    "\n",
    "def takeActionF_simple(state, action):\n",
    "    return action\n",
    "\n",
    "def goalTestF_simple(state, goal):\n",
    "    return state == goal\n",
    "\n",
    "def h_simple(state, goal):\n",
    "    return 1"
   ]
  },
  {
   "cell_type": "code",
   "execution_count": 20,
   "metadata": {},
   "outputs": [
    {
     "data": {
      "text/plain": [
       "[('b', 1), ('c', 1)]"
      ]
     },
     "execution_count": 20,
     "metadata": {},
     "output_type": "execute_result"
    }
   ],
   "source": [
    "actions = actionsF_simple('a')\n",
    "actions"
   ]
  },
  {
   "cell_type": "code",
   "execution_count": 21,
   "metadata": {},
   "outputs": [
    {
     "data": {
      "text/plain": [
       "('b', 1)"
      ]
     },
     "execution_count": 21,
     "metadata": {},
     "output_type": "execute_result"
    }
   ],
   "source": [
    "takeActionF_simple('a', actions[0])"
   ]
  },
  {
   "cell_type": "code",
   "execution_count": 22,
   "metadata": {},
   "outputs": [
    {
     "data": {
      "text/plain": [
       "True"
      ]
     },
     "execution_count": 22,
     "metadata": {},
     "output_type": "execute_result"
    }
   ],
   "source": [
    "goalTestF_simple('a', 'a')"
   ]
  },
  {
   "cell_type": "code",
   "execution_count": 23,
   "metadata": {},
   "outputs": [
    {
     "data": {
      "text/plain": [
       "1"
      ]
     },
     "execution_count": 23,
     "metadata": {},
     "output_type": "execute_result"
    }
   ],
   "source": [
    "h_simple('a', 'z')"
   ]
  },
  {
   "cell_type": "code",
   "execution_count": 24,
   "metadata": {},
   "outputs": [
    {
     "data": {
      "text/plain": [
       "['a', 'c', 'h', 'i', 'k', 'z']"
      ]
     },
     "execution_count": 24,
     "metadata": {},
     "output_type": "execute_result"
    }
   ],
   "source": [
    "iterativeDeepeningSearch('a', 'z', actionsF_simple, takeActionF_simple, 10)"
   ]
  },
  {
   "cell_type": "code",
   "execution_count": 25,
   "metadata": {},
   "outputs": [
    {
     "data": {
      "text/plain": [
       "(['a', 'c', 'h', 'i', 'k', 'z'], 5)"
      ]
     },
     "execution_count": 25,
     "metadata": {},
     "output_type": "execute_result"
    }
   ],
   "source": [
    "aStarSearch('a',actionsF_simple, takeActionF_simple,\n",
    "            lambda s: goalTestF_simple(s, 'z'),\n",
    "            lambda s: h_simple(s, 'z'))"
   ]
  },
  {
   "cell_type": "markdown",
   "metadata": {},
   "source": [
    "## Grading"
   ]
  },
  {
   "cell_type": "code",
   "execution_count": 26,
   "metadata": {},
   "outputs": [
    {
     "name": "stdout",
     "output_type": "stream",
     "text": [
      "\n",
      "Testing actionsF_8p([1, 2, 3, 4, 5, 6, 7, 0, 8])\n",
      "\n",
      "--- 5/5 points. Your actionsF_8p correctly returned [('left', 1), ('right', 1), ('up', 1)]\n",
      "\n",
      "Testing takeActionF_8p([1, 2, 3, 4, 5, 6, 7, 0, 8], (up, 1))\n",
      "\n",
      "--- 5/5 points. Your takeActionsF_8p correctly returned ([1, 2, 3, 4, 0, 6, 7, 5, 8], 1)\n",
      "\n",
      "Testing goalTestF_8p([1, 2, 3, 4, 5, 6, 7, 0, 8], [1, 2, 3, 4, 5, 6, 7, 0, 8])\n",
      "\n",
      "--- 5/5 points. Your goalTestF_8p correctly True\n",
      "\n",
      "Testing aStarSearch([1, 2, 3, 4, 5, 6, 7, 0, 8],\n",
      "                     actionsF_8p, takeActionF_8p,\n",
      "                     lambda s: goalTestF_8p(s, [0, 2, 3, 1, 4,  6, 7, 5, 8]),\n",
      "                     lambda s: h1_8p(s, [0, 2, 3, 1, 4,  6, 7, 5, 8]))\n",
      "\n",
      "--- 20/20 points. Your search correctly returned ([[1, 2, 3, 4, 5, 6, 7, 0, 8], [1, 2, 3, 4, 0, 6, 7, 5, 8], [1, 2, 3, 0, 4, 6, 7, 5, 8], [0, 2, 3, 1, 4, 6, 7, 5, 8]], 3)\n",
      "\n",
      "Testing iterativeDeepeningSearch([5, 2, 8, 0, 1, 4, 3, 7, 6], \n",
      "                                 [0, 2, 3, 1, 4,  6, 7, 5, 8],\n",
      "                                 actionsF_8p, takeActionF_8p, 10)\n",
      "\n",
      "--- 15/15 points. Your search correctly returned cutoff\n",
      "\n",
      "C:\\Users\\Brad Pospeck\\Desktop\\Classes\\Senior III\\cs\\cs440\\A3 Grade is 50/50\n"
     ]
    }
   ],
   "source": [
    "%run -i A3grader.py"
   ]
  },
  {
   "cell_type": "code",
   "execution_count": null,
   "metadata": {
    "collapsed": true
   },
   "outputs": [],
   "source": []
  }
 ],
 "metadata": {
  "anaconda-cloud": {},
  "kernelspec": {
   "display_name": "Python [conda root]",
   "language": "python",
   "name": "conda-root-py"
  },
  "language_info": {
   "codemirror_mode": {
    "name": "ipython",
    "version": 3
   },
   "file_extension": ".py",
   "mimetype": "text/x-python",
   "name": "python",
   "nbconvert_exporter": "python",
   "pygments_lexer": "ipython3",
   "version": "3.5.4"
  }
 },
 "nbformat": 4,
 "nbformat_minor": 1
}
